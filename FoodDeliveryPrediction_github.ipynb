{
 "cells": [
  {
   "cell_type": "markdown",
   "metadata": {},
   "source": [
    "# Data description #### \n",
    "The attached file `historical_data.csv` contains a subset of hypothetical deliveries from an hypothetical food delivery company in early 2015 in a subset of the cities. Each row in this file corresponds to one unique delivery. Each column corresponds to a feature as explained below. Note all money (dollar) values given in the data are in cents and all time duration values given are in seconds \n",
    "The target value to predict here is the total seconds value between `created_at` and `actual_delivery_time`. \n",
    "\n",
    "We have added noise to the dataset to obfuscate certain business details. Both `historical_data.csv` and `predict_data.csv` include similar noise. We will only be evaluating your model's performance on this noisy, artificial dataset. The baseline model we will compare it was also trained and evaluated on the same noisy dataset.\n",
    "\n",
    "## Columns in historical_data.csv\n",
    "\n",
    "### Time features\n",
    "*market_id*: A city/region in which the food delivery company operates, e.g., Los Angeles, given in the data as an id.\n",
    "\n",
    "*created_at*: Timestamp in UTC when the order was submitted by the consumer to the food delivery company. (Note this timestamp is in UTC, but in case you need it, the actual timezone of the region was US/Pacific)\n",
    "\n",
    "*actual_delivery_time*: Timestamp in UTC when the order was delivered to the consumer\n",
    "\n",
    "### Store features \n",
    "*store_id*: an id representing the restaurant the order was submitted for\n",
    "\n",
    "### Order features\n",
    "*subtotal*: total value of the order submitted (in cents)\n",
    "\n",
    "### Market features\n",
    "The following features are values at the time of `created_at` (order submission time)\n",
    "\n",
    "*total_onshift*: Number of available delivery-drivers who are within 10 miles of the store at the time of order creation. \n",
    "\n",
    "*total_busy*: Subset of above `total_onshift_dashers` who are currently working on an order.\n",
    "\n",
    "*total_outstanding_orders*: Number of orders within 10 miles of this order that are currently being processed.\n",
    "\n",
    "### Predictions from other models:\n",
    "We have predictions from other models for various stages of delivery process that we can use.\n",
    "\n",
    "*estimated_store_to_consumer_driving_duration*: Estimated travel time between store and consumer (in seconds)\n",
    "\n",
    "\n",
    "\n",
    "## Data to predict #### \n",
    "Also attached here is `predict_data.csv`, which provides the new data that you must predict on using the model you build. This data was generated similar to the `historical_data.csv` and it contains the same columns as above, except for the following differences:\n",
    "  * This file does not contain `actual_delivery_time`, since that is unknown at the time of prediction\n",
    "  * This file contains `delivery_id` as additional field\n",
    "\n",
    "Each row of the data is one data point to predict on. Note that `predict_data.csv` contains orders from later weeks compared to `historical_data` \n"
   ]
  },
  {
   "cell_type": "markdown",
   "metadata": {},
   "source": [
    "**Response:**\n",
    "the following notebook intends to predict the delivery time of the predict_data set using as information historical_data which contains past history recorded deliveries.\n",
    "\n",
    "The notebook is organized as follows:"
   ]
  },
  {
   "cell_type": "raw",
   "metadata": {},
   "source": []
  },
  {
   "cell_type": "markdown",
   "metadata": {},
   "source": [
    "**Introduction**\n",
    "\n",
    "The following notebook intends to predict delivery time using several Machine Learning algorithms, from regressions and trees to deep learning networks.\n",
    "\n",
    "Several standard tasks are done before to do so, from etl, cleaning, outliers treatment, scaling the data and solving for missing data.\n",
    "\n",
    "The following document is organized as follows:\n",
    "\n",
    "- 1 Importing packages and datasets\n",
    "- 2 Feature Engineering\n",
    "- 3 Null Values Treatment\n",
    "- 4 One-hot encoding Categorical Variables\n",
    "- 5 Outlier research\n",
    "- 6 Train and Validation split\n",
    "- 7 Scaling the data\n",
    "- 8a Neural Network model\n",
    "- 8b LSTM Neural Network model\n",
    "- 9a Decision Tree model\n",
    "- 9b Bagging Regressor Tree model\n",
    "- 9c Random Forrest\n",
    "- 10a Lasso Regularized Regression\n",
    "- 10b Ridge Regularized Regression\n",
    "- 11 Summary of Models and Re-traning\n",
    "- 12 Pre-procesing Test data\n",
    "- 13 Predicting Test set\n",
    "- 14 Exporting predictions"
   ]
  },
  {
   "cell_type": "markdown",
   "metadata": {},
   "source": [
    "## 1. Importing packages and datasets"
   ]
  },
  {
   "cell_type": "code",
   "execution_count": 1,
   "metadata": {},
   "outputs": [],
   "source": [
    "import pandas as pd\n",
    "import numpy as np\n",
    "\n",
    "import datetime\n",
    "from datetime import datetime as dt\n",
    "\n",
    "import matplotlib.pyplot as plt\n",
    "plt.style.use('ggplot')\n",
    "%matplotlib inline"
   ]
  },
  {
   "cell_type": "code",
   "execution_count": 2,
   "metadata": {},
   "outputs": [],
   "source": [
    "# Train set (historical_data) defined as df\n",
    "df = pd.read_csv('historical_data.csv',parse_dates=['created_at','actual_delivery_time'])"
   ]
  },
  {
   "cell_type": "code",
   "execution_count": 3,
   "metadata": {
    "scrolled": true
   },
   "outputs": [
    {
     "data": {
      "text/html": [
       "<div>\n",
       "<style scoped>\n",
       "    .dataframe tbody tr th:only-of-type {\n",
       "        vertical-align: middle;\n",
       "    }\n",
       "\n",
       "    .dataframe tbody tr th {\n",
       "        vertical-align: top;\n",
       "    }\n",
       "\n",
       "    .dataframe thead th {\n",
       "        text-align: right;\n",
       "    }\n",
       "</style>\n",
       "<table border=\"1\" class=\"dataframe\">\n",
       "  <thead>\n",
       "    <tr style=\"text-align: right;\">\n",
       "      <th></th>\n",
       "      <th>market_id</th>\n",
       "      <th>created_at</th>\n",
       "      <th>actual_delivery_time</th>\n",
       "      <th>store_id</th>\n",
       "      <th>subtotal</th>\n",
       "      <th>total_onshift_dashers</th>\n",
       "      <th>total_busy_dashers</th>\n",
       "      <th>total_outstanding_orders</th>\n",
       "      <th>estimated_store_to_consumer_driving_duration</th>\n",
       "    </tr>\n",
       "  </thead>\n",
       "  <tbody>\n",
       "    <tr>\n",
       "      <th>0</th>\n",
       "      <td>1.0</td>\n",
       "      <td>2015-02-06 22:24:17</td>\n",
       "      <td>2015-02-06 23:27:16</td>\n",
       "      <td>1845</td>\n",
       "      <td>3441</td>\n",
       "      <td>33.0</td>\n",
       "      <td>14.0</td>\n",
       "      <td>21.0</td>\n",
       "      <td>861.0</td>\n",
       "    </tr>\n",
       "    <tr>\n",
       "      <th>1</th>\n",
       "      <td>2.0</td>\n",
       "      <td>2015-02-10 21:49:25</td>\n",
       "      <td>2015-02-10 22:56:29</td>\n",
       "      <td>5477</td>\n",
       "      <td>1900</td>\n",
       "      <td>1.0</td>\n",
       "      <td>2.0</td>\n",
       "      <td>2.0</td>\n",
       "      <td>690.0</td>\n",
       "    </tr>\n",
       "  </tbody>\n",
       "</table>\n",
       "</div>"
      ],
      "text/plain": [
       "   market_id          created_at actual_delivery_time  store_id  subtotal  \\\n",
       "0        1.0 2015-02-06 22:24:17  2015-02-06 23:27:16      1845      3441   \n",
       "1        2.0 2015-02-10 21:49:25  2015-02-10 22:56:29      5477      1900   \n",
       "\n",
       "   total_onshift_dashers  total_busy_dashers  total_outstanding_orders  \\\n",
       "0                   33.0                14.0                      21.0   \n",
       "1                    1.0                 2.0                       2.0   \n",
       "\n",
       "   estimated_store_to_consumer_driving_duration  \n",
       "0                                         861.0  \n",
       "1                                         690.0  "
      ]
     },
     "execution_count": 3,
     "metadata": {},
     "output_type": "execute_result"
    }
   ],
   "source": [
    "# Preview\n",
    "df.head(2)"
   ]
  },
  {
   "cell_type": "code",
   "execution_count": 4,
   "metadata": {},
   "outputs": [
    {
     "data": {
      "text/plain": [
       "(197428, 9)"
      ]
     },
     "execution_count": 4,
     "metadata": {},
     "output_type": "execute_result"
    }
   ],
   "source": [
    "# Dimensions of Train set\n",
    "df.shape"
   ]
  },
  {
   "cell_type": "code",
   "execution_count": 5,
   "metadata": {},
   "outputs": [
    {
     "name": "stdout",
     "output_type": "stream",
     "text": [
      "<class 'pandas.core.frame.DataFrame'>\n",
      "RangeIndex: 197428 entries, 0 to 197427\n",
      "Data columns (total 9 columns):\n",
      " #   Column                                        Non-Null Count   Dtype         \n",
      "---  ------                                        --------------   -----         \n",
      " 0   market_id                                     196441 non-null  float64       \n",
      " 1   created_at                                    197428 non-null  datetime64[ns]\n",
      " 2   actual_delivery_time                          197421 non-null  datetime64[ns]\n",
      " 3   store_id                                      197428 non-null  int64         \n",
      " 4   subtotal                                      197428 non-null  int64         \n",
      " 5   total_onshift_dashers                         181166 non-null  float64       \n",
      " 6   total_busy_dashers                            181166 non-null  float64       \n",
      " 7   total_outstanding_orders                      181166 non-null  float64       \n",
      " 8   estimated_store_to_consumer_driving_duration  196902 non-null  float64       \n",
      "dtypes: datetime64[ns](2), float64(5), int64(2)\n",
      "memory usage: 13.6 MB\n"
     ]
    }
   ],
   "source": [
    "# Types of data points and null count\n",
    "df.info()"
   ]
  },
  {
   "cell_type": "markdown",
   "metadata": {},
   "source": [
    "#### transforming to dates"
   ]
  },
  {
   "cell_type": "code",
   "execution_count": 6,
   "metadata": {},
   "outputs": [
    {
     "data": {
      "text/html": [
       "<div>\n",
       "<style scoped>\n",
       "    .dataframe tbody tr th:only-of-type {\n",
       "        vertical-align: middle;\n",
       "    }\n",
       "\n",
       "    .dataframe tbody tr th {\n",
       "        vertical-align: top;\n",
       "    }\n",
       "\n",
       "    .dataframe thead th {\n",
       "        text-align: right;\n",
       "    }\n",
       "</style>\n",
       "<table border=\"1\" class=\"dataframe\">\n",
       "  <thead>\n",
       "    <tr style=\"text-align: right;\">\n",
       "      <th></th>\n",
       "      <th>market_id</th>\n",
       "      <th>store_id</th>\n",
       "      <th>subtotal</th>\n",
       "      <th>total_onshift_dashers</th>\n",
       "      <th>total_busy_dashers</th>\n",
       "      <th>total_outstanding_orders</th>\n",
       "      <th>estimated_store_to_consumer_driving_duration</th>\n",
       "    </tr>\n",
       "  </thead>\n",
       "  <tbody>\n",
       "    <tr>\n",
       "      <th>count</th>\n",
       "      <td>196441.000000</td>\n",
       "      <td>197428.000000</td>\n",
       "      <td>197428.000000</td>\n",
       "      <td>181166.000000</td>\n",
       "      <td>181166.000000</td>\n",
       "      <td>181166.000000</td>\n",
       "      <td>196902.000000</td>\n",
       "    </tr>\n",
       "    <tr>\n",
       "      <th>mean</th>\n",
       "      <td>2.978706</td>\n",
       "      <td>3530.510272</td>\n",
       "      <td>2682.331402</td>\n",
       "      <td>44.808093</td>\n",
       "      <td>41.739747</td>\n",
       "      <td>58.050065</td>\n",
       "      <td>545.358935</td>\n",
       "    </tr>\n",
       "    <tr>\n",
       "      <th>std</th>\n",
       "      <td>1.524867</td>\n",
       "      <td>2053.496711</td>\n",
       "      <td>1823.093688</td>\n",
       "      <td>34.526783</td>\n",
       "      <td>32.145733</td>\n",
       "      <td>52.661830</td>\n",
       "      <td>219.352902</td>\n",
       "    </tr>\n",
       "    <tr>\n",
       "      <th>min</th>\n",
       "      <td>1.000000</td>\n",
       "      <td>1.000000</td>\n",
       "      <td>0.000000</td>\n",
       "      <td>-4.000000</td>\n",
       "      <td>-5.000000</td>\n",
       "      <td>-6.000000</td>\n",
       "      <td>0.000000</td>\n",
       "    </tr>\n",
       "    <tr>\n",
       "      <th>25%</th>\n",
       "      <td>2.000000</td>\n",
       "      <td>1686.000000</td>\n",
       "      <td>1400.000000</td>\n",
       "      <td>17.000000</td>\n",
       "      <td>15.000000</td>\n",
       "      <td>17.000000</td>\n",
       "      <td>382.000000</td>\n",
       "    </tr>\n",
       "    <tr>\n",
       "      <th>50%</th>\n",
       "      <td>3.000000</td>\n",
       "      <td>3592.000000</td>\n",
       "      <td>2200.000000</td>\n",
       "      <td>37.000000</td>\n",
       "      <td>34.000000</td>\n",
       "      <td>41.000000</td>\n",
       "      <td>544.000000</td>\n",
       "    </tr>\n",
       "    <tr>\n",
       "      <th>75%</th>\n",
       "      <td>4.000000</td>\n",
       "      <td>5299.000000</td>\n",
       "      <td>3395.000000</td>\n",
       "      <td>65.000000</td>\n",
       "      <td>62.000000</td>\n",
       "      <td>85.000000</td>\n",
       "      <td>702.000000</td>\n",
       "    </tr>\n",
       "    <tr>\n",
       "      <th>max</th>\n",
       "      <td>6.000000</td>\n",
       "      <td>6987.000000</td>\n",
       "      <td>27100.000000</td>\n",
       "      <td>171.000000</td>\n",
       "      <td>154.000000</td>\n",
       "      <td>285.000000</td>\n",
       "      <td>2088.000000</td>\n",
       "    </tr>\n",
       "  </tbody>\n",
       "</table>\n",
       "</div>"
      ],
      "text/plain": [
       "           market_id       store_id       subtotal  total_onshift_dashers  \\\n",
       "count  196441.000000  197428.000000  197428.000000          181166.000000   \n",
       "mean        2.978706    3530.510272    2682.331402              44.808093   \n",
       "std         1.524867    2053.496711    1823.093688              34.526783   \n",
       "min         1.000000       1.000000       0.000000              -4.000000   \n",
       "25%         2.000000    1686.000000    1400.000000              17.000000   \n",
       "50%         3.000000    3592.000000    2200.000000              37.000000   \n",
       "75%         4.000000    5299.000000    3395.000000              65.000000   \n",
       "max         6.000000    6987.000000   27100.000000             171.000000   \n",
       "\n",
       "       total_busy_dashers  total_outstanding_orders  \\\n",
       "count       181166.000000             181166.000000   \n",
       "mean            41.739747                 58.050065   \n",
       "std             32.145733                 52.661830   \n",
       "min             -5.000000                 -6.000000   \n",
       "25%             15.000000                 17.000000   \n",
       "50%             34.000000                 41.000000   \n",
       "75%             62.000000                 85.000000   \n",
       "max            154.000000                285.000000   \n",
       "\n",
       "       estimated_store_to_consumer_driving_duration  \n",
       "count                                 196902.000000  \n",
       "mean                                     545.358935  \n",
       "std                                      219.352902  \n",
       "min                                        0.000000  \n",
       "25%                                      382.000000  \n",
       "50%                                      544.000000  \n",
       "75%                                      702.000000  \n",
       "max                                     2088.000000  "
      ]
     },
     "execution_count": 6,
     "metadata": {},
     "output_type": "execute_result"
    }
   ],
   "source": [
    "# main statistics of numerical variables\n",
    "df.describe()"
   ]
  },
  {
   "cell_type": "code",
   "execution_count": 7,
   "metadata": {},
   "outputs": [
    {
     "data": {
      "text/plain": [
       "1.0    38037\n",
       "2.0    55058\n",
       "3.0    23297\n",
       "4.0    47599\n",
       "5.0    18000\n",
       "6.0    14450\n",
       "Name: market_id, dtype: int64"
      ]
     },
     "execution_count": 7,
     "metadata": {},
     "output_type": "execute_result"
    }
   ],
   "source": [
    "# number of cities in the data set\n",
    "df.market_id.value_counts().sort_index()"
   ]
  },
  {
   "cell_type": "code",
   "execution_count": 9,
   "metadata": {},
   "outputs": [
    {
     "name": "stdout",
     "output_type": "stream",
     "text": [
      "1:2925\n",
      "\n",
      "2:1939\n",
      "\n",
      "3:2564\n",
      "\n",
      "4:1818\n",
      "\n",
      "5:1408\n",
      "\n",
      "6:1310\n",
      "\n"
     ]
    }
   ],
   "source": [
    "# number of unique stores in each city\n",
    "for i in range(1,df.market_id.nunique()+1):\n",
    "    print(str(i)+':' + str(df[df.market_id==i]['store_id'].nunique()) + '\\n')"
   ]
  },
  {
   "cell_type": "code",
   "execution_count": 10,
   "metadata": {},
   "outputs": [
    {
     "data": {
      "text/plain": [
       "975"
      ]
     },
     "execution_count": 10,
     "metadata": {},
     "output_type": "execute_result"
    }
   ],
   "source": [
    "# checking if any store has the same store_id in two different cities (i.e. market_id)\n",
    "df[df.market_id==1]['store_id'].value_counts().index.isin(\n",
    "df[df.market_id==2]['store_id'].value_counts().index).sum()"
   ]
  },
  {
   "cell_type": "code",
   "execution_count": 11,
   "metadata": {},
   "outputs": [
    {
     "data": {
      "text/plain": [
       "745"
      ]
     },
     "execution_count": 11,
     "metadata": {},
     "output_type": "execute_result"
    }
   ],
   "source": [
    "# checking if any store has the same store_id in two different cities (i.e. market_id)\n",
    "df[df.market_id==2]['store_id'].value_counts().index.isin(\n",
    "df[df.market_id==3]['store_id'].value_counts().index\n",
    ").sum()"
   ]
  },
  {
   "cell_type": "markdown",
   "metadata": {},
   "source": [
    "### Predict Data set (Test)"
   ]
  },
  {
   "cell_type": "code",
   "execution_count": 13,
   "metadata": {},
   "outputs": [
    {
     "data": {
      "text/html": [
       "<div>\n",
       "<style scoped>\n",
       "    .dataframe tbody tr th:only-of-type {\n",
       "        vertical-align: middle;\n",
       "    }\n",
       "\n",
       "    .dataframe tbody tr th {\n",
       "        vertical-align: top;\n",
       "    }\n",
       "\n",
       "    .dataframe thead th {\n",
       "        text-align: right;\n",
       "    }\n",
       "</style>\n",
       "<table border=\"1\" class=\"dataframe\">\n",
       "  <thead>\n",
       "    <tr style=\"text-align: right;\">\n",
       "      <th></th>\n",
       "      <th>market_id</th>\n",
       "      <th>created_at</th>\n",
       "      <th>store_id</th>\n",
       "      <th>subtotal</th>\n",
       "      <th>total_onshift_dashers</th>\n",
       "      <th>total_busy_dashers</th>\n",
       "      <th>total_outstanding_orders</th>\n",
       "      <th>estimated_store_to_consumer_driving_duration</th>\n",
       "      <th>delivery_id</th>\n",
       "    </tr>\n",
       "  </thead>\n",
       "  <tbody>\n",
       "    <tr>\n",
       "      <th>0</th>\n",
       "      <td>3.0</td>\n",
       "      <td>2015-02-25 02:22:30</td>\n",
       "      <td>5477</td>\n",
       "      <td>7500</td>\n",
       "      <td>4.0</td>\n",
       "      <td>4.0</td>\n",
       "      <td>4.0</td>\n",
       "      <td>670.0</td>\n",
       "      <td>194096</td>\n",
       "    </tr>\n",
       "    <tr>\n",
       "      <th>1</th>\n",
       "      <td>3.0</td>\n",
       "      <td>2015-02-25 01:14:19</td>\n",
       "      <td>5477</td>\n",
       "      <td>7100</td>\n",
       "      <td>4.0</td>\n",
       "      <td>1.0</td>\n",
       "      <td>1.0</td>\n",
       "      <td>446.0</td>\n",
       "      <td>236895</td>\n",
       "    </tr>\n",
       "  </tbody>\n",
       "</table>\n",
       "</div>"
      ],
      "text/plain": [
       "   market_id          created_at  store_id  subtotal  total_onshift_dashers  \\\n",
       "0        3.0 2015-02-25 02:22:30      5477      7500                    4.0   \n",
       "1        3.0 2015-02-25 01:14:19      5477      7100                    4.0   \n",
       "\n",
       "   total_busy_dashers  total_outstanding_orders  \\\n",
       "0                 4.0                       4.0   \n",
       "1                 1.0                       1.0   \n",
       "\n",
       "   estimated_store_to_consumer_driving_duration  delivery_id  \n",
       "0                                         670.0       194096  \n",
       "1                                         446.0       236895  "
      ]
     },
     "execution_count": 13,
     "metadata": {},
     "output_type": "execute_result"
    }
   ],
   "source": [
    "test = pd.read_csv('predict_data.csv', parse_dates=['created_at'])\n",
    "test.head(2)"
   ]
  },
  {
   "cell_type": "code",
   "execution_count": 230,
   "metadata": {},
   "outputs": [
    {
     "data": {
      "text/plain": [
       "(54778, 25)"
      ]
     },
     "execution_count": 230,
     "metadata": {},
     "output_type": "execute_result"
    }
   ],
   "source": [
    "# dimensions of the predict_data set\n",
    "test.shape"
   ]
  },
  {
   "cell_type": "code",
   "execution_count": 15,
   "metadata": {},
   "outputs": [
    {
     "data": {
      "text/plain": [
       "Float64Index([1.0, 2.0, 3.0, 4.0, 5.0, 6.0], dtype='float64')"
      ]
     },
     "execution_count": 15,
     "metadata": {},
     "output_type": "execute_result"
    }
   ],
   "source": [
    "# checking if all market_id exist in both, Train (historical_data) and Test (predict_data)\n",
    "# (i.e. checking if there is a delivery from a 'new city' to predict)\n",
    "test.market_id.value_counts().index.sort_values()"
   ]
  },
  {
   "cell_type": "code",
   "execution_count": 14,
   "metadata": {},
   "outputs": [
    {
     "data": {
      "text/plain": [
       "Int64Index([ 205, 1444, 5283, 2221, 3661, 4488, 3754, 6546, 6160, 3806,\n",
       "            ...\n",
       "            6384, 6424, 6512,  123, 6528, 6936, 1438, 2586, 4625,  507],\n",
       "           dtype='int64', length=256)"
      ]
     },
     "execution_count": 14,
     "metadata": {},
     "output_type": "execute_result"
    }
   ],
   "source": [
    "# checking stores that did have a log in in the Test set (predict_data)\n",
    "# but didnt in the Train set (historica_data)  \n",
    "stores_predictSet = test[test.market_id==1]['store_id'].value_counts().index\n",
    "stores_historicalSet = df[df.market_id==1]['store_id'].value_counts().index\n",
    "\n",
    "stores_predictSet[~stores_predictSet.isin(stores_historicalSet)]"
   ]
  },
  {
   "cell_type": "markdown",
   "metadata": {},
   "source": [
    "#### *Assumption on 'store_id':*\n",
    "since:\n",
    "\n",
    "1) there are stores that didnt have a log in the historica_data set but did in the predict_data set; and\n",
    "\n",
    "2) different market_id sets have the same store_id\n",
    "\n",
    "... *conclusion*: store_id wont be used as a categorical feature to train a model"
   ]
  },
  {
   "cell_type": "markdown",
   "metadata": {},
   "source": [
    "## 2. Feature Engineering"
   ]
  },
  {
   "cell_type": "markdown",
   "metadata": {},
   "source": [
    "#### *computing actual Delivery Time  Spent*"
   ]
  },
  {
   "cell_type": "code",
   "execution_count": 17,
   "metadata": {},
   "outputs": [],
   "source": [
    "# time it took for each delivery (timestamp format)\n",
    "df['time'] = df.actual_delivery_time - df.created_at"
   ]
  },
  {
   "cell_type": "code",
   "execution_count": 18,
   "metadata": {},
   "outputs": [],
   "source": [
    "# time it took for each delivery (in seconds)\n",
    "df['time_seconds'] = df.time.dt.total_seconds()"
   ]
  },
  {
   "cell_type": "code",
   "execution_count": 19,
   "metadata": {},
   "outputs": [
    {
     "data": {
      "text/html": [
       "<div>\n",
       "<style scoped>\n",
       "    .dataframe tbody tr th:only-of-type {\n",
       "        vertical-align: middle;\n",
       "    }\n",
       "\n",
       "    .dataframe tbody tr th {\n",
       "        vertical-align: top;\n",
       "    }\n",
       "\n",
       "    .dataframe thead th {\n",
       "        text-align: right;\n",
       "    }\n",
       "</style>\n",
       "<table border=\"1\" class=\"dataframe\">\n",
       "  <thead>\n",
       "    <tr style=\"text-align: right;\">\n",
       "      <th></th>\n",
       "      <th>estimated_store_to_consumer_driving_duration</th>\n",
       "      <th>time</th>\n",
       "      <th>time_seconds</th>\n",
       "    </tr>\n",
       "  </thead>\n",
       "  <tbody>\n",
       "    <tr>\n",
       "      <th>0</th>\n",
       "      <td>861.0</td>\n",
       "      <td>01:02:59</td>\n",
       "      <td>3779.0</td>\n",
       "    </tr>\n",
       "    <tr>\n",
       "      <th>1</th>\n",
       "      <td>690.0</td>\n",
       "      <td>01:07:04</td>\n",
       "      <td>4024.0</td>\n",
       "    </tr>\n",
       "    <tr>\n",
       "      <th>2</th>\n",
       "      <td>690.0</td>\n",
       "      <td>00:29:41</td>\n",
       "      <td>1781.0</td>\n",
       "    </tr>\n",
       "    <tr>\n",
       "      <th>3</th>\n",
       "      <td>289.0</td>\n",
       "      <td>00:51:15</td>\n",
       "      <td>3075.0</td>\n",
       "    </tr>\n",
       "    <tr>\n",
       "      <th>4</th>\n",
       "      <td>650.0</td>\n",
       "      <td>00:39:50</td>\n",
       "      <td>2390.0</td>\n",
       "    </tr>\n",
       "    <tr>\n",
       "      <th>...</th>\n",
       "      <td>...</td>\n",
       "      <td>...</td>\n",
       "      <td>...</td>\n",
       "    </tr>\n",
       "    <tr>\n",
       "      <th>197423</th>\n",
       "      <td>331.0</td>\n",
       "      <td>01:05:07</td>\n",
       "      <td>3907.0</td>\n",
       "    </tr>\n",
       "    <tr>\n",
       "      <th>197424</th>\n",
       "      <td>915.0</td>\n",
       "      <td>00:56:23</td>\n",
       "      <td>3383.0</td>\n",
       "    </tr>\n",
       "    <tr>\n",
       "      <th>197425</th>\n",
       "      <td>795.0</td>\n",
       "      <td>00:50:08</td>\n",
       "      <td>3008.0</td>\n",
       "    </tr>\n",
       "    <tr>\n",
       "      <th>197426</th>\n",
       "      <td>384.0</td>\n",
       "      <td>01:05:07</td>\n",
       "      <td>3907.0</td>\n",
       "    </tr>\n",
       "    <tr>\n",
       "      <th>197427</th>\n",
       "      <td>134.0</td>\n",
       "      <td>00:37:08</td>\n",
       "      <td>2228.0</td>\n",
       "    </tr>\n",
       "  </tbody>\n",
       "</table>\n",
       "<p>197428 rows × 3 columns</p>\n",
       "</div>"
      ],
      "text/plain": [
       "        estimated_store_to_consumer_driving_duration     time  time_seconds\n",
       "0                                              861.0 01:02:59        3779.0\n",
       "1                                              690.0 01:07:04        4024.0\n",
       "2                                              690.0 00:29:41        1781.0\n",
       "3                                              289.0 00:51:15        3075.0\n",
       "4                                              650.0 00:39:50        2390.0\n",
       "...                                              ...      ...           ...\n",
       "197423                                         331.0 01:05:07        3907.0\n",
       "197424                                         915.0 00:56:23        3383.0\n",
       "197425                                         795.0 00:50:08        3008.0\n",
       "197426                                         384.0 01:05:07        3907.0\n",
       "197427                                         134.0 00:37:08        2228.0\n",
       "\n",
       "[197428 rows x 3 columns]"
      ]
     },
     "execution_count": 19,
     "metadata": {},
     "output_type": "execute_result"
    }
   ],
   "source": [
    "# preview\n",
    "df[['estimated_store_to_consumer_driving_duration','time','time_seconds']]"
   ]
  },
  {
   "cell_type": "markdown",
   "metadata": {},
   "source": [
    "#### *adding new categorical variables in function of existing ones*"
   ]
  },
  {
   "cell_type": "code",
   "execution_count": 20,
   "metadata": {},
   "outputs": [],
   "source": [
    "# Day of the Week\n",
    "for i in df.index:\n",
    "    df.loc[i,'day_of_week'] = df.created_at[i].weekday()"
   ]
  },
  {
   "cell_type": "code",
   "execution_count": 21,
   "metadata": {},
   "outputs": [],
   "source": [
    "# Hour\n",
    "for i in df.index:\n",
    "    df.loc[i,'hour'] = df.created_at[i].hour"
   ]
  },
  {
   "cell_type": "code",
   "execution_count": 22,
   "metadata": {},
   "outputs": [],
   "source": [
    "# RushHour\n",
    "for i in df.index:\n",
    "    if (df.loc[i,'day_of_week'] < 5) and ( (df.loc[i,'hour'] >= 16.) and (df.loc[i,'hour'] < 19.) ):\n",
    "        df.loc[i,'rush_hour'] = 1\n",
    "    else:\n",
    "        df.loc[i,'rush_hour'] = 0"
   ]
  },
  {
   "cell_type": "code",
   "execution_count": 23,
   "metadata": {},
   "outputs": [
    {
     "data": {
      "text/html": [
       "<div>\n",
       "<style scoped>\n",
       "    .dataframe tbody tr th:only-of-type {\n",
       "        vertical-align: middle;\n",
       "    }\n",
       "\n",
       "    .dataframe tbody tr th {\n",
       "        vertical-align: top;\n",
       "    }\n",
       "\n",
       "    .dataframe thead th {\n",
       "        text-align: right;\n",
       "    }\n",
       "</style>\n",
       "<table border=\"1\" class=\"dataframe\">\n",
       "  <thead>\n",
       "    <tr style=\"text-align: right;\">\n",
       "      <th></th>\n",
       "      <th>created_at</th>\n",
       "      <th>day_of_week</th>\n",
       "      <th>hour</th>\n",
       "      <th>rush_hour</th>\n",
       "    </tr>\n",
       "  </thead>\n",
       "  <tbody>\n",
       "    <tr>\n",
       "      <th>41</th>\n",
       "      <td>2015-01-27 18:32:58</td>\n",
       "      <td>1.0</td>\n",
       "      <td>18.0</td>\n",
       "      <td>1.0</td>\n",
       "    </tr>\n",
       "    <tr>\n",
       "      <th>92</th>\n",
       "      <td>2015-01-29 18:56:20</td>\n",
       "      <td>3.0</td>\n",
       "      <td>18.0</td>\n",
       "      <td>1.0</td>\n",
       "    </tr>\n",
       "    <tr>\n",
       "      <th>95</th>\n",
       "      <td>2015-01-22 18:37:17</td>\n",
       "      <td>3.0</td>\n",
       "      <td>18.0</td>\n",
       "      <td>1.0</td>\n",
       "    </tr>\n",
       "    <tr>\n",
       "      <th>119</th>\n",
       "      <td>2015-01-29 18:57:00</td>\n",
       "      <td>3.0</td>\n",
       "      <td>18.0</td>\n",
       "      <td>1.0</td>\n",
       "    </tr>\n",
       "    <tr>\n",
       "      <th>186</th>\n",
       "      <td>2015-02-10 18:57:15</td>\n",
       "      <td>1.0</td>\n",
       "      <td>18.0</td>\n",
       "      <td>1.0</td>\n",
       "    </tr>\n",
       "    <tr>\n",
       "      <th>...</th>\n",
       "      <td>...</td>\n",
       "      <td>...</td>\n",
       "      <td>...</td>\n",
       "      <td>...</td>\n",
       "    </tr>\n",
       "    <tr>\n",
       "      <th>197350</th>\n",
       "      <td>2015-02-16 18:04:25</td>\n",
       "      <td>0.0</td>\n",
       "      <td>18.0</td>\n",
       "      <td>1.0</td>\n",
       "    </tr>\n",
       "    <tr>\n",
       "      <th>197372</th>\n",
       "      <td>2015-02-03 17:13:16</td>\n",
       "      <td>1.0</td>\n",
       "      <td>17.0</td>\n",
       "      <td>1.0</td>\n",
       "    </tr>\n",
       "    <tr>\n",
       "      <th>197394</th>\n",
       "      <td>2015-01-21 18:58:36</td>\n",
       "      <td>2.0</td>\n",
       "      <td>18.0</td>\n",
       "      <td>1.0</td>\n",
       "    </tr>\n",
       "    <tr>\n",
       "      <th>197395</th>\n",
       "      <td>2015-01-26 18:02:24</td>\n",
       "      <td>0.0</td>\n",
       "      <td>18.0</td>\n",
       "      <td>1.0</td>\n",
       "    </tr>\n",
       "    <tr>\n",
       "      <th>197411</th>\n",
       "      <td>2015-02-02 17:50:23</td>\n",
       "      <td>0.0</td>\n",
       "      <td>17.0</td>\n",
       "      <td>1.0</td>\n",
       "    </tr>\n",
       "  </tbody>\n",
       "</table>\n",
       "<p>6428 rows × 4 columns</p>\n",
       "</div>"
      ],
      "text/plain": [
       "                created_at  day_of_week  hour  rush_hour\n",
       "41     2015-01-27 18:32:58          1.0  18.0        1.0\n",
       "92     2015-01-29 18:56:20          3.0  18.0        1.0\n",
       "95     2015-01-22 18:37:17          3.0  18.0        1.0\n",
       "119    2015-01-29 18:57:00          3.0  18.0        1.0\n",
       "186    2015-02-10 18:57:15          1.0  18.0        1.0\n",
       "...                    ...          ...   ...        ...\n",
       "197350 2015-02-16 18:04:25          0.0  18.0        1.0\n",
       "197372 2015-02-03 17:13:16          1.0  17.0        1.0\n",
       "197394 2015-01-21 18:58:36          2.0  18.0        1.0\n",
       "197395 2015-01-26 18:02:24          0.0  18.0        1.0\n",
       "197411 2015-02-02 17:50:23          0.0  17.0        1.0\n",
       "\n",
       "[6428 rows x 4 columns]"
      ]
     },
     "execution_count": 23,
     "metadata": {},
     "output_type": "execute_result"
    }
   ],
   "source": [
    "# checking\n",
    "df.loc[df.rush_hour==1][['created_at','day_of_week','hour','rush_hour']]"
   ]
  },
  {
   "cell_type": "markdown",
   "metadata": {},
   "source": [
    "## 3. Null Values treatment"
   ]
  },
  {
   "cell_type": "code",
   "execution_count": 24,
   "metadata": {},
   "outputs": [
    {
     "data": {
      "text/plain": [
       "market_id                                         987\n",
       "created_at                                          0\n",
       "actual_delivery_time                                7\n",
       "store_id                                            0\n",
       "subtotal                                            0\n",
       "total_onshift_dashers                           16262\n",
       "total_busy_dashers                              16262\n",
       "total_outstanding_orders                        16262\n",
       "estimated_store_to_consumer_driving_duration      526\n",
       "time                                                7\n",
       "time_seconds                                        7\n",
       "day_of_week                                         0\n",
       "hour                                                0\n",
       "rush_hour                                           0\n",
       "dtype: int64"
      ]
     },
     "execution_count": 24,
     "metadata": {},
     "output_type": "execute_result"
    }
   ],
   "source": [
    "df.isnull().sum()"
   ]
  },
  {
   "cell_type": "markdown",
   "metadata": {},
   "source": [
    "**Potential solutions:**\n",
    "\n",
    "a) if any feature seems to have a consistent semi-symetrical unimodal distribution, missing values can be replace with the feature's mean\n",
    "\n",
    "b) if any feature has small amounts of missing values, it an be discouraged"
   ]
  },
  {
   "cell_type": "markdown",
   "metadata": {},
   "source": [
    "##### checking total_onshift_dashers: if  filling mean in Nulls changes the distribution"
   ]
  },
  {
   "cell_type": "code",
   "execution_count": 26,
   "metadata": {},
   "outputs": [
    {
     "data": {
      "image/png": "[encoded data removed]",
      "text/plain": [
       "<Figure size 1080x720 with 2 Axes>"
      ]
     },
     "metadata": {
      "needs_background": "light"
     },
     "output_type": "display_data"
    }
   ],
   "source": [
    "plt.figure(figsize=(15,10))\n",
    "\n",
    "plt.subplot(2,1,1)\n",
    "plt.title('total_onshift_dashers: w Nulls vs Mean as Nulls')\n",
    "df.total_onshift_dashers.hist();\n",
    "\n",
    "plt.subplot(2,1,2)\n",
    "df.total_onshift_dashers.fillna(df.total_onshift_dashers.mean()).hist(color='green')\n",
    "\n",
    "plt.show();"
   ]
  },
  {
   "cell_type": "code",
   "execution_count": 28,
   "metadata": {},
   "outputs": [
    {
     "data": {
      "text/plain": [
       "count    181166.000000\n",
       "mean         44.808093\n",
       "std          34.526783\n",
       "min          -4.000000\n",
       "25%          17.000000\n",
       "50%          37.000000\n",
       "75%          65.000000\n",
       "max         171.000000\n",
       "Name: total_onshift_dashers, dtype: float64"
      ]
     },
     "execution_count": 28,
     "metadata": {},
     "output_type": "execute_result"
    }
   ],
   "source": [
    "df.total_onshift_dashers.describe()"
   ]
  },
  {
   "cell_type": "code",
   "execution_count": 29,
   "metadata": {},
   "outputs": [
    {
     "data": {
      "text/plain": [
       "count    197428.000000\n",
       "mean         44.808093\n",
       "std          33.074249\n",
       "min          -4.000000\n",
       "25%          19.000000\n",
       "50%          41.000000\n",
       "75%          62.000000\n",
       "max         171.000000\n",
       "Name: total_onshift_dashers, dtype: float64"
      ]
     },
     "execution_count": 29,
     "metadata": {},
     "output_type": "execute_result"
    }
   ],
   "source": [
    "(df.total_onshift_dashers.fillna(df.total_onshift_dashers.mean())).describe()"
   ]
  },
  {
   "cell_type": "code",
   "execution_count": 30,
   "metadata": {},
   "outputs": [],
   "source": [
    "# filling NAs with mean\n",
    "df.total_onshift_dashers = df.total_onshift_dashers.fillna(df.total_onshift_dashers.mean())"
   ]
  },
  {
   "cell_type": "code",
   "execution_count": 31,
   "metadata": {},
   "outputs": [
    {
     "data": {
      "text/plain": [
       "0"
      ]
     },
     "execution_count": 31,
     "metadata": {},
     "output_type": "execute_result"
    }
   ],
   "source": [
    "# checking\n",
    "df.total_onshift_dashers.isnull().sum()"
   ]
  },
  {
   "cell_type": "code",
   "execution_count": 32,
   "metadata": {},
   "outputs": [
    {
     "data": {
      "text/plain": [
       "market_id                                         987\n",
       "created_at                                          0\n",
       "actual_delivery_time                                7\n",
       "store_id                                            0\n",
       "subtotal                                            0\n",
       "total_onshift_dashers                               0\n",
       "total_busy_dashers                              16262\n",
       "total_outstanding_orders                        16262\n",
       "estimated_store_to_consumer_driving_duration      526\n",
       "time                                                7\n",
       "time_seconds                                        7\n",
       "day_of_week                                         0\n",
       "hour                                                0\n",
       "rush_hour                                           0\n",
       "dtype: int64"
      ]
     },
     "execution_count": 32,
     "metadata": {},
     "output_type": "execute_result"
    }
   ],
   "source": [
    "df.isnull().sum()"
   ]
  },
  {
   "cell_type": "markdown",
   "metadata": {},
   "source": [
    "##### checking total_busy_dashers: if  filling mean in Nulls changes the distribution"
   ]
  },
  {
   "cell_type": "code",
   "execution_count": 33,
   "metadata": {},
   "outputs": [
    {
     "data": {
      "image/png": "[encoded data removed]",
      "text/plain": [
       "<Figure size 1080x720 with 2 Axes>"
      ]
     },
     "metadata": {
      "needs_background": "light"
     },
     "output_type": "display_data"
    }
   ],
   "source": [
    "plt.figure(figsize=(15,10))\n",
    "\n",
    "plt.subplot(2,1,1)\n",
    "plt.title('total_busy_dashers: w Nulls vs Mean as Nulls')\n",
    "df.total_busy_dashers.hist();\n",
    "\n",
    "plt.subplot(2,1,2)\n",
    "df.total_busy_dashers.fillna(df.total_busy_dashers.mean()).hist(color='green')\n",
    "\n",
    "plt.show();"
   ]
  },
  {
   "cell_type": "code",
   "execution_count": 34,
   "metadata": {},
   "outputs": [
    {
     "data": {
      "text/plain": [
       "count    181166.000000\n",
       "mean         41.739747\n",
       "std          32.145733\n",
       "min          -5.000000\n",
       "25%          15.000000\n",
       "50%          34.000000\n",
       "75%          62.000000\n",
       "max         154.000000\n",
       "Name: total_busy_dashers, dtype: float64"
      ]
     },
     "execution_count": 34,
     "metadata": {},
     "output_type": "execute_result"
    }
   ],
   "source": [
    "df.total_busy_dashers.describe()"
   ]
  },
  {
   "cell_type": "code",
   "execution_count": 35,
   "metadata": {},
   "outputs": [
    {
     "data": {
      "text/plain": [
       "count    197428.000000\n",
       "mean         41.739747\n",
       "std          30.793369\n",
       "min          -5.000000\n",
       "25%          17.000000\n",
       "50%          39.000000\n",
       "75%          59.000000\n",
       "max         154.000000\n",
       "Name: total_busy_dashers, dtype: float64"
      ]
     },
     "execution_count": 35,
     "metadata": {},
     "output_type": "execute_result"
    }
   ],
   "source": [
    "df.total_busy_dashers.fillna(df.total_busy_dashers.mean()).describe()"
   ]
  },
  {
   "cell_type": "code",
   "execution_count": 36,
   "metadata": {},
   "outputs": [],
   "source": [
    "# filling NAs with mean\n",
    "df.total_busy_dashers = df.total_busy_dashers.fillna(df.total_busy_dashers.mean())"
   ]
  },
  {
   "cell_type": "code",
   "execution_count": 37,
   "metadata": {},
   "outputs": [
    {
     "data": {
      "text/plain": [
       "0"
      ]
     },
     "execution_count": 37,
     "metadata": {},
     "output_type": "execute_result"
    }
   ],
   "source": [
    "# checking\n",
    "df.total_busy_dashers.isnull().sum()"
   ]
  },
  {
   "cell_type": "code",
   "execution_count": 38,
   "metadata": {},
   "outputs": [
    {
     "data": {
      "text/plain": [
       "market_id                                         987\n",
       "created_at                                          0\n",
       "actual_delivery_time                                7\n",
       "store_id                                            0\n",
       "subtotal                                            0\n",
       "total_onshift_dashers                               0\n",
       "total_busy_dashers                                  0\n",
       "total_outstanding_orders                        16262\n",
       "estimated_store_to_consumer_driving_duration      526\n",
       "time                                                7\n",
       "time_seconds                                        7\n",
       "day_of_week                                         0\n",
       "hour                                                0\n",
       "rush_hour                                           0\n",
       "dtype: int64"
      ]
     },
     "execution_count": 38,
     "metadata": {},
     "output_type": "execute_result"
    }
   ],
   "source": [
    "df.isnull().sum()"
   ]
  },
  {
   "cell_type": "markdown",
   "metadata": {},
   "source": [
    "##### checking total_outstanding_orders: if  filling mean in Nulls changes the distribution"
   ]
  },
  {
   "cell_type": "code",
   "execution_count": 39,
   "metadata": {},
   "outputs": [
    {
     "data": {
      "image/png": "[encoded data removed]",
      "text/plain": [
       "<Figure size 1080x720 with 2 Axes>"
      ]
     },
     "metadata": {
      "needs_background": "light"
     },
     "output_type": "display_data"
    }
   ],
   "source": [
    "plt.figure(figsize=(15,10))\n",
    "\n",
    "plt.subplot(2,1,1)\n",
    "plt.title('total_outstanding_orders: w Nulls vs Mean as Nulls')\n",
    "df.total_outstanding_orders.hist();\n",
    "\n",
    "plt.subplot(2,1,2)\n",
    "df.total_outstanding_orders.fillna(df.total_outstanding_orders.mean()).hist(color='green')\n",
    "\n",
    "plt.show();"
   ]
  },
  {
   "cell_type": "code",
   "execution_count": 40,
   "metadata": {},
   "outputs": [
    {
     "data": {
      "text/plain": [
       "count    181166.000000\n",
       "mean         58.050065\n",
       "std          52.661830\n",
       "min          -6.000000\n",
       "25%          17.000000\n",
       "50%          41.000000\n",
       "75%          85.000000\n",
       "max         285.000000\n",
       "Name: total_outstanding_orders, dtype: float64"
      ]
     },
     "execution_count": 40,
     "metadata": {},
     "output_type": "execute_result"
    }
   ],
   "source": [
    "df.total_outstanding_orders.describe()"
   ]
  },
  {
   "cell_type": "code",
   "execution_count": 41,
   "metadata": {},
   "outputs": [
    {
     "data": {
      "text/plain": [
       "count    197428.000000\n",
       "mean         58.050065\n",
       "std          50.446359\n",
       "min          -6.000000\n",
       "25%          19.000000\n",
       "50%          47.000000\n",
       "75%          80.000000\n",
       "max         285.000000\n",
       "Name: total_outstanding_orders, dtype: float64"
      ]
     },
     "execution_count": 41,
     "metadata": {},
     "output_type": "execute_result"
    }
   ],
   "source": [
    "df.total_outstanding_orders.fillna(df.total_outstanding_orders.mean()).describe()"
   ]
  },
  {
   "cell_type": "code",
   "execution_count": 42,
   "metadata": {},
   "outputs": [],
   "source": [
    "# filling NAs with mean\n",
    "df.total_outstanding_orders = df.total_outstanding_orders.fillna(df.total_outstanding_orders.mean())"
   ]
  },
  {
   "cell_type": "code",
   "execution_count": 43,
   "metadata": {},
   "outputs": [
    {
     "data": {
      "text/plain": [
       "0"
      ]
     },
     "execution_count": 43,
     "metadata": {},
     "output_type": "execute_result"
    }
   ],
   "source": [
    "# checking\n",
    "df.total_outstanding_orders.isnull().sum()"
   ]
  },
  {
   "cell_type": "code",
   "execution_count": 44,
   "metadata": {},
   "outputs": [
    {
     "data": {
      "text/plain": [
       "market_id                                       987\n",
       "created_at                                        0\n",
       "actual_delivery_time                              7\n",
       "store_id                                          0\n",
       "subtotal                                          0\n",
       "total_onshift_dashers                             0\n",
       "total_busy_dashers                                0\n",
       "total_outstanding_orders                          0\n",
       "estimated_store_to_consumer_driving_duration    526\n",
       "time                                              7\n",
       "time_seconds                                      7\n",
       "day_of_week                                       0\n",
       "hour                                              0\n",
       "rush_hour                                         0\n",
       "dtype: int64"
      ]
     },
     "execution_count": 44,
     "metadata": {},
     "output_type": "execute_result"
    }
   ],
   "source": [
    "df.isnull().sum()"
   ]
  },
  {
   "cell_type": "markdown",
   "metadata": {},
   "source": [
    "##### checking estimated_store_to_consumer_driving_duration: if  filling mean in Nulls changes the distribution"
   ]
  },
  {
   "cell_type": "code",
   "execution_count": 45,
   "metadata": {},
   "outputs": [
    {
     "data": {
      "image/png": "[encoded data removed]",
      "text/plain": [
       "<Figure size 1080x720 with 2 Axes>"
      ]
     },
     "metadata": {
      "needs_background": "light"
     },
     "output_type": "display_data"
    }
   ],
   "source": [
    "plt.figure(figsize=(15,10))\n",
    "\n",
    "plt.subplot(2,1,1)\n",
    "plt.title('estimated_store_to_consumer_driving_duration: w Nulls vs Mean as Nulls')\n",
    "df.estimated_store_to_consumer_driving_duration.hist();\n",
    "\n",
    "plt.subplot(2,1,2)\n",
    "df.estimated_store_to_consumer_driving_duration.fillna(df.estimated_store_to_consumer_driving_duration.mean()).hist(color='green')\n",
    "\n",
    "plt.show();"
   ]
  },
  {
   "cell_type": "code",
   "execution_count": 46,
   "metadata": {},
   "outputs": [
    {
     "data": {
      "text/plain": [
       "count    196902.000000\n",
       "mean        545.358935\n",
       "std         219.352902\n",
       "min           0.000000\n",
       "25%         382.000000\n",
       "50%         544.000000\n",
       "75%         702.000000\n",
       "max        2088.000000\n",
       "Name: estimated_store_to_consumer_driving_duration, dtype: float64"
      ]
     },
     "execution_count": 46,
     "metadata": {},
     "output_type": "execute_result"
    }
   ],
   "source": [
    "df.estimated_store_to_consumer_driving_duration.describe()"
   ]
  },
  {
   "cell_type": "code",
   "execution_count": 47,
   "metadata": {},
   "outputs": [
    {
     "data": {
      "text/plain": [
       "count    197428.000000\n",
       "mean        544.060616\n",
       "std         220.496036\n",
       "min           0.000000\n",
       "25%         381.000000\n",
       "50%         543.000000\n",
       "75%         702.000000\n",
       "max        2088.000000\n",
       "Name: estimated_store_to_consumer_driving_duration, dtype: float64"
      ]
     },
     "execution_count": 47,
     "metadata": {},
     "output_type": "execute_result"
    }
   ],
   "source": [
    "df.estimated_store_to_consumer_driving_duration.fillna(df.total_outstanding_orders.mean()).describe()"
   ]
  },
  {
   "cell_type": "code",
   "execution_count": 48,
   "metadata": {},
   "outputs": [
    {
     "data": {
      "text/plain": [
       "(196902, 14)"
      ]
     },
     "execution_count": 48,
     "metadata": {},
     "output_type": "execute_result"
    }
   ],
   "source": [
    "# dropping out those data-samples given large data set\n",
    "df = df[df.estimated_store_to_consumer_driving_duration.notnull()]\n",
    "df.shape"
   ]
  },
  {
   "cell_type": "code",
   "execution_count": 49,
   "metadata": {},
   "outputs": [
    {
     "data": {
      "text/plain": [
       "market_id                                       986\n",
       "created_at                                        0\n",
       "actual_delivery_time                              7\n",
       "store_id                                          0\n",
       "subtotal                                          0\n",
       "total_onshift_dashers                             0\n",
       "total_busy_dashers                                0\n",
       "total_outstanding_orders                          0\n",
       "estimated_store_to_consumer_driving_duration      0\n",
       "time                                              7\n",
       "time_seconds                                      7\n",
       "day_of_week                                       0\n",
       "hour                                              0\n",
       "rush_hour                                         0\n",
       "dtype: int64"
      ]
     },
     "execution_count": 49,
     "metadata": {},
     "output_type": "execute_result"
    }
   ],
   "source": [
    "df.isnull().sum()"
   ]
  },
  {
   "cell_type": "markdown",
   "metadata": {},
   "source": [
    "#### *dropping rest giving small subset compare with size of DataFrame*"
   ]
  },
  {
   "cell_type": "code",
   "execution_count": 51,
   "metadata": {},
   "outputs": [
    {
     "data": {
      "text/plain": [
       "market_id                                       0\n",
       "created_at                                      0\n",
       "actual_delivery_time                            0\n",
       "store_id                                        0\n",
       "subtotal                                        0\n",
       "total_onshift_dashers                           0\n",
       "total_busy_dashers                              0\n",
       "total_outstanding_orders                        0\n",
       "estimated_store_to_consumer_driving_duration    0\n",
       "time                                            0\n",
       "time_seconds                                    0\n",
       "day_of_week                                     0\n",
       "hour                                            0\n",
       "rush_hour                                       0\n",
       "dtype: int64"
      ]
     },
     "execution_count": 51,
     "metadata": {},
     "output_type": "execute_result"
    }
   ],
   "source": [
    "df = df.dropna()\n",
    "df.isnull().sum()"
   ]
  },
  {
   "cell_type": "code",
   "execution_count": 232,
   "metadata": {},
   "outputs": [
    {
     "data": {
      "text/plain": [
       "(195909, 14)"
      ]
     },
     "execution_count": 232,
     "metadata": {},
     "output_type": "execute_result"
    }
   ],
   "source": [
    "df.shape"
   ]
  },
  {
   "cell_type": "markdown",
   "metadata": {},
   "source": [
    "## 4. One-Hot Encoding for Categorical Variables"
   ]
  },
  {
   "cell_type": "code",
   "execution_count": 52,
   "metadata": {},
   "outputs": [],
   "source": [
    "categorical = ['market_id','day_of_week','rush_hour']"
   ]
  },
  {
   "cell_type": "code",
   "execution_count": 53,
   "metadata": {},
   "outputs": [],
   "source": [
    "df_cat = pd.DataFrame(index=df.index)"
   ]
  },
  {
   "cell_type": "code",
   "execution_count": 54,
   "metadata": {},
   "outputs": [],
   "source": [
    "for col in categorical:\n",
    "    df_cat = df_cat.join(pd.get_dummies(df[col],prefix=col,prefix_sep='_',drop_first=True) )"
   ]
  },
  {
   "cell_type": "code",
   "execution_count": 56,
   "metadata": {},
   "outputs": [
    {
     "data": {
      "text/html": [
       "<div>\n",
       "<style scoped>\n",
       "    .dataframe tbody tr th:only-of-type {\n",
       "        vertical-align: middle;\n",
       "    }\n",
       "\n",
       "    .dataframe tbody tr th {\n",
       "        vertical-align: top;\n",
       "    }\n",
       "\n",
       "    .dataframe thead th {\n",
       "        text-align: right;\n",
       "    }\n",
       "</style>\n",
       "<table border=\"1\" class=\"dataframe\">\n",
       "  <thead>\n",
       "    <tr style=\"text-align: right;\">\n",
       "      <th></th>\n",
       "      <th>market_id_2.0</th>\n",
       "      <th>market_id_3.0</th>\n",
       "      <th>market_id_4.0</th>\n",
       "      <th>market_id_5.0</th>\n",
       "      <th>market_id_6.0</th>\n",
       "      <th>day_of_week_1.0</th>\n",
       "      <th>day_of_week_2.0</th>\n",
       "      <th>day_of_week_3.0</th>\n",
       "      <th>day_of_week_4.0</th>\n",
       "      <th>day_of_week_5.0</th>\n",
       "      <th>day_of_week_6.0</th>\n",
       "      <th>rush_hour_1.0</th>\n",
       "    </tr>\n",
       "  </thead>\n",
       "  <tbody>\n",
       "    <tr>\n",
       "      <th>0</th>\n",
       "      <td>0</td>\n",
       "      <td>0</td>\n",
       "      <td>0</td>\n",
       "      <td>0</td>\n",
       "      <td>0</td>\n",
       "      <td>0</td>\n",
       "      <td>0</td>\n",
       "      <td>0</td>\n",
       "      <td>1</td>\n",
       "      <td>0</td>\n",
       "      <td>0</td>\n",
       "      <td>0</td>\n",
       "    </tr>\n",
       "    <tr>\n",
       "      <th>1</th>\n",
       "      <td>1</td>\n",
       "      <td>0</td>\n",
       "      <td>0</td>\n",
       "      <td>0</td>\n",
       "      <td>0</td>\n",
       "      <td>1</td>\n",
       "      <td>0</td>\n",
       "      <td>0</td>\n",
       "      <td>0</td>\n",
       "      <td>0</td>\n",
       "      <td>0</td>\n",
       "      <td>0</td>\n",
       "    </tr>\n",
       "    <tr>\n",
       "      <th>2</th>\n",
       "      <td>0</td>\n",
       "      <td>1</td>\n",
       "      <td>0</td>\n",
       "      <td>0</td>\n",
       "      <td>0</td>\n",
       "      <td>0</td>\n",
       "      <td>0</td>\n",
       "      <td>1</td>\n",
       "      <td>0</td>\n",
       "      <td>0</td>\n",
       "      <td>0</td>\n",
       "      <td>0</td>\n",
       "    </tr>\n",
       "  </tbody>\n",
       "</table>\n",
       "</div>"
      ],
      "text/plain": [
       "   market_id_2.0  market_id_3.0  market_id_4.0  market_id_5.0  market_id_6.0  \\\n",
       "0              0              0              0              0              0   \n",
       "1              1              0              0              0              0   \n",
       "2              0              1              0              0              0   \n",
       "\n",
       "   day_of_week_1.0  day_of_week_2.0  day_of_week_3.0  day_of_week_4.0  \\\n",
       "0                0                0                0                1   \n",
       "1                1                0                0                0   \n",
       "2                0                0                1                0   \n",
       "\n",
       "   day_of_week_5.0  day_of_week_6.0  rush_hour_1.0  \n",
       "0                0                0              0  \n",
       "1                0                0              0  \n",
       "2                0                0              0  "
      ]
     },
     "execution_count": 56,
     "metadata": {},
     "output_type": "execute_result"
    }
   ],
   "source": [
    "df_cat.head(3)"
   ]
  },
  {
   "cell_type": "code",
   "execution_count": 57,
   "metadata": {},
   "outputs": [
    {
     "data": {
      "text/plain": [
       "Index(['market_id', 'created_at', 'actual_delivery_time', 'store_id',\n",
       "       'subtotal', 'total_onshift_dashers', 'total_busy_dashers',\n",
       "       'total_outstanding_orders',\n",
       "       'estimated_store_to_consumer_driving_duration', 'time', 'time_seconds',\n",
       "       'day_of_week', 'hour', 'rush_hour'],\n",
       "      dtype='object')"
      ]
     },
     "execution_count": 57,
     "metadata": {},
     "output_type": "execute_result"
    }
   ],
   "source": [
    "df.columns"
   ]
  },
  {
   "cell_type": "markdown",
   "metadata": {},
   "source": [
    "#### Numerical Variables"
   ]
  },
  {
   "cell_type": "code",
   "execution_count": 58,
   "metadata": {},
   "outputs": [],
   "source": [
    "numerical = ['time_seconds', # diff btwn 'created_at' and 'actual_delivery_time'\n",
    "             #'created_at'and'actual_delivery_time' won't be use given 'time_seconds' is used instead\n",
    "             'subtotal', \n",
    "             'total_onshift_dashers', 'total_busy_dashers','total_outstanding_orders',\n",
    "             'estimated_store_to_consumer_driving_duration'\n",
    "             ]"
   ]
  },
  {
   "cell_type": "code",
   "execution_count": 59,
   "metadata": {},
   "outputs": [],
   "source": [
    "df_ = df[numerical].join(df_cat)"
   ]
  },
  {
   "cell_type": "code",
   "execution_count": 60,
   "metadata": {},
   "outputs": [
    {
     "data": {
      "text/html": [
       "<div>\n",
       "<style scoped>\n",
       "    .dataframe tbody tr th:only-of-type {\n",
       "        vertical-align: middle;\n",
       "    }\n",
       "\n",
       "    .dataframe tbody tr th {\n",
       "        vertical-align: top;\n",
       "    }\n",
       "\n",
       "    .dataframe thead th {\n",
       "        text-align: right;\n",
       "    }\n",
       "</style>\n",
       "<table border=\"1\" class=\"dataframe\">\n",
       "  <thead>\n",
       "    <tr style=\"text-align: right;\">\n",
       "      <th></th>\n",
       "      <th>time_seconds</th>\n",
       "      <th>subtotal</th>\n",
       "      <th>total_onshift_dashers</th>\n",
       "      <th>total_busy_dashers</th>\n",
       "      <th>total_outstanding_orders</th>\n",
       "      <th>estimated_store_to_consumer_driving_duration</th>\n",
       "      <th>market_id_2.0</th>\n",
       "      <th>market_id_3.0</th>\n",
       "      <th>market_id_4.0</th>\n",
       "      <th>market_id_5.0</th>\n",
       "      <th>market_id_6.0</th>\n",
       "      <th>day_of_week_1.0</th>\n",
       "      <th>day_of_week_2.0</th>\n",
       "      <th>day_of_week_3.0</th>\n",
       "      <th>day_of_week_4.0</th>\n",
       "      <th>day_of_week_5.0</th>\n",
       "      <th>day_of_week_6.0</th>\n",
       "      <th>rush_hour_1.0</th>\n",
       "    </tr>\n",
       "  </thead>\n",
       "  <tbody>\n",
       "    <tr>\n",
       "      <th>0</th>\n",
       "      <td>3779.0</td>\n",
       "      <td>3441</td>\n",
       "      <td>33.0</td>\n",
       "      <td>14.0</td>\n",
       "      <td>21.0</td>\n",
       "      <td>861.0</td>\n",
       "      <td>0</td>\n",
       "      <td>0</td>\n",
       "      <td>0</td>\n",
       "      <td>0</td>\n",
       "      <td>0</td>\n",
       "      <td>0</td>\n",
       "      <td>0</td>\n",
       "      <td>0</td>\n",
       "      <td>1</td>\n",
       "      <td>0</td>\n",
       "      <td>0</td>\n",
       "      <td>0</td>\n",
       "    </tr>\n",
       "    <tr>\n",
       "      <th>1</th>\n",
       "      <td>4024.0</td>\n",
       "      <td>1900</td>\n",
       "      <td>1.0</td>\n",
       "      <td>2.0</td>\n",
       "      <td>2.0</td>\n",
       "      <td>690.0</td>\n",
       "      <td>1</td>\n",
       "      <td>0</td>\n",
       "      <td>0</td>\n",
       "      <td>0</td>\n",
       "      <td>0</td>\n",
       "      <td>1</td>\n",
       "      <td>0</td>\n",
       "      <td>0</td>\n",
       "      <td>0</td>\n",
       "      <td>0</td>\n",
       "      <td>0</td>\n",
       "      <td>0</td>\n",
       "    </tr>\n",
       "  </tbody>\n",
       "</table>\n",
       "</div>"
      ],
      "text/plain": [
       "   time_seconds  subtotal  total_onshift_dashers  total_busy_dashers  \\\n",
       "0        3779.0      3441                   33.0                14.0   \n",
       "1        4024.0      1900                    1.0                 2.0   \n",
       "\n",
       "   total_outstanding_orders  estimated_store_to_consumer_driving_duration  \\\n",
       "0                      21.0                                         861.0   \n",
       "1                       2.0                                         690.0   \n",
       "\n",
       "   market_id_2.0  market_id_3.0  market_id_4.0  market_id_5.0  market_id_6.0  \\\n",
       "0              0              0              0              0              0   \n",
       "1              1              0              0              0              0   \n",
       "\n",
       "   day_of_week_1.0  day_of_week_2.0  day_of_week_3.0  day_of_week_4.0  \\\n",
       "0                0                0                0                1   \n",
       "1                1                0                0                0   \n",
       "\n",
       "   day_of_week_5.0  day_of_week_6.0  rush_hour_1.0  \n",
       "0                0                0              0  \n",
       "1                0                0              0  "
      ]
     },
     "execution_count": 60,
     "metadata": {},
     "output_type": "execute_result"
    }
   ],
   "source": [
    "df_.head(2)"
   ]
  },
  {
   "cell_type": "code",
   "execution_count": 61,
   "metadata": {},
   "outputs": [
    {
     "data": {
      "text/html": [
       "<div>\n",
       "<style scoped>\n",
       "    .dataframe tbody tr th:only-of-type {\n",
       "        vertical-align: middle;\n",
       "    }\n",
       "\n",
       "    .dataframe tbody tr th {\n",
       "        vertical-align: top;\n",
       "    }\n",
       "\n",
       "    .dataframe thead th {\n",
       "        text-align: right;\n",
       "    }\n",
       "</style>\n",
       "<table border=\"1\" class=\"dataframe\">\n",
       "  <thead>\n",
       "    <tr style=\"text-align: right;\">\n",
       "      <th></th>\n",
       "      <th>time_seconds</th>\n",
       "    </tr>\n",
       "  </thead>\n",
       "  <tbody>\n",
       "    <tr>\n",
       "      <th>0</th>\n",
       "      <td>3779.0</td>\n",
       "    </tr>\n",
       "    <tr>\n",
       "      <th>1</th>\n",
       "      <td>4024.0</td>\n",
       "    </tr>\n",
       "    <tr>\n",
       "      <th>2</th>\n",
       "      <td>1781.0</td>\n",
       "    </tr>\n",
       "  </tbody>\n",
       "</table>\n",
       "</div>"
      ],
      "text/plain": [
       "   time_seconds\n",
       "0        3779.0\n",
       "1        4024.0\n",
       "2        1781.0"
      ]
     },
     "execution_count": 61,
     "metadata": {},
     "output_type": "execute_result"
    }
   ],
   "source": [
    "y = df_[['time_seconds']]\n",
    "y.head(3)"
   ]
  },
  {
   "cell_type": "code",
   "execution_count": 62,
   "metadata": {},
   "outputs": [
    {
     "data": {
      "text/html": [
       "<div>\n",
       "<style scoped>\n",
       "    .dataframe tbody tr th:only-of-type {\n",
       "        vertical-align: middle;\n",
       "    }\n",
       "\n",
       "    .dataframe tbody tr th {\n",
       "        vertical-align: top;\n",
       "    }\n",
       "\n",
       "    .dataframe thead th {\n",
       "        text-align: right;\n",
       "    }\n",
       "</style>\n",
       "<table border=\"1\" class=\"dataframe\">\n",
       "  <thead>\n",
       "    <tr style=\"text-align: right;\">\n",
       "      <th></th>\n",
       "      <th>subtotal</th>\n",
       "      <th>total_onshift_dashers</th>\n",
       "      <th>total_busy_dashers</th>\n",
       "      <th>total_outstanding_orders</th>\n",
       "      <th>estimated_store_to_consumer_driving_duration</th>\n",
       "      <th>market_id_2.0</th>\n",
       "      <th>market_id_3.0</th>\n",
       "      <th>market_id_4.0</th>\n",
       "      <th>market_id_5.0</th>\n",
       "      <th>market_id_6.0</th>\n",
       "      <th>day_of_week_1.0</th>\n",
       "      <th>day_of_week_2.0</th>\n",
       "      <th>day_of_week_3.0</th>\n",
       "      <th>day_of_week_4.0</th>\n",
       "      <th>day_of_week_5.0</th>\n",
       "      <th>day_of_week_6.0</th>\n",
       "      <th>rush_hour_1.0</th>\n",
       "    </tr>\n",
       "  </thead>\n",
       "  <tbody>\n",
       "    <tr>\n",
       "      <th>0</th>\n",
       "      <td>3441</td>\n",
       "      <td>33.0</td>\n",
       "      <td>14.0</td>\n",
       "      <td>21.0</td>\n",
       "      <td>861.0</td>\n",
       "      <td>0</td>\n",
       "      <td>0</td>\n",
       "      <td>0</td>\n",
       "      <td>0</td>\n",
       "      <td>0</td>\n",
       "      <td>0</td>\n",
       "      <td>0</td>\n",
       "      <td>0</td>\n",
       "      <td>1</td>\n",
       "      <td>0</td>\n",
       "      <td>0</td>\n",
       "      <td>0</td>\n",
       "    </tr>\n",
       "    <tr>\n",
       "      <th>1</th>\n",
       "      <td>1900</td>\n",
       "      <td>1.0</td>\n",
       "      <td>2.0</td>\n",
       "      <td>2.0</td>\n",
       "      <td>690.0</td>\n",
       "      <td>1</td>\n",
       "      <td>0</td>\n",
       "      <td>0</td>\n",
       "      <td>0</td>\n",
       "      <td>0</td>\n",
       "      <td>1</td>\n",
       "      <td>0</td>\n",
       "      <td>0</td>\n",
       "      <td>0</td>\n",
       "      <td>0</td>\n",
       "      <td>0</td>\n",
       "      <td>0</td>\n",
       "    </tr>\n",
       "    <tr>\n",
       "      <th>2</th>\n",
       "      <td>1900</td>\n",
       "      <td>1.0</td>\n",
       "      <td>0.0</td>\n",
       "      <td>0.0</td>\n",
       "      <td>690.0</td>\n",
       "      <td>0</td>\n",
       "      <td>1</td>\n",
       "      <td>0</td>\n",
       "      <td>0</td>\n",
       "      <td>0</td>\n",
       "      <td>0</td>\n",
       "      <td>0</td>\n",
       "      <td>1</td>\n",
       "      <td>0</td>\n",
       "      <td>0</td>\n",
       "      <td>0</td>\n",
       "      <td>0</td>\n",
       "    </tr>\n",
       "  </tbody>\n",
       "</table>\n",
       "</div>"
      ],
      "text/plain": [
       "   subtotal  total_onshift_dashers  total_busy_dashers  \\\n",
       "0      3441                   33.0                14.0   \n",
       "1      1900                    1.0                 2.0   \n",
       "2      1900                    1.0                 0.0   \n",
       "\n",
       "   total_outstanding_orders  estimated_store_to_consumer_driving_duration  \\\n",
       "0                      21.0                                         861.0   \n",
       "1                       2.0                                         690.0   \n",
       "2                       0.0                                         690.0   \n",
       "\n",
       "   market_id_2.0  market_id_3.0  market_id_4.0  market_id_5.0  market_id_6.0  \\\n",
       "0              0              0              0              0              0   \n",
       "1              1              0              0              0              0   \n",
       "2              0              1              0              0              0   \n",
       "\n",
       "   day_of_week_1.0  day_of_week_2.0  day_of_week_3.0  day_of_week_4.0  \\\n",
       "0                0                0                0                1   \n",
       "1                1                0                0                0   \n",
       "2                0                0                1                0   \n",
       "\n",
       "   day_of_week_5.0  day_of_week_6.0  rush_hour_1.0  \n",
       "0                0                0              0  \n",
       "1                0                0              0  \n",
       "2                0                0              0  "
      ]
     },
     "execution_count": 62,
     "metadata": {},
     "output_type": "execute_result"
    }
   ],
   "source": [
    "X = df_.drop(['time_seconds'],axis=1)\n",
    "X.head(3)"
   ]
  },
  {
   "cell_type": "code",
   "execution_count": 64,
   "metadata": {},
   "outputs": [
    {
     "data": {
      "text/plain": [
       "((195909, 1), (195909, 17))"
      ]
     },
     "execution_count": 64,
     "metadata": {},
     "output_type": "execute_result"
    }
   ],
   "source": [
    "(y.shape,X.shape)"
   ]
  },
  {
   "cell_type": "code",
   "execution_count": null,
   "metadata": {},
   "outputs": [],
   "source": [
    "(X.shape[1], )"
   ]
  },
  {
   "cell_type": "code",
   "execution_count": null,
   "metadata": {},
   "outputs": [],
   "source": [
    "X[numerical[1:]].shape[1]"
   ]
  },
  {
   "cell_type": "markdown",
   "metadata": {},
   "source": [
    "## 5. Outliers Research"
   ]
  },
  {
   "cell_type": "code",
   "execution_count": 65,
   "metadata": {},
   "outputs": [
    {
     "data": {
      "image/png": "[encoded data removed]",
      "text/plain": [
       "<Figure size 432x288 with 1 Axes>"
      ]
     },
     "metadata": {
      "needs_background": "light"
     },
     "output_type": "display_data"
    }
   ],
   "source": [
    "# box_plot of target variable\n",
    "y.boxplot();"
   ]
  },
  {
   "cell_type": "code",
   "execution_count": 70,
   "metadata": {},
   "outputs": [
    {
     "data": {
      "text/html": [
       "<div>\n",
       "<style scoped>\n",
       "    .dataframe tbody tr th:only-of-type {\n",
       "        vertical-align: middle;\n",
       "    }\n",
       "\n",
       "    .dataframe tbody tr th {\n",
       "        vertical-align: top;\n",
       "    }\n",
       "\n",
       "    .dataframe thead th {\n",
       "        text-align: right;\n",
       "    }\n",
       "</style>\n",
       "<table border=\"1\" class=\"dataframe\">\n",
       "  <thead>\n",
       "    <tr style=\"text-align: right;\">\n",
       "      <th></th>\n",
       "      <th>time_seconds</th>\n",
       "    </tr>\n",
       "  </thead>\n",
       "  <tbody>\n",
       "    <tr>\n",
       "      <th>2690</th>\n",
       "      <td>8516859.0</td>\n",
       "    </tr>\n",
       "    <tr>\n",
       "      <th>185550</th>\n",
       "      <td>373879.0</td>\n",
       "    </tr>\n",
       "    <tr>\n",
       "      <th>27189</th>\n",
       "      <td>332482.0</td>\n",
       "    </tr>\n",
       "    <tr>\n",
       "      <th>83055</th>\n",
       "      <td>57032.0</td>\n",
       "    </tr>\n",
       "    <tr>\n",
       "      <th>190860</th>\n",
       "      <td>54447.0</td>\n",
       "    </tr>\n",
       "    <tr>\n",
       "      <th>86952</th>\n",
       "      <td>48178.0</td>\n",
       "    </tr>\n",
       "    <tr>\n",
       "      <th>76743</th>\n",
       "      <td>45685.0</td>\n",
       "    </tr>\n",
       "    <tr>\n",
       "      <th>105825</th>\n",
       "      <td>39352.0</td>\n",
       "    </tr>\n",
       "    <tr>\n",
       "      <th>66787</th>\n",
       "      <td>38457.0</td>\n",
       "    </tr>\n",
       "    <tr>\n",
       "      <th>175971</th>\n",
       "      <td>38143.0</td>\n",
       "    </tr>\n",
       "    <tr>\n",
       "      <th>139989</th>\n",
       "      <td>36196.0</td>\n",
       "    </tr>\n",
       "    <tr>\n",
       "      <th>51228</th>\n",
       "      <td>32929.0</td>\n",
       "    </tr>\n",
       "    <tr>\n",
       "      <th>63505</th>\n",
       "      <td>32690.0</td>\n",
       "    </tr>\n",
       "    <tr>\n",
       "      <th>31185</th>\n",
       "      <td>32159.0</td>\n",
       "    </tr>\n",
       "    <tr>\n",
       "      <th>109875</th>\n",
       "      <td>28325.0</td>\n",
       "    </tr>\n",
       "  </tbody>\n",
       "</table>\n",
       "</div>"
      ],
      "text/plain": [
       "        time_seconds\n",
       "2690       8516859.0\n",
       "185550      373879.0\n",
       "27189       332482.0\n",
       "83055        57032.0\n",
       "190860       54447.0\n",
       "86952        48178.0\n",
       "76743        45685.0\n",
       "105825       39352.0\n",
       "66787        38457.0\n",
       "175971       38143.0\n",
       "139989       36196.0\n",
       "51228        32929.0\n",
       "63505        32690.0\n",
       "31185        32159.0\n",
       "109875       28325.0"
      ]
     },
     "execution_count": 70,
     "metadata": {},
     "output_type": "execute_result"
    }
   ],
   "source": [
    "# list of extreme values of delivery time\n",
    "y.sort_values(by=['time_seconds'],ascending=False)[:15]"
   ]
  },
  {
   "cell_type": "code",
   "execution_count": 68,
   "metadata": {},
   "outputs": [
    {
     "data": {
      "image/png": "[encoded data removed]",
      "text/plain": [
       "<Figure size 432x288 with 1 Axes>"
      ]
     },
     "metadata": {
      "needs_background": "light"
     },
     "output_type": "display_data"
    }
   ],
   "source": [
    "# how a boxplot of target variable would look like without extreme outliers\n",
    "y.drop(y.sort_values(by=['time_seconds'],ascending=False).index[:7]).boxplot();"
   ]
  },
  {
   "cell_type": "markdown",
   "metadata": {},
   "source": [
    "#### dropping extreme outliers"
   ]
  },
  {
   "cell_type": "code",
   "execution_count": 71,
   "metadata": {},
   "outputs": [
    {
     "data": {
      "text/plain": [
       "Int64Index([2690, 185550, 27189, 83055, 190860, 86952, 76743], dtype='int64')"
      ]
     },
     "execution_count": 71,
     "metadata": {},
     "output_type": "execute_result"
    }
   ],
   "source": [
    "outliers = y.sort_values(by=['time_seconds'],ascending=False).index[:7]\n",
    "outliers"
   ]
  },
  {
   "cell_type": "code",
   "execution_count": 72,
   "metadata": {},
   "outputs": [],
   "source": [
    "y = y.drop(outliers,axis=0)"
   ]
  },
  {
   "cell_type": "code",
   "execution_count": 73,
   "metadata": {},
   "outputs": [
    {
     "data": {
      "image/png": "[encoded data removed]",
      "text/plain": [
       "<Figure size 432x288 with 1 Axes>"
      ]
     },
     "metadata": {
      "needs_background": "light"
     },
     "output_type": "display_data"
    }
   ],
   "source": [
    "y.boxplot();"
   ]
  },
  {
   "cell_type": "markdown",
   "metadata": {},
   "source": [
    "##### Assumption on non-extreme outliers\n",
    "deliveries that lasted more than 30,000 seconds (8 hours) can be viewed as outliers. There were only 14. These will be removed"
   ]
  },
  {
   "cell_type": "code",
   "execution_count": 78,
   "metadata": {},
   "outputs": [
    {
     "data": {
      "text/plain": [
       "7"
      ]
     },
     "execution_count": 78,
     "metadata": {},
     "output_type": "execute_result"
    }
   ],
   "source": [
    "(y.time_seconds>30000).sum()"
   ]
  },
  {
   "cell_type": "code",
   "execution_count": 79,
   "metadata": {},
   "outputs": [],
   "source": [
    "outliers_2 = y[y.time_seconds>30000].index"
   ]
  },
  {
   "cell_type": "code",
   "execution_count": 80,
   "metadata": {},
   "outputs": [],
   "source": [
    "y = y.drop(outliers_2,axis=0)"
   ]
  },
  {
   "cell_type": "code",
   "execution_count": 74,
   "metadata": {},
   "outputs": [],
   "source": [
    "X = X.drop(outliers,axis=0)"
   ]
  },
  {
   "cell_type": "code",
   "execution_count": 81,
   "metadata": {},
   "outputs": [],
   "source": [
    "X = X.drop(outliers_2,axis=0)"
   ]
  },
  {
   "cell_type": "code",
   "execution_count": 82,
   "metadata": {},
   "outputs": [
    {
     "data": {
      "text/plain": [
       "((195895, 1), (195895, 17))"
      ]
     },
     "execution_count": 82,
     "metadata": {},
     "output_type": "execute_result"
    }
   ],
   "source": [
    "(y.shape,X.shape)"
   ]
  },
  {
   "cell_type": "code",
   "execution_count": 83,
   "metadata": {},
   "outputs": [
    {
     "data": {
      "image/png": "[encoded data removed]",
      "text/plain": [
       "<Figure size 432x288 with 1 Axes>"
      ]
     },
     "metadata": {
      "needs_background": "light"
     },
     "output_type": "display_data"
    }
   ],
   "source": [
    "y.hist();"
   ]
  },
  {
   "cell_type": "markdown",
   "metadata": {},
   "source": [
    "## 6. Train and Validation Sets"
   ]
  },
  {
   "cell_type": "markdown",
   "metadata": {},
   "source": [
    "in order to assess predictability of unseen data, a validation subset is created in order to assess model's bias/vias with unseen data."
   ]
  },
  {
   "cell_type": "code",
   "execution_count": 233,
   "metadata": {},
   "outputs": [],
   "source": [
    "from sklearn.model_selection import train_test_split"
   ]
  },
  {
   "cell_type": "code",
   "execution_count": 234,
   "metadata": {},
   "outputs": [],
   "source": [
    "X_train, X_val, y_train, y_val = train_test_split(X,y,train_size=.85)"
   ]
  },
  {
   "cell_type": "markdown",
   "metadata": {},
   "source": [
    "## 7. Scaling dataset "
   ]
  },
  {
   "cell_type": "markdown",
   "metadata": {},
   "source": [
    "training a machine learning model works best scaling the features and the target variables to show comparable proportionality deviations around their mean. The scaling applied here is a standardization, for numerical variables -not dummies."
   ]
  },
  {
   "cell_type": "code",
   "execution_count": 84,
   "metadata": {},
   "outputs": [],
   "source": [
    "import sklearn.preprocessing"
   ]
  },
  {
   "cell_type": "code",
   "execution_count": 85,
   "metadata": {},
   "outputs": [],
   "source": [
    "from sklearn.preprocessing import StandardScaler"
   ]
  },
  {
   "cell_type": "code",
   "execution_count": 86,
   "metadata": {},
   "outputs": [],
   "source": [
    "scaler = StandardScaler()"
   ]
  },
  {
   "cell_type": "code",
   "execution_count": 87,
   "metadata": {},
   "outputs": [],
   "source": [
    "y_scaled = scaler.fit_transform(y)"
   ]
  },
  {
   "cell_type": "code",
   "execution_count": 235,
   "metadata": {},
   "outputs": [],
   "source": [
    "y_train_scaled = scaler.fit_transform(y_train)"
   ]
  },
  {
   "cell_type": "code",
   "execution_count": 236,
   "metadata": {},
   "outputs": [],
   "source": [
    "y_val_scaled = scaler.fit_transform(y_val)"
   ]
  },
  {
   "cell_type": "code",
   "execution_count": 237,
   "metadata": {},
   "outputs": [
    {
     "data": {
      "text/plain": [
       "count    1.958950e+05\n",
       "mean     3.418758e-16\n",
       "std      1.000003e+00\n",
       "min     -2.448552e+00\n",
       "25%     -6.708341e-01\n",
       "50%     -1.773689e-01\n",
       "75%      4.634259e-01\n",
       "max      2.260102e+01\n",
       "dtype: float64"
      ]
     },
     "execution_count": 237,
     "metadata": {},
     "output_type": "execute_result"
    }
   ],
   "source": [
    "pd.Series(y_scaled.reshape(-1)).describe()"
   ]
  },
  {
   "cell_type": "code",
   "execution_count": 238,
   "metadata": {},
   "outputs": [
    {
     "data": {
      "image/png": "[encoded data removed]",
      "text/plain": [
       "<Figure size 432x288 with 1 Axes>"
      ]
     },
     "metadata": {
      "needs_background": "light"
     },
     "output_type": "display_data"
    }
   ],
   "source": [
    "pd.Series(y_scaled.reshape(-1)).hist();"
   ]
  },
  {
   "cell_type": "markdown",
   "metadata": {},
   "source": [
    "###### scaling only numerical features and not categorical dummies"
   ]
  },
  {
   "cell_type": "code",
   "execution_count": 239,
   "metadata": {},
   "outputs": [
    {
     "data": {
      "text/plain": [
       "0                                        subtotal\n",
       "1                           total_onshift_dashers\n",
       "2                              total_busy_dashers\n",
       "3                        total_outstanding_orders\n",
       "4    estimated_store_to_consumer_driving_duration\n",
       "5                                   market_id_2.0\n",
       "dtype: object"
      ]
     },
     "execution_count": 239,
     "metadata": {},
     "output_type": "execute_result"
    }
   ],
   "source": [
    "# checking which features should be scaled\n",
    "pd.Series(X.columns).T.head(6)"
   ]
  },
  {
   "cell_type": "code",
   "execution_count": 88,
   "metadata": {},
   "outputs": [
    {
     "data": {
      "text/plain": [
       "Index(['subtotal', 'total_onshift_dashers', 'total_busy_dashers',\n",
       "       'total_outstanding_orders',\n",
       "       'estimated_store_to_consumer_driving_duration'],\n",
       "      dtype='object')"
      ]
     },
     "execution_count": 88,
     "metadata": {},
     "output_type": "execute_result"
    }
   ],
   "source": [
    "X.columns[:5]"
   ]
  },
  {
   "cell_type": "code",
   "execution_count": 89,
   "metadata": {},
   "outputs": [],
   "source": [
    "# Scaling Features (only numerical variables)\n",
    "X_scaled = np.concatenate((scaler.fit_transform(X[ X.columns[:5] ]), # numerical features\n",
    "               np.array(X[ X.columns[5:] ]) ), # categorical features\n",
    "               axis=1)"
   ]
  },
  {
   "cell_type": "code",
   "execution_count": 90,
   "metadata": {},
   "outputs": [
    {
     "data": {
      "text/plain": [
       "(195895, 17)"
      ]
     },
     "execution_count": 90,
     "metadata": {},
     "output_type": "execute_result"
    }
   ],
   "source": [
    "X_scaled.shape"
   ]
  },
  {
   "cell_type": "code",
   "execution_count": 244,
   "metadata": {},
   "outputs": [],
   "source": [
    "# Train set\n",
    "X_train_scaled = np.concatenate((scaler.fit_transform(X_train[ X_train.columns[:5] ]), # numerical features\n",
    "                                 np.array(X_train[ X_train.columns[5:] ]) ), # categorical features\n",
    "                                axis=1)"
   ]
  },
  {
   "cell_type": "code",
   "execution_count": 245,
   "metadata": {},
   "outputs": [],
   "source": [
    "# Validation set\n",
    "X_val_scaled = np.concatenate((scaler.fit_transform(X_val[ X_val.columns[:5] ]), # numerical features\n",
    "                               np.array(X_val[ X_val.columns[5:] ]) ), # categorical features\n",
    "                              axis=1)"
   ]
  },
  {
   "cell_type": "code",
   "execution_count": 247,
   "metadata": {},
   "outputs": [
    {
     "data": {
      "text/html": [
       "<div>\n",
       "<style scoped>\n",
       "    .dataframe tbody tr th:only-of-type {\n",
       "        vertical-align: middle;\n",
       "    }\n",
       "\n",
       "    .dataframe tbody tr th {\n",
       "        vertical-align: top;\n",
       "    }\n",
       "\n",
       "    .dataframe thead th {\n",
       "        text-align: right;\n",
       "    }\n",
       "</style>\n",
       "<table border=\"1\" class=\"dataframe\">\n",
       "  <thead>\n",
       "    <tr style=\"text-align: right;\">\n",
       "      <th></th>\n",
       "      <th>subtotal</th>\n",
       "      <th>total_onshift_dashers</th>\n",
       "      <th>total_busy_dashers</th>\n",
       "      <th>total_outstanding_orders</th>\n",
       "      <th>estimated_store_to_consumer_driving_duration</th>\n",
       "      <th>market_id_2.0</th>\n",
       "      <th>market_id_3.0</th>\n",
       "      <th>market_id_4.0</th>\n",
       "      <th>market_id_5.0</th>\n",
       "      <th>market_id_6.0</th>\n",
       "      <th>day_of_week_1.0</th>\n",
       "      <th>day_of_week_2.0</th>\n",
       "      <th>day_of_week_3.0</th>\n",
       "      <th>day_of_week_4.0</th>\n",
       "      <th>day_of_week_5.0</th>\n",
       "      <th>day_of_week_6.0</th>\n",
       "      <th>rush_hour_1.0</th>\n",
       "    </tr>\n",
       "  </thead>\n",
       "  <tbody>\n",
       "    <tr>\n",
       "      <th>count</th>\n",
       "      <td>1.958950e+05</td>\n",
       "      <td>1.958950e+05</td>\n",
       "      <td>1.958950e+05</td>\n",
       "      <td>1.958950e+05</td>\n",
       "      <td>1.958950e+05</td>\n",
       "      <td>195895.000000</td>\n",
       "      <td>195895.000000</td>\n",
       "      <td>195895.000000</td>\n",
       "      <td>195895.000000</td>\n",
       "      <td>195895.000000</td>\n",
       "      <td>195895.000000</td>\n",
       "      <td>195895.000000</td>\n",
       "      <td>195895.000000</td>\n",
       "      <td>195895.000000</td>\n",
       "      <td>195895.000000</td>\n",
       "      <td>195895.00000</td>\n",
       "      <td>195895.000000</td>\n",
       "    </tr>\n",
       "    <tr>\n",
       "      <th>mean</th>\n",
       "      <td>2.109290e-16</td>\n",
       "      <td>-4.567718e-16</td>\n",
       "      <td>2.808192e-15</td>\n",
       "      <td>-1.989531e-15</td>\n",
       "      <td>1.552402e-16</td>\n",
       "      <td>0.280206</td>\n",
       "      <td>0.118640</td>\n",
       "      <td>0.242257</td>\n",
       "      <td>0.091661</td>\n",
       "      <td>0.073580</td>\n",
       "      <td>0.121999</td>\n",
       "      <td>0.122882</td>\n",
       "      <td>0.128155</td>\n",
       "      <td>0.141555</td>\n",
       "      <td>0.175487</td>\n",
       "      <td>0.17076</td>\n",
       "      <td>0.032288</td>\n",
       "    </tr>\n",
       "    <tr>\n",
       "      <th>std</th>\n",
       "      <td>1.000003e+00</td>\n",
       "      <td>1.000003e+00</td>\n",
       "      <td>1.000003e+00</td>\n",
       "      <td>1.000003e+00</td>\n",
       "      <td>1.000003e+00</td>\n",
       "      <td>0.449101</td>\n",
       "      <td>0.323365</td>\n",
       "      <td>0.428450</td>\n",
       "      <td>0.288548</td>\n",
       "      <td>0.261087</td>\n",
       "      <td>0.327286</td>\n",
       "      <td>0.328303</td>\n",
       "      <td>0.334264</td>\n",
       "      <td>0.348594</td>\n",
       "      <td>0.380384</td>\n",
       "      <td>0.37630</td>\n",
       "      <td>0.176764</td>\n",
       "    </tr>\n",
       "    <tr>\n",
       "      <th>min</th>\n",
       "      <td>-1.471862e+00</td>\n",
       "      <td>-1.475472e+00</td>\n",
       "      <td>-1.517685e+00</td>\n",
       "      <td>-1.269512e+00</td>\n",
       "      <td>-2.485988e+00</td>\n",
       "      <td>0.000000</td>\n",
       "      <td>0.000000</td>\n",
       "      <td>0.000000</td>\n",
       "      <td>0.000000</td>\n",
       "      <td>0.000000</td>\n",
       "      <td>0.000000</td>\n",
       "      <td>0.000000</td>\n",
       "      <td>0.000000</td>\n",
       "      <td>0.000000</td>\n",
       "      <td>0.000000</td>\n",
       "      <td>0.00000</td>\n",
       "      <td>0.000000</td>\n",
       "    </tr>\n",
       "    <tr>\n",
       "      <th>25%</th>\n",
       "      <td>-7.038330e-01</td>\n",
       "      <td>-7.803347e-01</td>\n",
       "      <td>-8.035219e-01</td>\n",
       "      <td>-7.741152e-01</td>\n",
       "      <td>-7.444580e-01</td>\n",
       "      <td>0.000000</td>\n",
       "      <td>0.000000</td>\n",
       "      <td>0.000000</td>\n",
       "      <td>0.000000</td>\n",
       "      <td>0.000000</td>\n",
       "      <td>0.000000</td>\n",
       "      <td>0.000000</td>\n",
       "      <td>0.000000</td>\n",
       "      <td>0.000000</td>\n",
       "      <td>0.000000</td>\n",
       "      <td>0.00000</td>\n",
       "      <td>0.000000</td>\n",
       "    </tr>\n",
       "    <tr>\n",
       "      <th>50%</th>\n",
       "      <td>-2.649595e-01</td>\n",
       "      <td>-1.154211e-01</td>\n",
       "      <td>-8.935919e-02</td>\n",
       "      <td>-2.192708e-01</td>\n",
       "      <td>-5.903573e-03</td>\n",
       "      <td>0.000000</td>\n",
       "      <td>0.000000</td>\n",
       "      <td>0.000000</td>\n",
       "      <td>0.000000</td>\n",
       "      <td>0.000000</td>\n",
       "      <td>0.000000</td>\n",
       "      <td>0.000000</td>\n",
       "      <td>0.000000</td>\n",
       "      <td>0.000000</td>\n",
       "      <td>0.000000</td>\n",
       "      <td>0.00000</td>\n",
       "      <td>0.000000</td>\n",
       "    </tr>\n",
       "    <tr>\n",
       "      <th>75%</th>\n",
       "      <td>3.911564e-01</td>\n",
       "      <td>5.192691e-01</td>\n",
       "      <td>5.761106e-01</td>\n",
       "      <td>4.346531e-01</td>\n",
       "      <td>7.144150e-01</td>\n",
       "      <td>1.000000</td>\n",
       "      <td>0.000000</td>\n",
       "      <td>0.000000</td>\n",
       "      <td>0.000000</td>\n",
       "      <td>0.000000</td>\n",
       "      <td>0.000000</td>\n",
       "      <td>0.000000</td>\n",
       "      <td>0.000000</td>\n",
       "      <td>0.000000</td>\n",
       "      <td>0.000000</td>\n",
       "      <td>0.00000</td>\n",
       "      <td>0.000000</td>\n",
       "    </tr>\n",
       "    <tr>\n",
       "      <th>max</th>\n",
       "      <td>1.339498e+01</td>\n",
       "      <td>3.813614e+00</td>\n",
       "      <td>3.643764e+00</td>\n",
       "      <td>4.496907e+00</td>\n",
       "      <td>7.033159e+00</td>\n",
       "      <td>1.000000</td>\n",
       "      <td>1.000000</td>\n",
       "      <td>1.000000</td>\n",
       "      <td>1.000000</td>\n",
       "      <td>1.000000</td>\n",
       "      <td>1.000000</td>\n",
       "      <td>1.000000</td>\n",
       "      <td>1.000000</td>\n",
       "      <td>1.000000</td>\n",
       "      <td>1.000000</td>\n",
       "      <td>1.00000</td>\n",
       "      <td>1.000000</td>\n",
       "    </tr>\n",
       "  </tbody>\n",
       "</table>\n",
       "</div>"
      ],
      "text/plain": [
       "           subtotal  total_onshift_dashers  total_busy_dashers  \\\n",
       "count  1.958950e+05           1.958950e+05        1.958950e+05   \n",
       "mean   2.109290e-16          -4.567718e-16        2.808192e-15   \n",
       "std    1.000003e+00           1.000003e+00        1.000003e+00   \n",
       "min   -1.471862e+00          -1.475472e+00       -1.517685e+00   \n",
       "25%   -7.038330e-01          -7.803347e-01       -8.035219e-01   \n",
       "50%   -2.649595e-01          -1.154211e-01       -8.935919e-02   \n",
       "75%    3.911564e-01           5.192691e-01        5.761106e-01   \n",
       "max    1.339498e+01           3.813614e+00        3.643764e+00   \n",
       "\n",
       "       total_outstanding_orders  estimated_store_to_consumer_driving_duration  \\\n",
       "count              1.958950e+05                                  1.958950e+05   \n",
       "mean              -1.989531e-15                                  1.552402e-16   \n",
       "std                1.000003e+00                                  1.000003e+00   \n",
       "min               -1.269512e+00                                 -2.485988e+00   \n",
       "25%               -7.741152e-01                                 -7.444580e-01   \n",
       "50%               -2.192708e-01                                 -5.903573e-03   \n",
       "75%                4.346531e-01                                  7.144150e-01   \n",
       "max                4.496907e+00                                  7.033159e+00   \n",
       "\n",
       "       market_id_2.0  market_id_3.0  market_id_4.0  market_id_5.0  \\\n",
       "count  195895.000000  195895.000000  195895.000000  195895.000000   \n",
       "mean        0.280206       0.118640       0.242257       0.091661   \n",
       "std         0.449101       0.323365       0.428450       0.288548   \n",
       "min         0.000000       0.000000       0.000000       0.000000   \n",
       "25%         0.000000       0.000000       0.000000       0.000000   \n",
       "50%         0.000000       0.000000       0.000000       0.000000   \n",
       "75%         1.000000       0.000000       0.000000       0.000000   \n",
       "max         1.000000       1.000000       1.000000       1.000000   \n",
       "\n",
       "       market_id_6.0  day_of_week_1.0  day_of_week_2.0  day_of_week_3.0  \\\n",
       "count  195895.000000    195895.000000    195895.000000    195895.000000   \n",
       "mean        0.073580         0.121999         0.122882         0.128155   \n",
       "std         0.261087         0.327286         0.328303         0.334264   \n",
       "min         0.000000         0.000000         0.000000         0.000000   \n",
       "25%         0.000000         0.000000         0.000000         0.000000   \n",
       "50%         0.000000         0.000000         0.000000         0.000000   \n",
       "75%         0.000000         0.000000         0.000000         0.000000   \n",
       "max         1.000000         1.000000         1.000000         1.000000   \n",
       "\n",
       "       day_of_week_4.0  day_of_week_5.0  day_of_week_6.0  rush_hour_1.0  \n",
       "count    195895.000000    195895.000000     195895.00000  195895.000000  \n",
       "mean          0.141555         0.175487          0.17076       0.032288  \n",
       "std           0.348594         0.380384          0.37630       0.176764  \n",
       "min           0.000000         0.000000          0.00000       0.000000  \n",
       "25%           0.000000         0.000000          0.00000       0.000000  \n",
       "50%           0.000000         0.000000          0.00000       0.000000  \n",
       "75%           0.000000         0.000000          0.00000       0.000000  \n",
       "max           1.000000         1.000000          1.00000       1.000000  "
      ]
     },
     "execution_count": 247,
     "metadata": {},
     "output_type": "execute_result"
    }
   ],
   "source": [
    "pd.DataFrame(X_scaled,columns=X.columns).describe()"
   ]
  },
  {
   "cell_type": "markdown",
   "metadata": {},
   "source": [
    "it can be seen numerical variables are standardized, having mean close to zero and std close to 1."
   ]
  },
  {
   "cell_type": "markdown",
   "metadata": {},
   "source": [
    "## 8. Neural Network Model"
   ]
  },
  {
   "cell_type": "code",
   "execution_count": 91,
   "metadata": {},
   "outputs": [],
   "source": [
    "import keras\n",
    "from keras.models import Sequential\n",
    "from keras.layers import Dense\n",
    "from keras.datasets import mnist\n",
    "from tensorflow.keras.optimizers import SGD\n",
    "from tensorflow.keras.optimizers import Adam"
   ]
  },
  {
   "cell_type": "code",
   "execution_count": 92,
   "metadata": {},
   "outputs": [],
   "source": [
    "from keras.layers import BatchNormalization\n",
    "from keras.layers import Dropout"
   ]
  },
  {
   "cell_type": "code",
   "execution_count": 93,
   "metadata": {},
   "outputs": [],
   "source": [
    "import tensorflow as tf\n",
    "import keras.losses"
   ]
  },
  {
   "cell_type": "code",
   "execution_count": 348,
   "metadata": {},
   "outputs": [],
   "source": [
    "# Type of Model\n",
    "model = Sequential()\n",
    "\n",
    "# Hidden Layer: 64 neurons\n",
    "model.add( Dense(64, activation='relu',input_shape=(X_train_scaled.shape[1],) ) ) # input_dim=X.shape[1]\n",
    "model.add(BatchNormalization())\n",
    "\n",
    "model.add( Dense(32, activation='relu') )\n",
    "model.add(BatchNormalization())\n",
    "\n",
    "model.add( Dense(16, activation='relu') )\n",
    "model.add(BatchNormalization())\n",
    "model.add(Dropout(0.2))\n",
    "\n",
    "# Output Layer:\n",
    "model.add( Dense(1, activation='linear'))"
   ]
  },
  {
   "cell_type": "code",
   "execution_count": 352,
   "metadata": {},
   "outputs": [
    {
     "name": "stdout",
     "output_type": "stream",
     "text": [
      "Model: \"sequential_5\"\n",
      "_________________________________________________________________\n",
      "Layer (type)                 Output Shape              Param #   \n",
      "=================================================================\n",
      "dense_13 (Dense)             (None, 64)                1152      \n",
      "_________________________________________________________________\n",
      "batch_normalization_12 (Batc (None, 64)                256       \n",
      "_________________________________________________________________\n",
      "dense_14 (Dense)             (None, 32)                2080      \n",
      "_________________________________________________________________\n",
      "batch_normalization_13 (Batc (None, 32)                128       \n",
      "_________________________________________________________________\n",
      "dense_15 (Dense)             (None, 16)                528       \n",
      "_________________________________________________________________\n",
      "batch_normalization_14 (Batc (None, 16)                64        \n",
      "_________________________________________________________________\n",
      "dropout_4 (Dropout)          (None, 16)                0         \n",
      "_________________________________________________________________\n",
      "dense_16 (Dense)             (None, 1)                 17        \n",
      "=================================================================\n",
      "Total params: 4,225\n",
      "Trainable params: 4,001\n",
      "Non-trainable params: 224\n",
      "_________________________________________________________________\n"
     ]
    }
   ],
   "source": [
    "model.summary()"
   ]
  },
  {
   "cell_type": "markdown",
   "metadata": {},
   "source": [
    "*Note on model architecture:* \n",
    "\n",
    "There were several tries tunning manually tuning:\n",
    "- the number of neurons\n",
    "- number of hidden layers\n",
    "- dropout rate for overfitting\n",
    "- activation functions\n",
    "\n",
    "final design is presented only for aesthetical purposes."
   ]
  },
  {
   "cell_type": "raw",
   "metadata": {},
   "source": [
    "# customized loss function\n",
    "def mean_squared_error(y_true, y_pred):\n",
    "    loss = tf.square(y_true - y_pred)\n",
    "    return tf.reduce_mean(loss, axis=-1)\n",
    "\n",
    "keras.losses.mean_squared_error = mean_squared_error"
   ]
  },
  {
   "cell_type": "raw",
   "metadata": {},
   "source": [
    "# customized loss function\n",
    "def sign_penalty(y_true, y_pred):\n",
    "    penalty = 100.\n",
    "    loss = tf.where(tf.less(y_true * y_pred, 0),\n",
    "                    penalty * tf.square(y_true - y_pred),\n",
    "                    tf.square(y_true - y_pred))\n",
    "    return tf.reduce_mean(loss, axis=-1)\n",
    "\n",
    "# enable use of loss with keras\n",
    "keras.losses.sign_penalty = sign_penalty"
   ]
  },
  {
   "cell_type": "code",
   "execution_count": 353,
   "metadata": {},
   "outputs": [],
   "source": [
    "# Fitting\n",
    "model.compile(loss='mse', optimizer='adam')"
   ]
  },
  {
   "cell_type": "code",
   "execution_count": 354,
   "metadata": {},
   "outputs": [
    {
     "name": "stdout",
     "output_type": "stream",
     "text": [
      "Epoch 1/10\n",
      "2602/2602 [==============================] - 9s 3ms/step - loss: 0.8305 - val_loss: 0.7713\n",
      "Epoch 2/10\n",
      "2602/2602 [==============================] - 9s 3ms/step - loss: 0.7551 - val_loss: 0.7672\n",
      "Epoch 3/10\n",
      "2602/2602 [==============================] - 8s 3ms/step - loss: 0.7497 - val_loss: 0.7636\n",
      "Epoch 4/10\n",
      "2602/2602 [==============================] - 8s 3ms/step - loss: 0.7464 - val_loss: 0.7567\n",
      "Epoch 5/10\n",
      "2602/2602 [==============================] - 9s 3ms/step - loss: 0.7448 - val_loss: 0.7583\n",
      "Epoch 6/10\n",
      "2602/2602 [==============================] - 8s 3ms/step - loss: 0.7430 - val_loss: 0.7575\n",
      "Epoch 7/10\n",
      "2602/2602 [==============================] - 8s 3ms/step - loss: 0.7409 - val_loss: 0.7540\n",
      "Epoch 8/10\n",
      "2602/2602 [==============================] - 8s 3ms/step - loss: 0.7402 - val_loss: 0.7573\n",
      "Epoch 9/10\n",
      "2602/2602 [==============================] - 8s 3ms/step - loss: 0.7409 - val_loss: 0.7559\n",
      "Epoch 10/10\n",
      "2602/2602 [==============================] - 8s 3ms/step - loss: 0.7397 - val_loss: 0.7592\n"
     ]
    }
   ],
   "source": [
    "loss_fit = model.fit(X_train_scaled, y_train_scaled,\n",
    "                     validation_data=(X_val_scaled,y_val_scaled),\n",
    "                     batch_size=64, epochs=10, verbose=1);"
   ]
  },
  {
   "cell_type": "code",
   "execution_count": 355,
   "metadata": {},
   "outputs": [
    {
     "data": {
      "image/png": "[encoded data removed]",
      "text/plain": [
       "<Figure size 432x288 with 1 Axes>"
      ]
     },
     "metadata": {
      "needs_background": "light"
     },
     "output_type": "display_data"
    }
   ],
   "source": [
    "plt.plot(loss_fit.history['loss'])\n",
    "plt.title('loss: ' + str(round(loss_fit.history['loss'][-1],4)))\n",
    "plt.xlabel('epoch')\n",
    "plt.ylabel('loss')\n",
    "plt.show()"
   ]
  },
  {
   "cell_type": "code",
   "execution_count": 356,
   "metadata": {},
   "outputs": [
    {
     "data": {
      "image/png": "[encoded data removed]",
      "text/plain": [
       "<Figure size 432x288 with 1 Axes>"
      ]
     },
     "metadata": {
      "needs_background": "light"
     },
     "output_type": "display_data"
    }
   ],
   "source": [
    "plt.plot(loss_fit.history['val_loss'][1:])\n",
    "plt.title('val_loss: ' + str(round(loss_fit.history['val_loss'][-1],4)))\n",
    "plt.xlabel('epoch')\n",
    "plt.ylabel('loss')\n",
    "plt.show()"
   ]
  },
  {
   "cell_type": "code",
   "execution_count": 363,
   "metadata": {},
   "outputs": [],
   "source": [
    "from sklearn.metrics import r2_score, mean_squared_error"
   ]
  },
  {
   "cell_type": "code",
   "execution_count": 357,
   "metadata": {},
   "outputs": [],
   "source": [
    "# Prediction\n",
    "y_train_pred_scaled = model.predict(X_train_scaled)\n",
    "y_val_pred_scaled = model.predict(X_val_scaled)"
   ]
  },
  {
   "cell_type": "code",
   "execution_count": 358,
   "metadata": {},
   "outputs": [],
   "source": [
    "# Scaling back to original units\n",
    "y_train_scaled = scaler.fit_transform(y_train) # called again for reshaping scaler\n",
    "y_train_pred = scaler.inverse_transform(y_train_pred_scaled)"
   ]
  },
  {
   "cell_type": "code",
   "execution_count": 359,
   "metadata": {},
   "outputs": [],
   "source": [
    "# Scaling back to original units\n",
    "y_val_scaled = scaler.fit_transform(y_val) # called again for reshaping scaler\n",
    "y_val_pred = scaler.inverse_transform(y_val_pred_scaled)"
   ]
  },
  {
   "cell_type": "code",
   "execution_count": null,
   "metadata": {},
   "outputs": [],
   "source": [
    "# Training Set Prediction df\n",
    "df_train_pred = y_train.reset_index(drop=True).join(pd.DataFrame(y_train_pred,columns=['Prediction']))\n",
    "df_train_pred.head(12)"
   ]
  },
  {
   "cell_type": "code",
   "execution_count": 360,
   "metadata": {},
   "outputs": [
    {
     "data": {
      "image/png": "[encoded data removed]",
      "text/plain": [
       "<Figure size 432x288 with 1 Axes>"
      ]
     },
     "metadata": {
      "needs_background": "light"
     },
     "output_type": "display_data"
    }
   ],
   "source": [
    "plt.scatter(y_train, y_train_pred)\n",
    "plt.title('Train set')\n",
    "plt.xlabel('predictions')\n",
    "plt.ylabel('actual')\n",
    "plt.show()"
   ]
  },
  {
   "cell_type": "code",
   "execution_count": 361,
   "metadata": {},
   "outputs": [
    {
     "name": "stdout",
     "output_type": "stream",
     "text": [
      "R^2: 0.27763288414023435\n"
     ]
    }
   ],
   "source": [
    "print('R^2: '+str(r2_score(y_train, y_train_pred)) )"
   ]
  },
  {
   "cell_type": "code",
   "execution_count": 371,
   "metadata": {},
   "outputs": [
    {
     "name": "stdout",
     "output_type": "stream",
     "text": [
      "Train RMSE: 955.18\n"
     ]
    }
   ],
   "source": [
    "# Train RMSE:\n",
    "rmse_train_nn = mean_squared_error(y_train, y_train_pred,squared=False).round(2)\n",
    "print('Train RMSE: '+str(rmse_train_nn) )"
   ]
  },
  {
   "cell_type": "code",
   "execution_count": 366,
   "metadata": {},
   "outputs": [
    {
     "data": {
      "text/plain": [
       "'+/-15.92 minutes off on average (Train set) '"
      ]
     },
     "execution_count": 366,
     "metadata": {},
     "output_type": "execute_result"
    }
   ],
   "source": [
    "'+/-'+str((mean_squared_error(y_train, y_train_pred,squared=False)/60).round(2))+' minutes off on average (Train set) '"
   ]
  },
  {
   "cell_type": "code",
   "execution_count": 367,
   "metadata": {},
   "outputs": [
    {
     "data": {
      "image/png": "[encoded data removed]",
      "text/plain": [
       "<Figure size 432x288 with 1 Axes>"
      ]
     },
     "metadata": {
      "needs_background": "light"
     },
     "output_type": "display_data"
    }
   ],
   "source": [
    "plt.scatter(y_val, y_val_pred)\n",
    "plt.title('Validation set')\n",
    "plt.xlabel('predictions')\n",
    "plt.ylabel('actual')\n",
    "plt.show()"
   ]
  },
  {
   "cell_type": "code",
   "execution_count": 368,
   "metadata": {},
   "outputs": [
    {
     "name": "stdout",
     "output_type": "stream",
     "text": [
      "R^2: 0.24078645040174784\n"
     ]
    }
   ],
   "source": [
    "print('R^2: '+str(r2_score(y_val, y_val_pred)) )"
   ]
  },
  {
   "cell_type": "code",
   "execution_count": 370,
   "metadata": {},
   "outputs": [
    {
     "name": "stdout",
     "output_type": "stream",
     "text": [
      "Validation RMSE: 995.88\n"
     ]
    }
   ],
   "source": [
    "# Validation RMSE\n",
    "rmse_val_nn = mean_squared_error(y_val, y_val_pred,squared=False).round(2)\n",
    "print('Validation RMSE: '+str(rmse_val_nn) )"
   ]
  },
  {
   "cell_type": "code",
   "execution_count": 372,
   "metadata": {},
   "outputs": [
    {
     "data": {
      "text/plain": [
       "'+/-16.6 minutes off on average (Validation set) '"
      ]
     },
     "execution_count": 372,
     "metadata": {},
     "output_type": "execute_result"
    }
   ],
   "source": [
    "'+/-'+str((mean_squared_error(y_val, y_val_pred,squared=False)/60).round(2))+' minutes off on average (Validation set) '"
   ]
  },
  {
   "cell_type": "markdown",
   "metadata": {},
   "source": [
    "## 8.b. LSTM Network"
   ]
  },
  {
   "cell_type": "code",
   "execution_count": 154,
   "metadata": {},
   "outputs": [],
   "source": [
    "from keras.layers import LSTM"
   ]
  },
  {
   "cell_type": "code",
   "execution_count": 335,
   "metadata": {},
   "outputs": [
    {
     "data": {
      "text/plain": [
       "((166510, 17), (29385, 17))"
      ]
     },
     "execution_count": 335,
     "metadata": {},
     "output_type": "execute_result"
    }
   ],
   "source": [
    "(X_train_scaled.shape,X_val_scaled.shape)"
   ]
  },
  {
   "cell_type": "code",
   "execution_count": 336,
   "metadata": {},
   "outputs": [
    {
     "data": {
      "text/plain": [
       "((166510, 1, 17), (29385, 1, 17))"
      ]
     },
     "execution_count": 336,
     "metadata": {},
     "output_type": "execute_result"
    }
   ],
   "source": [
    "# reshape input to be 3D [samples, timesteps, features]\n",
    "X_scaled_3d = X_scaled.reshape((X_scaled.shape[0], 1, X_scaled.shape[1]))\n",
    "X_train_scaled_3d = X_train_scaled.reshape((X_train_scaled.shape[0], 1, X_train_scaled.shape[1]))\n",
    "X_val_scaled_3d = X_val_scaled.reshape((X_val_scaled.shape[0], 1, X_val_scaled.shape[1]))\n",
    "(X_train_scaled_3d.shape,X_val_scaled_3d.shape)"
   ]
  },
  {
   "cell_type": "code",
   "execution_count": 337,
   "metadata": {},
   "outputs": [
    {
     "data": {
      "text/plain": [
       "((166510,), (29385,))"
      ]
     },
     "execution_count": 337,
     "metadata": {},
     "output_type": "execute_result"
    }
   ],
   "source": [
    "# reshape input to be 3D [samples, timesteps, features]\n",
    "y_scaled_3d = y_scaled[:,-1]\n",
    "y_train_scaled_3d = y_train_scaled[:,-1]\n",
    "y_val_scaled_3d = y_val_scaled[:,-1]\n",
    "(y_train_scaled_3d.shape,y_val_scaled_3d.shape)"
   ]
  },
  {
   "cell_type": "code",
   "execution_count": 338,
   "metadata": {},
   "outputs": [],
   "source": [
    "# Type of Model\n",
    "model = Sequential()\n",
    "\n",
    "# Hidden Layer: 64 neurons\n",
    "model.add( LSTM(64, activation='relu', #input_shape=(X_train_scaled.shape[1],) ) ) # input_dim=X.shape[1]\n",
    "                input_shape=(X_train_scaled_3d.shape[1], \n",
    "                             X_train_scaled_3d.shape[2]) \n",
    "               )\n",
    "         )\n",
    "model.add(BatchNormalization())\n",
    "\n",
    "model.add( Dense(32, activation='relu') )\n",
    "model.add(BatchNormalization())\n",
    "\n",
    "model.add( Dense(16, activation='relu') )\n",
    "model.add(BatchNormalization())\n",
    "model.add(Dropout(0.2))\n",
    "\n",
    "# Output Layer:\n",
    "model.add( Dense(1, activation='linear'))"
   ]
  },
  {
   "cell_type": "code",
   "execution_count": 339,
   "metadata": {},
   "outputs": [
    {
     "name": "stdout",
     "output_type": "stream",
     "text": [
      "Model: \"sequential_4\"\n",
      "_________________________________________________________________\n",
      "Layer (type)                 Output Shape              Param #   \n",
      "=================================================================\n",
      "lstm_2 (LSTM)                (None, 64)                20992     \n",
      "_________________________________________________________________\n",
      "batch_normalization_9 (Batch (None, 64)                256       \n",
      "_________________________________________________________________\n",
      "dense_10 (Dense)             (None, 32)                2080      \n",
      "_________________________________________________________________\n",
      "batch_normalization_10 (Batc (None, 32)                128       \n",
      "_________________________________________________________________\n",
      "dense_11 (Dense)             (None, 16)                528       \n",
      "_________________________________________________________________\n",
      "batch_normalization_11 (Batc (None, 16)                64        \n",
      "_________________________________________________________________\n",
      "dropout_3 (Dropout)          (None, 16)                0         \n",
      "_________________________________________________________________\n",
      "dense_12 (Dense)             (None, 1)                 17        \n",
      "=================================================================\n",
      "Total params: 24,065\n",
      "Trainable params: 23,841\n",
      "Non-trainable params: 224\n",
      "_________________________________________________________________\n"
     ]
    }
   ],
   "source": [
    "model.summary()"
   ]
  },
  {
   "cell_type": "markdown",
   "metadata": {},
   "source": [
    "*Note on model architecture:* \n",
    "\n",
    "There were several tries tunning manually tuning:\n",
    "- the number of neurons\n",
    "- number of hidden layers\n",
    "- dropout rate for overfitting\n",
    "- activation functions\n",
    "\n",
    "final design is presented only for aesthetical purposes."
   ]
  },
  {
   "cell_type": "code",
   "execution_count": 340,
   "metadata": {},
   "outputs": [],
   "source": [
    "# Fitting\n",
    "model.compile(loss='mse', optimizer='adam')"
   ]
  },
  {
   "cell_type": "code",
   "execution_count": 341,
   "metadata": {},
   "outputs": [
    {
     "name": "stdout",
     "output_type": "stream",
     "text": [
      "Epoch 1/10\n",
      "2602/2602 [==============================] - 17s 5ms/step - loss: 0.8756 - val_loss: 0.7727\n",
      "Epoch 2/10\n",
      "2602/2602 [==============================] - 12s 5ms/step - loss: 0.7555 - val_loss: 0.7598\n",
      "Epoch 3/10\n",
      "2602/2602 [==============================] - 12s 4ms/step - loss: 0.7499 - val_loss: 0.7619\n",
      "Epoch 4/10\n",
      "2602/2602 [==============================] - 12s 5ms/step - loss: 0.7469 - val_loss: 0.7566\n",
      "Epoch 5/10\n",
      "2602/2602 [==============================] - 12s 4ms/step - loss: 0.7439 - val_loss: 0.7541\n",
      "Epoch 6/10\n",
      "2602/2602 [==============================] - 12s 5ms/step - loss: 0.7424 - val_loss: 0.7623\n",
      "Epoch 7/10\n",
      "2602/2602 [==============================] - 12s 5ms/step - loss: 0.7416 - val_loss: 0.7589\n",
      "Epoch 8/10\n",
      "2602/2602 [==============================] - 12s 5ms/step - loss: 0.7399 - val_loss: 0.7570\n",
      "Epoch 9/10\n",
      "2602/2602 [==============================] - 11s 4ms/step - loss: 0.7392 - val_loss: 0.7499\n",
      "Epoch 10/10\n",
      "2602/2602 [==============================] - 12s 4ms/step - loss: 0.7381 - val_loss: 0.7506\n"
     ]
    }
   ],
   "source": [
    "loss_fit = model.fit(X_train_scaled_3d, y_train_scaled_3d,\n",
    "                     validation_data=(X_val_scaled_3d,y_val_scaled_3d),\n",
    "                     batch_size=64, epochs=10, verbose=1);"
   ]
  },
  {
   "cell_type": "code",
   "execution_count": 342,
   "metadata": {},
   "outputs": [
    {
     "data": {
      "image/png": "[encoded data removed]",
      "text/plain": [
       "<Figure size 432x288 with 1 Axes>"
      ]
     },
     "metadata": {
      "needs_background": "light"
     },
     "output_type": "display_data"
    }
   ],
   "source": [
    "plt.plot(loss_fit.history['loss'])\n",
    "plt.title('Train loss: ' + str(round(loss_fit.history['loss'][-1],4)))\n",
    "plt.xlabel('epoch')\n",
    "plt.ylabel('loss')\n",
    "plt.show()"
   ]
  },
  {
   "cell_type": "code",
   "execution_count": 343,
   "metadata": {},
   "outputs": [
    {
     "data": {
      "image/png": "[encoded data removed]",
      "text/plain": [
       "<Figure size 432x288 with 1 Axes>"
      ]
     },
     "metadata": {
      "needs_background": "light"
     },
     "output_type": "display_data"
    }
   ],
   "source": [
    "plt.plot(loss_fit.history['val_loss'])\n",
    "plt.title('Validation loss: ' + str(round(loss_fit.history['val_loss'][-1],4)))\n",
    "plt.xlabel('epoch')\n",
    "plt.ylabel('loss')\n",
    "plt.show()"
   ]
  },
  {
   "cell_type": "code",
   "execution_count": 344,
   "metadata": {},
   "outputs": [],
   "source": [
    "# Prediction\n",
    "y_train_lstm_pred_scaled = model.predict(X_train_scaled_3d)\n",
    "y_val_lstm_pred_scaled = model.predict(X_val_scaled_3d)"
   ]
  },
  {
   "cell_type": "code",
   "execution_count": 345,
   "metadata": {},
   "outputs": [],
   "source": [
    "# Scaling back to original units\n",
    "y_train_scaled = scaler.fit_transform(y_train) # called again for reshaping scaler\n",
    "y_train_lstm_pred = scaler.inverse_transform(y_train_lstm_pred_scaled)\n",
    "y_val_lstm_pred = scaler.inverse_transform(y_val_lstm_pred_scaled)"
   ]
  },
  {
   "cell_type": "code",
   "execution_count": 347,
   "metadata": {},
   "outputs": [
    {
     "name": "stdout",
     "output_type": "stream",
     "text": [
      "Train R^2: 0.28\n",
      "val R^2: 0.25\n"
     ]
    }
   ],
   "source": [
    "print('Train R^2: '+str(r2_score(y_train, y_train_lstm_pred).round(2)) )\n",
    "print('val R^2: '+str(r2_score(y_val, y_val_lstm_pred).round(2)) )\n"
   ]
  },
  {
   "cell_type": "code",
   "execution_count": 346,
   "metadata": {},
   "outputs": [
    {
     "name": "stdout",
     "output_type": "stream",
     "text": [
      "Train RMSE: 956.11\n",
      "val RMSE: 990.5\n"
     ]
    }
   ],
   "source": [
    "rmse_train_lstm = mean_squared_error(y_train, y_train_lstm_pred,squared=False).round(2)\n",
    "print('Train RMSE: '+str(rmse_train_lstm) )\n",
    "\n",
    "rmse_val_lstm = mean_squared_error(y_val, y_val_lstm_pred,squared=False).round(2)\n",
    "print('val RMSE: '+str(rmse_val_lstm) )"
   ]
  },
  {
   "cell_type": "markdown",
   "metadata": {},
   "source": [
    "## 9.a. Decision Trees"
   ]
  },
  {
   "cell_type": "code",
   "execution_count": 139,
   "metadata": {},
   "outputs": [],
   "source": [
    "from sklearn.tree import DecisionTreeRegressor"
   ]
  },
  {
   "cell_type": "code",
   "execution_count": 140,
   "metadata": {},
   "outputs": [],
   "source": [
    "tree = DecisionTreeRegressor(criterion='mse',splitter='best',\n",
    "                             min_samples_leaf=.1)"
   ]
  },
  {
   "cell_type": "code",
   "execution_count": 328,
   "metadata": {},
   "outputs": [
    {
     "data": {
      "text/plain": [
       "DecisionTreeRegressor(min_samples_leaf=0.1)"
      ]
     },
     "execution_count": 328,
     "metadata": {},
     "output_type": "execute_result"
    }
   ],
   "source": [
    "# Fit\n",
    "tree.fit(X_train_scaled,y_train_scaled)"
   ]
  },
  {
   "cell_type": "code",
   "execution_count": 329,
   "metadata": {},
   "outputs": [],
   "source": [
    "# Predict\n",
    "y_tree_train_pred_scaled = tree.predict(X_train_scaled)\n",
    "y_tree_val_pred_scaled   = tree.predict(X_val_scaled)"
   ]
  },
  {
   "cell_type": "code",
   "execution_count": 330,
   "metadata": {},
   "outputs": [],
   "source": [
    "# Scaling back to original units\n",
    "y_train_scaled = scaler.fit_transform(y_train) # called again for reshaping scaler\n",
    "y_tree_train_pred = scaler.inverse_transform(y_tree_train_pred_scaled)\n",
    "y_tree_val_pred = scaler.inverse_transform(y_tree_val_pred_scaled)"
   ]
  },
  {
   "cell_type": "code",
   "execution_count": 333,
   "metadata": {},
   "outputs": [
    {
     "name": "stdout",
     "output_type": "stream",
     "text": [
      "Train RMSE: 1078.58\n"
     ]
    }
   ],
   "source": [
    "# Train RMSE in seconds:\n",
    "rmse_train_tree = mean_squared_error(y_train, y_tree_train_pred,squared=False).round(2)\n",
    "print('Train RMSE: '+str(rmse_train_tree))"
   ]
  },
  {
   "cell_type": "code",
   "execution_count": 334,
   "metadata": {},
   "outputs": [
    {
     "name": "stdout",
     "output_type": "stream",
     "text": [
      "Validation RMSE: 1100.11\n"
     ]
    }
   ],
   "source": [
    "# Validation RMSE in seconds\n",
    "rmse_val_tree =  mean_squared_error(y_val, y_tree_val_pred,squared=False).round(2)\n",
    "print('Validation RMSE: '+str(rmse_val_tree) )"
   ]
  },
  {
   "cell_type": "markdown",
   "metadata": {},
   "source": [
    "## 9.c. Bagging Regressor Tree"
   ]
  },
  {
   "cell_type": "code",
   "execution_count": 141,
   "metadata": {},
   "outputs": [],
   "source": [
    "from sklearn.ensemble import BaggingRegressor"
   ]
  },
  {
   "cell_type": "code",
   "execution_count": 142,
   "metadata": {},
   "outputs": [],
   "source": [
    "tree = DecisionTreeRegressor(criterion='mse',splitter='best',\n",
    "                             min_samples_leaf=.1)"
   ]
  },
  {
   "cell_type": "code",
   "execution_count": 143,
   "metadata": {},
   "outputs": [],
   "source": [
    "bc = BaggingRegressor(base_estimator=tree, n_estimators=100, n_jobs=-1)"
   ]
  },
  {
   "cell_type": "code",
   "execution_count": 319,
   "metadata": {},
   "outputs": [
    {
     "name": "stderr",
     "output_type": "stream",
     "text": [
      "C:\\Users\\Public\\anaconda3\\lib\\site-packages\\sklearn\\utils\\validation.py:73: DataConversionWarning: A column-vector y was passed when a 1d array was expected. Please change the shape of y to (n_samples, ), for example using ravel().\n",
      "  return f(**kwargs)\n"
     ]
    },
    {
     "data": {
      "text/plain": [
       "BaggingRegressor(base_estimator=DecisionTreeRegressor(min_samples_leaf=0.1),\n",
       "                 n_estimators=100, n_jobs=-1)"
      ]
     },
     "execution_count": 319,
     "metadata": {},
     "output_type": "execute_result"
    }
   ],
   "source": [
    "# Fit\n",
    "bc.fit(X_train_scaled,y_train_scaled)"
   ]
  },
  {
   "cell_type": "code",
   "execution_count": 320,
   "metadata": {},
   "outputs": [],
   "source": [
    "# Predict\n",
    "y_bg_train_pred_scaled = bc.predict(X_train_scaled)\n",
    "y_bg_val_pred_scaled   = bc.predict(X_val_scaled)"
   ]
  },
  {
   "cell_type": "code",
   "execution_count": 321,
   "metadata": {},
   "outputs": [],
   "source": [
    "# Scaling back to original units\n",
    "y_train_scaled = scaler.fit_transform(y_train) # called again for reshaping scaler\n",
    "y_bg_train_pred = scaler.inverse_transform(y_bg_train_pred_scaled)\n",
    "y_bg_val_pred = scaler.inverse_transform(y_bg_val_pred_scaled)"
   ]
  },
  {
   "cell_type": "code",
   "execution_count": 325,
   "metadata": {},
   "outputs": [
    {
     "data": {
      "text/plain": [
       "0.9618056895418153"
      ]
     },
     "execution_count": 325,
     "metadata": {},
     "output_type": "execute_result"
    }
   ],
   "source": [
    "# Train scaled RMSE:\n",
    "mean_squared_error(y_train_scaled, y_bg_train_pred_scaled,squared=False)"
   ]
  },
  {
   "cell_type": "code",
   "execution_count": 323,
   "metadata": {},
   "outputs": [
    {
     "name": "stdout",
     "output_type": "stream",
     "text": [
      "Train RMSE: 1080.92\n"
     ]
    }
   ],
   "source": [
    "# Train RMSE in seconds\n",
    "rmse_train_bg = mean_squared_error(y_train, y_bg_train_pred,squared=False).round(2)\n",
    "print('Train RMSE: '+str(rmse_train_bg))"
   ]
  },
  {
   "cell_type": "code",
   "execution_count": 324,
   "metadata": {},
   "outputs": [
    {
     "data": {
      "text/plain": [
       "0.9644804091170389"
      ]
     },
     "execution_count": 324,
     "metadata": {},
     "output_type": "execute_result"
    }
   ],
   "source": [
    "# Val scaled RMSE\n",
    "mean_squared_error(y_val_scaled, y_bg_val_pred_scaled,squared=False)"
   ]
  },
  {
   "cell_type": "code",
   "execution_count": 326,
   "metadata": {},
   "outputs": [
    {
     "name": "stdout",
     "output_type": "stream",
     "text": [
      "Validation RMSE: 1102.43\n"
     ]
    }
   ],
   "source": [
    "# Validation RMSE in seconds:\n",
    "rmse_val_bg = mean_squared_error(y_val, y_bg_val_pred,squared=False).round(2)\n",
    "print('Validation RMSE: '+str(rmse_val_bg))"
   ]
  },
  {
   "cell_type": "markdown",
   "metadata": {},
   "source": [
    "## 9.c. Random Forest"
   ]
  },
  {
   "cell_type": "code",
   "execution_count": 144,
   "metadata": {},
   "outputs": [],
   "source": [
    "from sklearn.ensemble import RandomForestRegressor"
   ]
  },
  {
   "cell_type": "code",
   "execution_count": 145,
   "metadata": {},
   "outputs": [],
   "source": [
    "rf = RandomForestRegressor(n_estimators=400, min_samples_leaf=.1,n_jobs=-1)"
   ]
  },
  {
   "cell_type": "code",
   "execution_count": 306,
   "metadata": {},
   "outputs": [
    {
     "name": "stderr",
     "output_type": "stream",
     "text": [
      "<ipython-input-306-67b1f8ba9479>:2: DataConversionWarning: A column-vector y was passed when a 1d array was expected. Please change the shape of y to (n_samples,), for example using ravel().\n",
      "  rf.fit(X_train_scaled,y_train_scaled)\n"
     ]
    },
    {
     "data": {
      "text/plain": [
       "RandomForestRegressor(min_samples_leaf=0.1, n_estimators=400, n_jobs=-1)"
      ]
     },
     "execution_count": 306,
     "metadata": {},
     "output_type": "execute_result"
    }
   ],
   "source": [
    "# Fitting\n",
    "rf.fit(X_train_scaled,y_train_scaled)"
   ]
  },
  {
   "cell_type": "code",
   "execution_count": 307,
   "metadata": {},
   "outputs": [],
   "source": [
    "# Predict\n",
    "y_rf_train_pred_scaled = rf.predict(X_train_scaled)\n",
    "y_rf_val_pred_scaled   = rf.predict(X_val_scaled)"
   ]
  },
  {
   "cell_type": "code",
   "execution_count": 308,
   "metadata": {},
   "outputs": [],
   "source": [
    "# Scaling back to original units\n",
    "y_train_scaled = scaler.fit_transform(y_train) # called again for reshaping scaler\n",
    "y_rf_train_pred = scaler.inverse_transform(y_rf_train_pred_scaled)\n",
    "y_rf_val_pred = scaler.inverse_transform(y_rf_val_pred_scaled)"
   ]
  },
  {
   "cell_type": "code",
   "execution_count": 309,
   "metadata": {},
   "outputs": [
    {
     "data": {
      "text/plain": [
       "0.9621652934671705"
      ]
     },
     "execution_count": 309,
     "metadata": {},
     "output_type": "execute_result"
    }
   ],
   "source": [
    "# Train scaled RMSE\n",
    "mean_squared_error(y_train_scaled, y_rf_train_pred_scaled,squared=False)"
   ]
  },
  {
   "cell_type": "code",
   "execution_count": 311,
   "metadata": {},
   "outputs": [
    {
     "name": "stdout",
     "output_type": "stream",
     "text": [
      "Train RMSE: 1081.32\n"
     ]
    }
   ],
   "source": [
    "# Train RMSE in seconds\n",
    "rmse_train_rf = mean_squared_error(y_train, y_rf_train_pred,squared=False).round(2)\n",
    "print('Train RMSE: '+str(rmse_train_rf))"
   ]
  },
  {
   "cell_type": "code",
   "execution_count": 316,
   "metadata": {},
   "outputs": [
    {
     "data": {
      "text/plain": [
       "0.9648352567196502"
      ]
     },
     "execution_count": 316,
     "metadata": {},
     "output_type": "execute_result"
    }
   ],
   "source": [
    "# Val RMSE scaled\n",
    "mean_squared_error(y_val_scaled, y_rf_val_pred_scaled,squared=False)"
   ]
  },
  {
   "cell_type": "code",
   "execution_count": 318,
   "metadata": {},
   "outputs": [
    {
     "name": "stdout",
     "output_type": "stream",
     "text": [
      "Val RMSE: 1102.82\n"
     ]
    }
   ],
   "source": [
    "# Val RMSE in seconds\n",
    "rmse_val_rf = mean_squared_error(y_val, y_rf_val_pred,squared=False).round(2)\n",
    "print('Val RMSE: '+str(rmse_val_rf))"
   ]
  },
  {
   "cell_type": "markdown",
   "metadata": {},
   "source": [
    "#### feature importance"
   ]
  },
  {
   "cell_type": "code",
   "execution_count": null,
   "metadata": {},
   "outputs": [],
   "source": [
    "importances_rf = pd.Series(rf.feature_importances_, \n",
    "                           index = X.columns)"
   ]
  },
  {
   "cell_type": "code",
   "execution_count": null,
   "metadata": {},
   "outputs": [],
   "source": [
    "# Sort importances_rf\n",
    "sorted_importances_rf = importances_rf.sort_values(ascending=False)"
   ]
  },
  {
   "cell_type": "code",
   "execution_count": null,
   "metadata": {},
   "outputs": [],
   "source": [
    "sorted_importances_rf[:5]"
   ]
  },
  {
   "cell_type": "code",
   "execution_count": null,
   "metadata": {},
   "outputs": [],
   "source": [
    "# Make a horizontal bar plot\n",
    "sorted_importances_rf[:5].plot(kind='barh', color='lightgreen',\n",
    "                                title='Random Forest feature Importances') \n",
    "plt.show();"
   ]
  },
  {
   "cell_type": "markdown",
   "metadata": {},
   "source": [
    "## 9.d. GradientBoosting"
   ]
  },
  {
   "cell_type": "code",
   "execution_count": 146,
   "metadata": {},
   "outputs": [],
   "source": [
    "from sklearn.ensemble import GradientBoostingRegressor"
   ]
  },
  {
   "cell_type": "code",
   "execution_count": 147,
   "metadata": {},
   "outputs": [],
   "source": [
    "gbt = GradientBoostingRegressor(n_estimators=400,min_samples_leaf=.1)"
   ]
  },
  {
   "cell_type": "code",
   "execution_count": 289,
   "metadata": {},
   "outputs": [
    {
     "name": "stderr",
     "output_type": "stream",
     "text": [
      "C:\\Users\\Public\\anaconda3\\lib\\site-packages\\sklearn\\utils\\validation.py:73: DataConversionWarning: A column-vector y was passed when a 1d array was expected. Please change the shape of y to (n_samples, ), for example using ravel().\n",
      "  return f(**kwargs)\n"
     ]
    },
    {
     "data": {
      "text/plain": [
       "GradientBoostingRegressor(criterion='mse', max_depth=6, max_features='sqrt',\n",
       "                          min_samples_leaf=0.05, n_estimators=500)"
      ]
     },
     "execution_count": 289,
     "metadata": {},
     "output_type": "execute_result"
    }
   ],
   "source": [
    "# Fitting\n",
    "gbt.fit(X_train_scaled,y_train_scaled)"
   ]
  },
  {
   "cell_type": "code",
   "execution_count": 290,
   "metadata": {},
   "outputs": [],
   "source": [
    "# Predict\n",
    "y_gbt_train_pred_scaled = gbt.predict(X_train_scaled)\n",
    "y_gbt_val_pred_scaled   = gbt.predict(X_val_scaled)"
   ]
  },
  {
   "cell_type": "code",
   "execution_count": 291,
   "metadata": {},
   "outputs": [],
   "source": [
    "# Scaling back to original units\n",
    "y_train_scaled = scaler.fit_transform(y_train) # called again for reshaping scaler\n",
    "y_gbt_train_pred = scaler.inverse_transform(y_gbt_train_pred_scaled)\n",
    "y_gbt_val_pred = scaler.inverse_transform(y_gbt_val_pred_scaled)"
   ]
  },
  {
   "cell_type": "code",
   "execution_count": 299,
   "metadata": {},
   "outputs": [
    {
     "name": "stdout",
     "output_type": "stream",
     "text": [
      "Train scaled RMSE: 0.8571860102503688\n"
     ]
    }
   ],
   "source": [
    "# RMSE of scaled set\n",
    "print('Train scaled RMSE: ' + str(mean_squared_error(y_train_scaled, y_gbt_train_pred_scaled,squared=False)))"
   ]
  },
  {
   "cell_type": "code",
   "execution_count": 312,
   "metadata": {},
   "outputs": [
    {
     "name": "stdout",
     "output_type": "stream",
     "text": [
      "Train RMSE: 963.34\n"
     ]
    }
   ],
   "source": [
    "# RMSE in seconds\n",
    "rmse_train_gbt = mean_squared_error(y_train, y_gbt_train_pred,squared=False).round(2)\n",
    "print('Train RMSE: ' + str(rmse_train_gbt))"
   ]
  },
  {
   "cell_type": "code",
   "execution_count": 301,
   "metadata": {},
   "outputs": [
    {
     "name": "stdout",
     "output_type": "stream",
     "text": [
      "Validation scaled RMSE: 0.8761546522526673\n"
     ]
    }
   ],
   "source": [
    "# RMSE of scaled set\n",
    "print('Validation scaled RMSE: ' + str(mean_squared_error(y_val_scaled, y_gbt_val_pred_scaled,squared=False)))"
   ]
  },
  {
   "cell_type": "code",
   "execution_count": 313,
   "metadata": {},
   "outputs": [
    {
     "name": "stdout",
     "output_type": "stream",
     "text": [
      "Validation RMSE: 1001.24\n"
     ]
    }
   ],
   "source": [
    "# RMSE in seconds\n",
    "rmse_val_gbt = mean_squared_error(y_val, y_gbt_val_pred,squared=False).round(2)\n",
    "print('Validation RMSE: ' + str(rmse_val_gbt))"
   ]
  },
  {
   "cell_type": "code",
   "execution_count": 296,
   "metadata": {},
   "outputs": [
    {
     "data": {
      "image/png": "[encoded data removed]",
      "text/plain": [
       "<Figure size 432x288 with 1 Axes>"
      ]
     },
     "metadata": {
      "needs_background": "light"
     },
     "output_type": "display_data"
    }
   ],
   "source": [
    "# Sort importances\n",
    "importances_gbt = pd.Series(gbt.feature_importances_,index = X.columns)\n",
    "sorted_importances_gbt = importances_gbt.sort_values(ascending=False)\n",
    "\n",
    "# Make a horizontal bar plot\n",
    "sorted_importances_gbt[:10].plot(kind='barh', color='lightgreen',\n",
    "                                title='Gradient Boosting feature Importances') \n",
    "plt.show();"
   ]
  },
  {
   "cell_type": "markdown",
   "metadata": {},
   "source": [
    "given impurity-based Gini importance, **total_outstanding_orders** and **estimated_store_to_consumer_driving_duration** features seem to be the most influencing variables in a Gradient Boosting Model."
   ]
  },
  {
   "cell_type": "markdown",
   "metadata": {},
   "source": [
    "## 10.a. Regularized Regression: Lasso"
   ]
  },
  {
   "cell_type": "code",
   "execution_count": 131,
   "metadata": {},
   "outputs": [],
   "source": [
    "from sklearn.linear_model import Lasso, Ridge"
   ]
  },
  {
   "cell_type": "code",
   "execution_count": 251,
   "metadata": {},
   "outputs": [],
   "source": [
    "from sklearn.model_selection import GridSearchCV"
   ]
  },
  {
   "cell_type": "markdown",
   "metadata": {},
   "source": [
    "##### GridSearch & CV"
   ]
  },
  {
   "cell_type": "code",
   "execution_count": 132,
   "metadata": {},
   "outputs": [
    {
     "data": {
      "text/plain": [
       "{'alpha': 1.0,\n",
       " 'copy_X': True,\n",
       " 'fit_intercept': True,\n",
       " 'max_iter': 1000,\n",
       " 'normalize': False,\n",
       " 'positive': False,\n",
       " 'precompute': False,\n",
       " 'random_state': None,\n",
       " 'selection': 'cyclic',\n",
       " 'tol': 0.0001,\n",
       " 'warm_start': False}"
      ]
     },
     "execution_count": 132,
     "metadata": {},
     "output_type": "execute_result"
    }
   ],
   "source": [
    "Lasso().get_params()"
   ]
  },
  {
   "cell_type": "code",
   "execution_count": 249,
   "metadata": {},
   "outputs": [],
   "source": [
    "lasso = Lasso()"
   ]
  },
  {
   "cell_type": "code",
   "execution_count": 256,
   "metadata": {},
   "outputs": [],
   "source": [
    "params_lasso = {'alpha': [1,.5,.05]}"
   ]
  },
  {
   "cell_type": "code",
   "execution_count": 257,
   "metadata": {},
   "outputs": [],
   "source": [
    "grid_lasso = GridSearchCV(estimator=lasso,\n",
    "                        param_grid=params_lasso,\n",
    "                        cv=4,\n",
    "                        scoring='neg_mean_squared_error',\n",
    "                        verbose=1,\n",
    "                        n_jobs=-1)"
   ]
  },
  {
   "cell_type": "code",
   "execution_count": 258,
   "metadata": {},
   "outputs": [
    {
     "name": "stdout",
     "output_type": "stream",
     "text": [
      "Fitting 4 folds for each of 3 candidates, totalling 12 fits\n"
     ]
    },
    {
     "name": "stderr",
     "output_type": "stream",
     "text": [
      "[Parallel(n_jobs=-1)]: Using backend LokyBackend with 4 concurrent workers.\n",
      "[Parallel(n_jobs=-1)]: Done  12 out of  12 | elapsed:    1.6s finished\n"
     ]
    },
    {
     "data": {
      "text/plain": [
       "GridSearchCV(cv=4, estimator=Lasso(), n_jobs=-1,\n",
       "             param_grid={'alpha': [1, 0.5, 0.05]},\n",
       "             scoring='neg_mean_squared_error', verbose=1)"
      ]
     },
     "execution_count": 258,
     "metadata": {},
     "output_type": "execute_result"
    }
   ],
   "source": [
    "grid_lasso.fit(X_train_scaled,y_train_scaled)"
   ]
  },
  {
   "cell_type": "code",
   "execution_count": 259,
   "metadata": {},
   "outputs": [
    {
     "name": "stdout",
     "output_type": "stream",
     "text": [
      "Best hyperparameters:\n",
      " {'alpha': 0.05}\n"
     ]
    }
   ],
   "source": [
    "# Extract the best hyperparameters from GridSeach\n",
    "print('Best hyperparameters:\\n', grid_lasso.best_params_)"
   ]
  },
  {
   "cell_type": "code",
   "execution_count": 262,
   "metadata": {},
   "outputs": [],
   "source": [
    "# Training\n",
    "lasso_fit = grid_lasso.best_estimator_.fit(X_train_scaled,y_train_scaled)"
   ]
  },
  {
   "cell_type": "code",
   "execution_count": 263,
   "metadata": {},
   "outputs": [
    {
     "data": {
      "text/plain": [
       "estimated_store_to_consumer_driving_duration    0.172687\n",
       "subtotal                                        0.145458\n",
       "total_outstanding_orders                        0.103146\n",
       "day_of_week_6.0                                 0.000000\n",
       "total_busy_dashers                             -0.000000\n",
       "market_id_2.0                                  -0.000000\n",
       "dtype: float64"
      ]
     },
     "execution_count": 263,
     "metadata": {},
     "output_type": "execute_result"
    }
   ],
   "source": [
    "# Feature Selection\n",
    "lasso_coef = lasso_fit.coef_\n",
    "lasso_coef_df = pd.Series(lasso_coef,index=X.columns)\n",
    "lasso_coef_df.sort_values(ascending=False).head(6)"
   ]
  },
  {
   "cell_type": "code",
   "execution_count": 266,
   "metadata": {},
   "outputs": [
    {
     "data": {
      "image/png": "[encoded data removed]",
      "text/plain": [
       "<Figure size 432x288 with 1 Axes>"
      ]
     },
     "metadata": {
      "needs_background": "light"
     },
     "output_type": "display_data"
    }
   ],
   "source": [
    "lasso_coef_ = lasso_coef_df[lasso_coef_df>0]\n",
    "_ = plt.plot(range(len(lasso_coef_.index)), lasso_coef_)\n",
    "_ = plt.xticks(range(len(lasso_coef_.index)), lasso_coef_.index, rotation=270)\n",
    "_ = plt.ylabel('Coefficients')\n",
    "plt.show()"
   ]
  },
  {
   "cell_type": "markdown",
   "metadata": {},
   "source": [
    "similarly to the Gradient Boosting model results previously, **total_outstanding_orders** and **estimated_store_to_consumer_driving_duration** features seem to be  influencing variables in a Reguralized L1-Norm Model."
   ]
  },
  {
   "cell_type": "code",
   "execution_count": 267,
   "metadata": {},
   "outputs": [],
   "source": [
    "# Predict\n",
    "y_lasso_train_pred_scaled = grid_lasso.best_estimator_.predict(X_train_scaled)\n",
    "y_lasso_val_pred_scaled = grid_lasso.best_estimator_.predict(X_val_scaled)"
   ]
  },
  {
   "cell_type": "code",
   "execution_count": 273,
   "metadata": {},
   "outputs": [
    {
     "name": "stdout",
     "output_type": "stream",
     "text": [
      "Train Scale RMSE: 0.9434\n",
      "Validation Scale RMSE: 0.9491\n"
     ]
    }
   ],
   "source": [
    "# RMSE of scaled data\n",
    "print('Train Scale RMSE: ' + str(mean_squared_error(y_train_scaled, \n",
    "                                              y_lasso_train_pred_scaled,\n",
    "                                              squared=False).round(4) ) )\n",
    "print('Validation Scale RMSE: ' + str(mean_squared_error(y_val_scaled, \n",
    "                                                   y_lasso_val_pred_scaled,\n",
    "                                                   squared=False).round(4) ) )"
   ]
  },
  {
   "cell_type": "code",
   "execution_count": 271,
   "metadata": {},
   "outputs": [],
   "source": [
    "# Scaling back to original units\n",
    "y_train_scaled = scaler.fit_transform(y_train) # called again for reshaping scaler\n",
    "y_lasso_train_pred = scaler.inverse_transform(y_lasso_train_pred_scaled)\n",
    "y_lasso_val_pred = scaler.inverse_transform(y_lasso_val_pred_scaled)"
   ]
  },
  {
   "cell_type": "code",
   "execution_count": 315,
   "metadata": {},
   "outputs": [
    {
     "name": "stdout",
     "output_type": "stream",
     "text": [
      "Train RMSE: 1060.24\n",
      "Validation RMSE: 1085.05\n"
     ]
    }
   ],
   "source": [
    "# RMSE in seconds\n",
    "rmse_train_lasso = mean_squared_error(y_train,y_lasso_train_pred,squared=False).round(2)\n",
    "print('Train RMSE: ' + str(rmse_train_lasso ) )\n",
    "\n",
    "rmse_val_lasso = mean_squared_error(y_val,y_lasso_val_pred,squared=False).round(2)\n",
    "print('Validation RMSE: ' + str(rmse_val_lasso) ) "
   ]
  },
  {
   "cell_type": "markdown",
   "metadata": {},
   "source": [
    "## 10.b. Ridge"
   ]
  },
  {
   "cell_type": "code",
   "execution_count": 148,
   "metadata": {},
   "outputs": [
    {
     "data": {
      "text/plain": [
       "{'alpha': 1.0,\n",
       " 'copy_X': True,\n",
       " 'fit_intercept': True,\n",
       " 'max_iter': None,\n",
       " 'normalize': False,\n",
       " 'random_state': None,\n",
       " 'solver': 'auto',\n",
       " 'tol': 0.001}"
      ]
     },
     "execution_count": 148,
     "metadata": {},
     "output_type": "execute_result"
    }
   ],
   "source": [
    "Ridge().get_params()"
   ]
  },
  {
   "cell_type": "markdown",
   "metadata": {},
   "source": [
    "#### GridSearch & CV"
   ]
  },
  {
   "cell_type": "code",
   "execution_count": 274,
   "metadata": {},
   "outputs": [],
   "source": [
    "params_ridge = {'alpha': [.5,.05,-.05,-.5]}"
   ]
  },
  {
   "cell_type": "raw",
   "metadata": {},
   "source": [
    "alpha_space = [.5,.05,-.05,-.5]"
   ]
  },
  {
   "cell_type": "code",
   "execution_count": 275,
   "metadata": {},
   "outputs": [],
   "source": [
    "ridge_gs = Ridge()"
   ]
  },
  {
   "cell_type": "code",
   "execution_count": 276,
   "metadata": {},
   "outputs": [],
   "source": [
    "grid_ridge = GridSearchCV(estimator=ridge_gs,\n",
    "                          param_grid = params_ridge,\n",
    "                          cv = 2,\n",
    "                          scoring='neg_mean_squared_error',\n",
    "                          verbose=1,\n",
    "                          n_jobs=-1)"
   ]
  },
  {
   "cell_type": "code",
   "execution_count": 277,
   "metadata": {},
   "outputs": [
    {
     "name": "stdout",
     "output_type": "stream",
     "text": [
      "Fitting 2 folds for each of 4 candidates, totalling 8 fits\n"
     ]
    },
    {
     "name": "stderr",
     "output_type": "stream",
     "text": [
      "[Parallel(n_jobs=-1)]: Using backend LokyBackend with 4 concurrent workers.\n",
      "[Parallel(n_jobs=-1)]: Done   8 out of   8 | elapsed:    3.1s finished\n"
     ]
    },
    {
     "data": {
      "text/plain": [
       "GridSearchCV(cv=2, estimator=Ridge(), n_jobs=-1,\n",
       "             param_grid={'alpha': [0.5, 0.05, -0.05, -0.5]},\n",
       "             scoring='neg_mean_squared_error', verbose=1)"
      ]
     },
     "execution_count": 277,
     "metadata": {},
     "output_type": "execute_result"
    }
   ],
   "source": [
    "grid_ridge.fit(X_train_scaled,y_train_scaled)"
   ]
  },
  {
   "cell_type": "code",
   "execution_count": 278,
   "metadata": {},
   "outputs": [
    {
     "name": "stdout",
     "output_type": "stream",
     "text": [
      "Best hyperparameters:\n",
      " {'alpha': 0.5}\n"
     ]
    }
   ],
   "source": [
    "# Extract the best hyperparameters from GridSeach\n",
    "print('Best hyperparameters:\\n', grid_ridge.best_params_)"
   ]
  },
  {
   "cell_type": "code",
   "execution_count": 279,
   "metadata": {},
   "outputs": [],
   "source": [
    "ridge = Ridge(alpha=.05,fit_intercept=False)"
   ]
  },
  {
   "cell_type": "code",
   "execution_count": 280,
   "metadata": {},
   "outputs": [],
   "source": [
    "ridge_fit = ridge.fit(X_train_scaled,y_train_scaled)"
   ]
  },
  {
   "cell_type": "code",
   "execution_count": 281,
   "metadata": {},
   "outputs": [],
   "source": [
    "# Predicting\n",
    "y_ridge_train_pred_scaled = ridge_fit.predict(X_train_scaled)\n",
    "y_ridge_val_pred_scaled   = ridge_fit.predict(X_val_scaled)"
   ]
  },
  {
   "cell_type": "code",
   "execution_count": 283,
   "metadata": {},
   "outputs": [
    {
     "name": "stdout",
     "output_type": "stream",
     "text": [
      "Train Scale RMSE: 0.8901\n",
      "Validation Scale RMSE: 0.9034\n"
     ]
    }
   ],
   "source": [
    "# RMSE of Scaled data\n",
    "print('Train Scale RMSE: ' + str(mean_squared_error(y_train_scaled, \n",
    "                                              y_ridge_train_pred_scaled,\n",
    "                                              squared=False).round(4) ) )\n",
    "print('Validation Scale RMSE: ' + str(mean_squared_error(y_val_scaled, \n",
    "                                                   y_ridge_val_pred_scaled,\n",
    "                                                   squared=False).round(4) ) )"
   ]
  },
  {
   "cell_type": "code",
   "execution_count": 284,
   "metadata": {},
   "outputs": [],
   "source": [
    "# Scaling back to original units\n",
    "y_train_scaled = scaler.fit_transform(y_train) # called again for reshaping scaler\n",
    "y_ridge_train_pred = scaler.inverse_transform(y_ridge_train_pred_scaled)\n",
    "y_ridge_val_pred = scaler.inverse_transform(y_ridge_val_pred_scaled)"
   ]
  },
  {
   "cell_type": "code",
   "execution_count": 375,
   "metadata": {},
   "outputs": [
    {
     "name": "stdout",
     "output_type": "stream",
     "text": [
      "Train RMSE: 1000.28\n",
      "Validation RMSE: 1032.44\n"
     ]
    }
   ],
   "source": [
    "# RMSE in seconds\n",
    "rmse_train_ridge = mean_squared_error(y_train,y_ridge_train_pred,squared=False).round(2)\n",
    "print('Train RMSE: ' + str(rmse_train_ridge) )\n",
    "\n",
    "rmse_val_ridge = mean_squared_error(y_val,y_ridge_val_pred,squared=False).round(2)\n",
    "print('Validation RMSE: ' + str(rmse_val_ridge) )"
   ]
  },
  {
   "cell_type": "markdown",
   "metadata": {},
   "source": [
    "## 11. Summary of Models and full re-training"
   ]
  },
  {
   "cell_type": "code",
   "execution_count": 386,
   "metadata": {},
   "outputs": [],
   "source": [
    "rmse_names = ['rmse_nn','rmse_lstm','rmse_tree','rmse_bg','rmse_rf','rmse_gbt','rmse_lasso', 'rmse_ridge']"
   ]
  },
  {
   "cell_type": "code",
   "execution_count": 387,
   "metadata": {},
   "outputs": [],
   "source": [
    "rmse_train_values = [rmse_train_nn,rmse_train_lstm,\n",
    "                   rmse_train_tree,rmse_train_bg,rmse_train_rf, rmse_train_gbt,\n",
    "                   rmse_train_lasso, rmse_train_ridge]"
   ]
  },
  {
   "cell_type": "code",
   "execution_count": 388,
   "metadata": {},
   "outputs": [],
   "source": [
    "rmse_val_values = [rmse_val_nn,rmse_val_lstm,\n",
    "                   rmse_val_tree,rmse_val_bg,rmse_val_rf, rmse_val_gbt,\n",
    "                   rmse_val_lasso, rmse_val_ridge]"
   ]
  },
  {
   "cell_type": "code",
   "execution_count": 394,
   "metadata": {},
   "outputs": [
    {
     "data": {
      "text/html": [
       "<div>\n",
       "<style scoped>\n",
       "    .dataframe tbody tr th:only-of-type {\n",
       "        vertical-align: middle;\n",
       "    }\n",
       "\n",
       "    .dataframe tbody tr th {\n",
       "        vertical-align: top;\n",
       "    }\n",
       "\n",
       "    .dataframe thead th {\n",
       "        text-align: right;\n",
       "    }\n",
       "</style>\n",
       "<table border=\"1\" class=\"dataframe\">\n",
       "  <thead>\n",
       "    <tr style=\"text-align: right;\">\n",
       "      <th></th>\n",
       "      <th>Train</th>\n",
       "      <th>Validation</th>\n",
       "    </tr>\n",
       "  </thead>\n",
       "  <tbody>\n",
       "    <tr>\n",
       "      <th>rmse_nn</th>\n",
       "      <td>955.18</td>\n",
       "      <td>995.88</td>\n",
       "    </tr>\n",
       "    <tr>\n",
       "      <th>rmse_lstm</th>\n",
       "      <td>956.11</td>\n",
       "      <td>990.50</td>\n",
       "    </tr>\n",
       "    <tr>\n",
       "      <th>rmse_tree</th>\n",
       "      <td>1078.58</td>\n",
       "      <td>1100.11</td>\n",
       "    </tr>\n",
       "    <tr>\n",
       "      <th>rmse_bg</th>\n",
       "      <td>1080.92</td>\n",
       "      <td>1102.43</td>\n",
       "    </tr>\n",
       "    <tr>\n",
       "      <th>rmse_rf</th>\n",
       "      <td>1081.32</td>\n",
       "      <td>1102.82</td>\n",
       "    </tr>\n",
       "    <tr>\n",
       "      <th>rmse_gbt</th>\n",
       "      <td>963.34</td>\n",
       "      <td>1001.24</td>\n",
       "    </tr>\n",
       "    <tr>\n",
       "      <th>rmse_lasso</th>\n",
       "      <td>1060.24</td>\n",
       "      <td>1085.05</td>\n",
       "    </tr>\n",
       "    <tr>\n",
       "      <th>rmse_ridge</th>\n",
       "      <td>1000.28</td>\n",
       "      <td>1032.44</td>\n",
       "    </tr>\n",
       "  </tbody>\n",
       "</table>\n",
       "</div>"
      ],
      "text/plain": [
       "              Train  Validation\n",
       "rmse_nn      955.18      995.88\n",
       "rmse_lstm    956.11      990.50\n",
       "rmse_tree   1078.58     1100.11\n",
       "rmse_bg     1080.92     1102.43\n",
       "rmse_rf     1081.32     1102.82\n",
       "rmse_gbt     963.34     1001.24\n",
       "rmse_lasso  1060.24     1085.05\n",
       "rmse_ridge  1000.28     1032.44"
      ]
     },
     "execution_count": 394,
     "metadata": {},
     "output_type": "execute_result"
    }
   ],
   "source": [
    "summary_results = pd.DataFrame(rmse_train_values,\n",
    "                               index=rmse_names,\n",
    "                               columns=['Train'])\n",
    "summary_results = summary_results.join(\\\n",
    "                                       pd.DataFrame(rmse_val_values,\n",
    "                                                    index=rmse_names,\n",
    "                                                    columns=['Validation']))\n",
    "summary_results"
   ]
  },
  {
   "cell_type": "code",
   "execution_count": 395,
   "metadata": {},
   "outputs": [
    {
     "data": {
      "text/html": [
       "<div>\n",
       "<style scoped>\n",
       "    .dataframe tbody tr th:only-of-type {\n",
       "        vertical-align: middle;\n",
       "    }\n",
       "\n",
       "    .dataframe tbody tr th {\n",
       "        vertical-align: top;\n",
       "    }\n",
       "\n",
       "    .dataframe thead th {\n",
       "        text-align: right;\n",
       "    }\n",
       "</style>\n",
       "<table border=\"1\" class=\"dataframe\">\n",
       "  <thead>\n",
       "    <tr style=\"text-align: right;\">\n",
       "      <th></th>\n",
       "      <th>Train</th>\n",
       "      <th>Validation</th>\n",
       "    </tr>\n",
       "  </thead>\n",
       "  <tbody>\n",
       "    <tr>\n",
       "      <th>rmse_lstm</th>\n",
       "      <td>956.11</td>\n",
       "      <td>990.50</td>\n",
       "    </tr>\n",
       "    <tr>\n",
       "      <th>rmse_nn</th>\n",
       "      <td>955.18</td>\n",
       "      <td>995.88</td>\n",
       "    </tr>\n",
       "    <tr>\n",
       "      <th>rmse_gbt</th>\n",
       "      <td>963.34</td>\n",
       "      <td>1001.24</td>\n",
       "    </tr>\n",
       "    <tr>\n",
       "      <th>rmse_ridge</th>\n",
       "      <td>1000.28</td>\n",
       "      <td>1032.44</td>\n",
       "    </tr>\n",
       "    <tr>\n",
       "      <th>rmse_lasso</th>\n",
       "      <td>1060.24</td>\n",
       "      <td>1085.05</td>\n",
       "    </tr>\n",
       "    <tr>\n",
       "      <th>rmse_tree</th>\n",
       "      <td>1078.58</td>\n",
       "      <td>1100.11</td>\n",
       "    </tr>\n",
       "    <tr>\n",
       "      <th>rmse_bg</th>\n",
       "      <td>1080.92</td>\n",
       "      <td>1102.43</td>\n",
       "    </tr>\n",
       "    <tr>\n",
       "      <th>rmse_rf</th>\n",
       "      <td>1081.32</td>\n",
       "      <td>1102.82</td>\n",
       "    </tr>\n",
       "  </tbody>\n",
       "</table>\n",
       "</div>"
      ],
      "text/plain": [
       "              Train  Validation\n",
       "rmse_lstm    956.11      990.50\n",
       "rmse_nn      955.18      995.88\n",
       "rmse_gbt     963.34     1001.24\n",
       "rmse_ridge  1000.28     1032.44\n",
       "rmse_lasso  1060.24     1085.05\n",
       "rmse_tree   1078.58     1100.11\n",
       "rmse_bg     1080.92     1102.43\n",
       "rmse_rf     1081.32     1102.82"
      ]
     },
     "execution_count": 395,
     "metadata": {},
     "output_type": "execute_result"
    }
   ],
   "source": [
    "summary_results.sort_values(by='Validation',ascending=True)"
   ]
  },
  {
   "cell_type": "code",
   "execution_count": 396,
   "metadata": {},
   "outputs": [
    {
     "data": {
      "text/html": [
       "<div>\n",
       "<style scoped>\n",
       "    .dataframe tbody tr th:only-of-type {\n",
       "        vertical-align: middle;\n",
       "    }\n",
       "\n",
       "    .dataframe tbody tr th {\n",
       "        vertical-align: top;\n",
       "    }\n",
       "\n",
       "    .dataframe thead th {\n",
       "        text-align: right;\n",
       "    }\n",
       "</style>\n",
       "<table border=\"1\" class=\"dataframe\">\n",
       "  <thead>\n",
       "    <tr style=\"text-align: right;\">\n",
       "      <th></th>\n",
       "      <th>Train</th>\n",
       "      <th>Validation</th>\n",
       "    </tr>\n",
       "  </thead>\n",
       "  <tbody>\n",
       "    <tr>\n",
       "      <th>count</th>\n",
       "      <td>8.000000</td>\n",
       "      <td>8.000000</td>\n",
       "    </tr>\n",
       "    <tr>\n",
       "      <th>mean</th>\n",
       "      <td>1021.996250</td>\n",
       "      <td>1051.308750</td>\n",
       "    </tr>\n",
       "    <tr>\n",
       "      <th>std</th>\n",
       "      <td>59.007483</td>\n",
       "      <td>51.297152</td>\n",
       "    </tr>\n",
       "    <tr>\n",
       "      <th>min</th>\n",
       "      <td>955.180000</td>\n",
       "      <td>990.500000</td>\n",
       "    </tr>\n",
       "    <tr>\n",
       "      <th>25%</th>\n",
       "      <td>961.532500</td>\n",
       "      <td>999.900000</td>\n",
       "    </tr>\n",
       "    <tr>\n",
       "      <th>50%</th>\n",
       "      <td>1030.260000</td>\n",
       "      <td>1058.745000</td>\n",
       "    </tr>\n",
       "    <tr>\n",
       "      <th>75%</th>\n",
       "      <td>1079.165000</td>\n",
       "      <td>1100.690000</td>\n",
       "    </tr>\n",
       "    <tr>\n",
       "      <th>max</th>\n",
       "      <td>1081.320000</td>\n",
       "      <td>1102.820000</td>\n",
       "    </tr>\n",
       "  </tbody>\n",
       "</table>\n",
       "</div>"
      ],
      "text/plain": [
       "             Train   Validation\n",
       "count     8.000000     8.000000\n",
       "mean   1021.996250  1051.308750\n",
       "std      59.007483    51.297152\n",
       "min     955.180000   990.500000\n",
       "25%     961.532500   999.900000\n",
       "50%    1030.260000  1058.745000\n",
       "75%    1079.165000  1100.690000\n",
       "max    1081.320000  1102.820000"
      ]
     },
     "execution_count": 396,
     "metadata": {},
     "output_type": "execute_result"
    }
   ],
   "source": [
    "summary_results.describe()"
   ]
  },
  {
   "cell_type": "markdown",
   "metadata": {},
   "source": [
    "**The loss function used (root-mean-squared-error) shows that most models have similar results, with slightly higher rmse for the validation set (showing no overfitting) and  similar rmse (average) and similarly dispersed (std) between Train and Val set.**\n",
    "\n",
    "a full training will be used before predicting unseen data."
   ]
  },
  {
   "cell_type": "markdown",
   "metadata": {},
   "source": [
    "##### Lasso"
   ]
  },
  {
   "cell_type": "code",
   "execution_count": 287,
   "metadata": {},
   "outputs": [],
   "source": [
    "lasso_fit = lasso.fit(X_scaled,y_scaled)"
   ]
  },
  {
   "cell_type": "markdown",
   "metadata": {},
   "source": [
    "##### Ridge"
   ]
  },
  {
   "cell_type": "code",
   "execution_count": 286,
   "metadata": {},
   "outputs": [],
   "source": [
    "ridge_fit = ridge.fit(X_scaled,y_scaled)"
   ]
  },
  {
   "cell_type": "markdown",
   "metadata": {},
   "source": [
    "##### Decission Tree"
   ]
  },
  {
   "cell_type": "code",
   "execution_count": 149,
   "metadata": {},
   "outputs": [],
   "source": [
    "tree = DecisionTreeRegressor(criterion='mse',splitter='best',min_samples_leaf=.1)\n",
    "tree_fit = tree.fit(X_scaled,y_scaled)"
   ]
  },
  {
   "cell_type": "markdown",
   "metadata": {},
   "source": [
    "##### Bagging Regressor"
   ]
  },
  {
   "cell_type": "code",
   "execution_count": 150,
   "metadata": {},
   "outputs": [
    {
     "name": "stderr",
     "output_type": "stream",
     "text": [
      "C:\\Users\\Public\\anaconda3\\lib\\site-packages\\sklearn\\utils\\validation.py:73: DataConversionWarning: A column-vector y was passed when a 1d array was expected. Please change the shape of y to (n_samples, ), for example using ravel().\n",
      "  return f(**kwargs)\n"
     ]
    }
   ],
   "source": [
    "bc = BaggingRegressor(base_estimator=tree, n_estimators=100, n_jobs=-1)\n",
    "bc_fit = bc.fit(X_scaled,y_scaled)"
   ]
  },
  {
   "cell_type": "markdown",
   "metadata": {},
   "source": [
    "##### Gradient Boosting"
   ]
  },
  {
   "cell_type": "code",
   "execution_count": 151,
   "metadata": {},
   "outputs": [
    {
     "name": "stderr",
     "output_type": "stream",
     "text": [
      "C:\\Users\\Public\\anaconda3\\lib\\site-packages\\sklearn\\utils\\validation.py:73: DataConversionWarning: A column-vector y was passed when a 1d array was expected. Please change the shape of y to (n_samples, ), for example using ravel().\n",
      "  return f(**kwargs)\n"
     ]
    }
   ],
   "source": [
    "gbt = GradientBoostingRegressor(criterion='mse', max_depth= 6, max_features='sqrt',\n",
    "                                min_samples_leaf= 0.05, n_estimators= 500)\n",
    "gbt_fit = gbt.fit(X_scaled,y_scaled)"
   ]
  },
  {
   "cell_type": "markdown",
   "metadata": {},
   "source": [
    "##### Deep Neural Network"
   ]
  },
  {
   "cell_type": "code",
   "execution_count": 152,
   "metadata": {},
   "outputs": [
    {
     "name": "stdout",
     "output_type": "stream",
     "text": [
      "Epoch 1/200\n",
      "3061/3061 [==============================] - 11s 3ms/step - loss: 0.8639\n",
      "Epoch 2/200\n",
      "3061/3061 [==============================] - 8s 2ms/step - loss: 0.7560\n",
      "Epoch 3/200\n",
      "3061/3061 [==============================] - 8s 3ms/step - loss: 0.7515\n",
      "Epoch 4/200\n",
      "3061/3061 [==============================] - 8s 3ms/step - loss: 0.7489\n",
      "Epoch 5/200\n",
      "3061/3061 [==============================] - 8s 3ms/step - loss: 0.7471\n",
      "Epoch 6/200\n",
      "3061/3061 [==============================] - 8s 3ms/step - loss: 0.7459\n",
      "Epoch 7/200\n",
      "3061/3061 [==============================] - 8s 3ms/step - loss: 0.7455\n",
      "Epoch 8/200\n",
      "3061/3061 [==============================] - 8s 3ms/step - loss: 0.7441\n",
      "Epoch 9/200\n",
      "3061/3061 [==============================] - 8s 3ms/step - loss: 0.7435\n",
      "Epoch 10/200\n",
      "3061/3061 [==============================] - 8s 3ms/step - loss: 0.7420\n",
      "Epoch 11/200\n",
      "3061/3061 [==============================] - 8s 3ms/step - loss: 0.7415\n",
      "Epoch 12/200\n",
      "3061/3061 [==============================] - 8s 3ms/step - loss: 0.7412\n",
      "Epoch 13/200\n",
      "3061/3061 [==============================] - 8s 3ms/step - loss: 0.7396\n",
      "Epoch 14/200\n",
      "3061/3061 [==============================] - 8s 3ms/step - loss: 0.7401\n",
      "Epoch 15/200\n",
      "3061/3061 [==============================] - 8s 3ms/step - loss: 0.7390\n",
      "Epoch 16/200\n",
      "3061/3061 [==============================] - 8s 3ms/step - loss: 0.7395\n",
      "Epoch 17/200\n",
      "3061/3061 [==============================] - 8s 3ms/step - loss: 0.7378\n",
      "Epoch 18/200\n",
      "3061/3061 [==============================] - 8s 3ms/step - loss: 0.7386\n",
      "Epoch 19/200\n",
      "3061/3061 [==============================] - 8s 3ms/step - loss: 0.7383\n",
      "Epoch 20/200\n",
      "3061/3061 [==============================] - 8s 3ms/step - loss: 0.7381\n",
      "Epoch 21/200\n",
      "3061/3061 [==============================] - 8s 3ms/step - loss: 0.7377\n",
      "Epoch 22/200\n",
      "3061/3061 [==============================] - 10s 3ms/step - loss: 0.7374\n",
      "Epoch 23/200\n",
      "3061/3061 [==============================] - 8s 3ms/step - loss: 0.7368\n",
      "Epoch 24/200\n",
      "3061/3061 [==============================] - 8s 3ms/step - loss: 0.7358\n",
      "Epoch 25/200\n",
      "3061/3061 [==============================] - 8s 3ms/step - loss: 0.7364\n",
      "Epoch 26/200\n",
      "3061/3061 [==============================] - 8s 3ms/step - loss: 0.7351\n",
      "Epoch 27/200\n",
      "3061/3061 [==============================] - 8s 3ms/step - loss: 0.7358\n",
      "Epoch 28/200\n",
      "3061/3061 [==============================] - 8s 3ms/step - loss: 0.7347\n",
      "Epoch 29/200\n",
      "3061/3061 [==============================] - 8s 3ms/step - loss: 0.7345\n",
      "Epoch 30/200\n",
      "3061/3061 [==============================] - 8s 3ms/step - loss: 0.7342\n",
      "Epoch 31/200\n",
      "3061/3061 [==============================] - 8s 3ms/step - loss: 0.7348\n",
      "Epoch 32/200\n",
      "3061/3061 [==============================] - 8s 3ms/step - loss: 0.7357\n",
      "Epoch 33/200\n",
      "3061/3061 [==============================] - 8s 3ms/step - loss: 0.7344\n",
      "Epoch 34/200\n",
      "3061/3061 [==============================] - 8s 3ms/step - loss: 0.7334\n",
      "Epoch 35/200\n",
      "3061/3061 [==============================] - 8s 3ms/step - loss: 0.7341\n",
      "Epoch 36/200\n",
      "3061/3061 [==============================] - 8s 3ms/step - loss: 0.7334\n",
      "Epoch 37/200\n",
      "3061/3061 [==============================] - 8s 3ms/step - loss: 0.7327\n",
      "Epoch 38/200\n",
      "3061/3061 [==============================] - 8s 3ms/step - loss: 0.7325\n",
      "Epoch 39/200\n",
      "3061/3061 [==============================] - 8s 3ms/step - loss: 0.7339\n",
      "Epoch 40/200\n",
      "3061/3061 [==============================] - 8s 3ms/step - loss: 0.7327\n",
      "Epoch 41/200\n",
      "3061/3061 [==============================] - 8s 3ms/step - loss: 0.7331\n",
      "Epoch 42/200\n",
      "3061/3061 [==============================] - 8s 3ms/step - loss: 0.7325\n",
      "Epoch 43/200\n",
      "3061/3061 [==============================] - 8s 3ms/step - loss: 0.7331\n",
      "Epoch 44/200\n",
      "3061/3061 [==============================] - 8s 3ms/step - loss: 0.7321\n",
      "Epoch 45/200\n",
      "3061/3061 [==============================] - 8s 3ms/step - loss: 0.7330\n",
      "Epoch 46/200\n",
      "3061/3061 [==============================] - 8s 3ms/step - loss: 0.7331\n",
      "Epoch 47/200\n",
      "3061/3061 [==============================] - 8s 3ms/step - loss: 0.7324\n",
      "Epoch 48/200\n",
      "3061/3061 [==============================] - 8s 3ms/step - loss: 0.7318\n",
      "Epoch 49/200\n",
      "3061/3061 [==============================] - 8s 3ms/step - loss: 0.7314\n",
      "Epoch 50/200\n",
      "3061/3061 [==============================] - 8s 3ms/step - loss: 0.7315\n",
      "Epoch 51/200\n",
      "3061/3061 [==============================] - 8s 3ms/step - loss: 0.7317\n",
      "Epoch 52/200\n",
      "3061/3061 [==============================] - 8s 3ms/step - loss: 0.7301\n",
      "Epoch 53/200\n",
      "3061/3061 [==============================] - 8s 3ms/step - loss: 0.7314\n",
      "Epoch 54/200\n",
      "3061/3061 [==============================] - 9s 3ms/step - loss: 0.7303\n",
      "Epoch 55/200\n",
      "3061/3061 [==============================] - 8s 2ms/step - loss: 0.7300\n",
      "Epoch 56/200\n",
      "3061/3061 [==============================] - 7s 2ms/step - loss: 0.7312\n",
      "Epoch 57/200\n",
      "3061/3061 [==============================] - 8s 2ms/step - loss: 0.7303\n",
      "Epoch 58/200\n",
      "3061/3061 [==============================] - 8s 2ms/step - loss: 0.7298\n",
      "Epoch 59/200\n",
      "3061/3061 [==============================] - 8s 2ms/step - loss: 0.7302\n",
      "Epoch 60/200\n",
      "3061/3061 [==============================] - 8s 2ms/step - loss: 0.7304\n",
      "Epoch 61/200\n",
      "3061/3061 [==============================] - 8s 2ms/step - loss: 0.7304\n",
      "Epoch 62/200\n",
      "3061/3061 [==============================] - 8s 2ms/step - loss: 0.7289\n",
      "Epoch 63/200\n",
      "3061/3061 [==============================] - 7s 2ms/step - loss: 0.7302\n",
      "Epoch 64/200\n",
      "3061/3061 [==============================] - 8s 2ms/step - loss: 0.7299\n",
      "Epoch 65/200\n",
      "3061/3061 [==============================] - 8s 2ms/step - loss: 0.7289\n",
      "Epoch 66/200\n",
      "3061/3061 [==============================] - 8s 2ms/step - loss: 0.7301\n",
      "Epoch 67/200\n",
      "3061/3061 [==============================] - 8s 3ms/step - loss: 0.7275\n",
      "Epoch 68/200\n",
      "3061/3061 [==============================] - 8s 2ms/step - loss: 0.7278\n",
      "Epoch 69/200\n",
      "3061/3061 [==============================] - 8s 3ms/step - loss: 0.7292\n",
      "Epoch 70/200\n",
      "3061/3061 [==============================] - 9s 3ms/step - loss: 0.7296\n",
      "Epoch 71/200\n",
      "3061/3061 [==============================] - 8s 3ms/step - loss: 0.7274\n",
      "Epoch 72/200\n",
      "3061/3061 [==============================] - 8s 3ms/step - loss: 0.7290\n",
      "Epoch 73/200\n",
      "3061/3061 [==============================] - 8s 3ms/step - loss: 0.7288\n",
      "Epoch 74/200\n",
      "3061/3061 [==============================] - 8s 3ms/step - loss: 0.7281\n",
      "Epoch 75/200\n",
      "3061/3061 [==============================] - 8s 3ms/step - loss: 0.7281\n",
      "Epoch 76/200\n",
      "3061/3061 [==============================] - 8s 3ms/step - loss: 0.7286\n",
      "Epoch 77/200\n",
      "3061/3061 [==============================] - 8s 3ms/step - loss: 0.7282\n",
      "Epoch 78/200\n",
      "3061/3061 [==============================] - 8s 3ms/step - loss: 0.7283\n",
      "Epoch 79/200\n",
      "3061/3061 [==============================] - 8s 3ms/step - loss: 0.7283\n",
      "Epoch 80/200\n",
      "3061/3061 [==============================] - 8s 3ms/step - loss: 0.7276\n",
      "Epoch 81/200\n",
      "3061/3061 [==============================] - 8s 3ms/step - loss: 0.7285\n",
      "Epoch 82/200\n",
      "3061/3061 [==============================] - 8s 3ms/step - loss: 0.7282\n",
      "Epoch 83/200\n",
      "3061/3061 [==============================] - 8s 3ms/step - loss: 0.7283\n",
      "Epoch 84/200\n",
      "3061/3061 [==============================] - 8s 3ms/step - loss: 0.7279\n",
      "Epoch 85/200\n",
      "3061/3061 [==============================] - 8s 3ms/step - loss: 0.7276\n",
      "Epoch 86/200\n",
      "3061/3061 [==============================] - 9s 3ms/step - loss: 0.7281\n",
      "Epoch 87/200\n",
      "3061/3061 [==============================] - 8s 3ms/step - loss: 0.7275\n",
      "Epoch 88/200\n",
      "3061/3061 [==============================] - 8s 3ms/step - loss: 0.7263\n",
      "Epoch 89/200\n",
      "3061/3061 [==============================] - 8s 3ms/step - loss: 0.7273\n",
      "Epoch 90/200\n",
      "3061/3061 [==============================] - 8s 3ms/step - loss: 0.7272\n",
      "Epoch 91/200\n",
      "3061/3061 [==============================] - 8s 3ms/step - loss: 0.7271\n",
      "Epoch 92/200\n",
      "3061/3061 [==============================] - 8s 3ms/step - loss: 0.7268\n",
      "Epoch 93/200\n",
      "3061/3061 [==============================] - 8s 3ms/step - loss: 0.7275\n",
      "Epoch 94/200\n",
      "3061/3061 [==============================] - 8s 3ms/step - loss: 0.7264\n",
      "Epoch 95/200\n",
      "3061/3061 [==============================] - 8s 3ms/step - loss: 0.7271\n",
      "Epoch 96/200\n",
      "3061/3061 [==============================] - 8s 3ms/step - loss: 0.7259\n",
      "Epoch 97/200\n",
      "3061/3061 [==============================] - 8s 3ms/step - loss: 0.7271\n",
      "Epoch 98/200\n",
      "3061/3061 [==============================] - 8s 2ms/step - loss: 0.7270\n",
      "Epoch 99/200\n",
      "3061/3061 [==============================] - 8s 3ms/step - loss: 0.7268\n",
      "Epoch 100/200\n",
      "3061/3061 [==============================] - 8s 3ms/step - loss: 0.7257\n",
      "Epoch 101/200\n",
      "3061/3061 [==============================] - 8s 3ms/step - loss: 0.7269\n",
      "Epoch 102/200\n",
      "3061/3061 [==============================] - 8s 3ms/step - loss: 0.7267\n",
      "Epoch 103/200\n",
      "3061/3061 [==============================] - 8s 2ms/step - loss: 0.7269\n",
      "Epoch 104/200\n",
      "3061/3061 [==============================] - 8s 2ms/step - loss: 0.7260\n",
      "Epoch 105/200\n",
      "3061/3061 [==============================] - 8s 2ms/step - loss: 0.7257\n",
      "Epoch 106/200\n",
      "3061/3061 [==============================] - 8s 3ms/step - loss: 0.7265\n",
      "Epoch 107/200\n",
      "3061/3061 [==============================] - 8s 2ms/step - loss: 0.7260\n",
      "Epoch 108/200\n",
      "3061/3061 [==============================] - 8s 3ms/step - loss: 0.7262\n",
      "Epoch 109/200\n",
      "3061/3061 [==============================] - 8s 3ms/step - loss: 0.7256\n",
      "Epoch 110/200\n",
      "3061/3061 [==============================] - 8s 3ms/step - loss: 0.7258\n",
      "Epoch 111/200\n",
      "3061/3061 [==============================] - 8s 3ms/step - loss: 0.7252\n",
      "Epoch 112/200\n",
      "3061/3061 [==============================] - 8s 2ms/step - loss: 0.7257\n",
      "Epoch 113/200\n",
      "3061/3061 [==============================] - 8s 2ms/step - loss: 0.7257\n",
      "Epoch 114/200\n",
      "3061/3061 [==============================] - 7s 2ms/step - loss: 0.7251\n",
      "Epoch 115/200\n",
      "3061/3061 [==============================] - 8s 2ms/step - loss: 0.7255\n",
      "Epoch 116/200\n",
      "3061/3061 [==============================] - 8s 3ms/step - loss: 0.7266\n",
      "Epoch 117/200\n",
      "3061/3061 [==============================] - 9s 3ms/step - loss: 0.7264\n",
      "Epoch 118/200\n",
      "3061/3061 [==============================] - 8s 3ms/step - loss: 0.7259\n",
      "Epoch 119/200\n",
      "3061/3061 [==============================] - 8s 3ms/step - loss: 0.7256\n",
      "Epoch 120/200\n",
      "3061/3061 [==============================] - 8s 3ms/step - loss: 0.7257\n",
      "Epoch 121/200\n",
      "3061/3061 [==============================] - 8s 3ms/step - loss: 0.7243\n",
      "Epoch 122/200\n",
      "3061/3061 [==============================] - 8s 3ms/step - loss: 0.7253\n",
      "Epoch 123/200\n",
      "3061/3061 [==============================] - 8s 3ms/step - loss: 0.7251\n",
      "Epoch 124/200\n",
      "3061/3061 [==============================] - 8s 3ms/step - loss: 0.7255\n",
      "Epoch 125/200\n",
      "3061/3061 [==============================] - 8s 3ms/step - loss: 0.7254\n",
      "Epoch 126/200\n",
      "3061/3061 [==============================] - 8s 3ms/step - loss: 0.7258\n",
      "Epoch 127/200\n",
      "3061/3061 [==============================] - 8s 3ms/step - loss: 0.7250\n",
      "Epoch 128/200\n",
      "3061/3061 [==============================] - 8s 2ms/step - loss: 0.7252\n",
      "Epoch 129/200\n",
      "3061/3061 [==============================] - 8s 2ms/step - loss: 0.7245\n",
      "Epoch 130/200\n",
      "3061/3061 [==============================] - 8s 3ms/step - loss: 0.7252\n",
      "Epoch 131/200\n",
      "3061/3061 [==============================] - 8s 3ms/step - loss: 0.7251\n",
      "Epoch 132/200\n",
      "3061/3061 [==============================] - 8s 2ms/step - loss: 0.7242\n",
      "Epoch 133/200\n",
      "3061/3061 [==============================] - 8s 3ms/step - loss: 0.7253\n",
      "Epoch 134/200\n",
      "3061/3061 [==============================] - 8s 3ms/step - loss: 0.7254\n",
      "Epoch 135/200\n",
      "3061/3061 [==============================] - 8s 2ms/step - loss: 0.7242\n",
      "Epoch 136/200\n",
      "3061/3061 [==============================] - 8s 2ms/step - loss: 0.7240\n",
      "Epoch 137/200\n",
      "3061/3061 [==============================] - 8s 2ms/step - loss: 0.7240\n",
      "Epoch 138/200\n",
      "3061/3061 [==============================] - 8s 3ms/step - loss: 0.7246\n",
      "Epoch 139/200\n",
      "3061/3061 [==============================] - 8s 2ms/step - loss: 0.7244\n",
      "Epoch 140/200\n",
      "3061/3061 [==============================] - 7s 2ms/step - loss: 0.7244\n",
      "Epoch 141/200\n",
      "3061/3061 [==============================] - 8s 3ms/step - loss: 0.7240\n",
      "Epoch 142/200\n",
      "3061/3061 [==============================] - 8s 2ms/step - loss: 0.7253\n",
      "Epoch 143/200\n",
      "3061/3061 [==============================] - 8s 2ms/step - loss: 0.7247\n",
      "Epoch 144/200\n",
      "3061/3061 [==============================] - 8s 2ms/step - loss: 0.7249\n",
      "Epoch 145/200\n",
      "3061/3061 [==============================] - 8s 2ms/step - loss: 0.7249\n",
      "Epoch 146/200\n",
      "3061/3061 [==============================] - 8s 2ms/step - loss: 0.7236\n",
      "Epoch 147/200\n",
      "3061/3061 [==============================] - 8s 2ms/step - loss: 0.7236\n",
      "Epoch 148/200\n",
      "3061/3061 [==============================] - 7s 2ms/step - loss: 0.7236\n",
      "Epoch 149/200\n",
      "3061/3061 [==============================] - 7s 2ms/step - loss: 0.7232\n",
      "Epoch 150/200\n",
      "3061/3061 [==============================] - 8s 2ms/step - loss: 0.7248\n",
      "Epoch 151/200\n",
      "3061/3061 [==============================] - 7s 2ms/step - loss: 0.7239\n",
      "Epoch 152/200\n",
      "3061/3061 [==============================] - 7s 2ms/step - loss: 0.7238\n",
      "Epoch 153/200\n",
      "3061/3061 [==============================] - 8s 2ms/step - loss: 0.7233\n",
      "Epoch 154/200\n",
      "3061/3061 [==============================] - 8s 2ms/step - loss: 0.7238\n",
      "Epoch 155/200\n",
      "3061/3061 [==============================] - 7s 2ms/step - loss: 0.7237\n",
      "Epoch 156/200\n",
      "3061/3061 [==============================] - 8s 3ms/step - loss: 0.7235\n",
      "Epoch 157/200\n",
      "3061/3061 [==============================] - 8s 3ms/step - loss: 0.7235\n",
      "Epoch 158/200\n",
      "3061/3061 [==============================] - 7s 2ms/step - loss: 0.7238\n",
      "Epoch 159/200\n",
      "3061/3061 [==============================] - 8s 2ms/step - loss: 0.7244\n",
      "Epoch 160/200\n",
      "3061/3061 [==============================] - 7s 2ms/step - loss: 0.7246\n",
      "Epoch 161/200\n",
      "3061/3061 [==============================] - 8s 2ms/step - loss: 0.7246\n",
      "Epoch 162/200\n",
      "3061/3061 [==============================] - 8s 2ms/step - loss: 0.7231\n",
      "Epoch 163/200\n",
      "3061/3061 [==============================] - 8s 2ms/step - loss: 0.7230\n",
      "Epoch 164/200\n",
      "3061/3061 [==============================] - 8s 2ms/step - loss: 0.7229\n",
      "Epoch 165/200\n",
      "3061/3061 [==============================] - 8s 3ms/step - loss: 0.7234\n",
      "Epoch 166/200\n",
      "3061/3061 [==============================] - 8s 2ms/step - loss: 0.7250\n",
      "Epoch 167/200\n",
      "3061/3061 [==============================] - 8s 2ms/step - loss: 0.7237\n",
      "Epoch 168/200\n",
      "3061/3061 [==============================] - 8s 2ms/step - loss: 0.7236\n",
      "Epoch 169/200\n",
      "3061/3061 [==============================] - 8s 3ms/step - loss: 0.7232\n",
      "Epoch 170/200\n",
      "3061/3061 [==============================] - 8s 2ms/step - loss: 0.7233\n",
      "Epoch 171/200\n",
      "3061/3061 [==============================] - 7s 2ms/step - loss: 0.7227\n",
      "Epoch 172/200\n",
      "3061/3061 [==============================] - 8s 2ms/step - loss: 0.7231\n",
      "Epoch 173/200\n",
      "3061/3061 [==============================] - 7s 2ms/step - loss: 0.7229\n",
      "Epoch 174/200\n",
      "3061/3061 [==============================] - 8s 3ms/step - loss: 0.7227\n",
      "Epoch 175/200\n",
      "3061/3061 [==============================] - 8s 2ms/step - loss: 0.7227\n",
      "Epoch 176/200\n",
      "3061/3061 [==============================] - 8s 2ms/step - loss: 0.7232\n",
      "Epoch 177/200\n",
      "3061/3061 [==============================] - 8s 2ms/step - loss: 0.7227\n",
      "Epoch 178/200\n",
      "3061/3061 [==============================] - 8s 2ms/step - loss: 0.7238\n",
      "Epoch 179/200\n",
      "3061/3061 [==============================] - 8s 3ms/step - loss: 0.7236\n",
      "Epoch 180/200\n",
      "3061/3061 [==============================] - 7s 2ms/step - loss: 0.7234\n",
      "Epoch 181/200\n",
      "3061/3061 [==============================] - 8s 2ms/step - loss: 0.7236\n",
      "Epoch 182/200\n",
      "3061/3061 [==============================] - 8s 2ms/step - loss: 0.7225\n",
      "Epoch 183/200\n",
      "3061/3061 [==============================] - 8s 2ms/step - loss: 0.7228\n",
      "Epoch 184/200\n",
      "3061/3061 [==============================] - 7s 2ms/step - loss: 0.7235\n",
      "Epoch 185/200\n",
      "3061/3061 [==============================] - 8s 2ms/step - loss: 0.7232\n",
      "Epoch 186/200\n",
      "3061/3061 [==============================] - 8s 2ms/step - loss: 0.7228\n",
      "Epoch 187/200\n",
      "3061/3061 [==============================] - 8s 2ms/step - loss: 0.7231\n",
      "Epoch 188/200\n",
      "3061/3061 [==============================] - 8s 3ms/step - loss: 0.7223\n",
      "Epoch 189/200\n",
      "3061/3061 [==============================] - 8s 2ms/step - loss: 0.7220\n",
      "Epoch 190/200\n",
      "3061/3061 [==============================] - 8s 2ms/step - loss: 0.7224\n",
      "Epoch 191/200\n",
      "3061/3061 [==============================] - 8s 3ms/step - loss: 0.7220\n",
      "Epoch 192/200\n"
     ]
    },
    {
     "name": "stdout",
     "output_type": "stream",
     "text": [
      "3061/3061 [==============================] - 7s 2ms/step - loss: 0.7221\n",
      "Epoch 193/200\n",
      "3061/3061 [==============================] - 8s 3ms/step - loss: 0.7231\n",
      "Epoch 194/200\n",
      "3061/3061 [==============================] - 8s 3ms/step - loss: 0.7230\n",
      "Epoch 195/200\n",
      "3061/3061 [==============================] - 8s 3ms/step - loss: 0.7228\n",
      "Epoch 196/200\n",
      "3061/3061 [==============================] - 8s 3ms/step - loss: 0.7227\n",
      "Epoch 197/200\n",
      "3061/3061 [==============================] - 8s 3ms/step - loss: 0.7227\n",
      "Epoch 198/200\n",
      "3061/3061 [==============================] - 8s 3ms/step - loss: 0.7231\n",
      "Epoch 199/200\n",
      "3061/3061 [==============================] - 8s 2ms/step - loss: 0.7214\n",
      "Epoch 200/200\n",
      "3061/3061 [==============================] - 8s 3ms/step - loss: 0.7226\n"
     ]
    }
   ],
   "source": [
    "# 2-hidden layers NN\n",
    "nn_model = Sequential()\n",
    "\n",
    "nn_model.add( Dense(64, activation='relu',input_shape=(X_scaled.shape[1],) ) ) # input_dim=X.shape[1]\n",
    "nn_model.add(BatchNormalization())\n",
    "\n",
    "nn_model.add( Dense(32, activation='relu') )\n",
    "nn_model.add(BatchNormalization())\n",
    "\n",
    "nn_model.add( Dense(16, activation='relu') )\n",
    "nn_model.add(BatchNormalization())\n",
    "nn_model.add(Dropout(0.2))\n",
    "\n",
    "nn_model.add( Dense(1, activation='linear'))\n",
    "\n",
    "# Defining Loss function and Optimizer\n",
    "nn_model.compile(loss='mse', optimizer='adam')  \n",
    "# Fitting\n",
    "nn_model_fit = nn_model.fit(X_scaled, y_scaled,batch_size=64, epochs=200, verbose=1);"
   ]
  },
  {
   "cell_type": "markdown",
   "metadata": {},
   "source": [
    "##### LSTM NN"
   ]
  },
  {
   "cell_type": "code",
   "execution_count": 156,
   "metadata": {},
   "outputs": [
    {
     "name": "stdout",
     "output_type": "stream",
     "text": [
      "Epoch 1/200\n",
      "3061/3061 [==============================] - 16s 4ms/step - loss: 0.8393\n",
      "Epoch 2/200\n",
      "3061/3061 [==============================] - 13s 4ms/step - loss: 0.7560\n",
      "Epoch 3/200\n",
      "3061/3061 [==============================] - 12s 4ms/step - loss: 0.7501\n",
      "Epoch 4/200\n",
      "3061/3061 [==============================] - 12s 4ms/step - loss: 0.7485\n",
      "Epoch 5/200\n",
      "3061/3061 [==============================] - 12s 4ms/step - loss: 0.7463\n",
      "Epoch 6/200\n",
      "3061/3061 [==============================] - 12s 4ms/step - loss: 0.7449\n",
      "Epoch 7/200\n",
      "3061/3061 [==============================] - 12s 4ms/step - loss: 0.7426\n",
      "Epoch 8/200\n",
      "3061/3061 [==============================] - 12s 4ms/step - loss: 0.7427\n",
      "Epoch 9/200\n",
      "3061/3061 [==============================] - 12s 4ms/step - loss: 0.7416\n",
      "Epoch 10/200\n",
      "3061/3061 [==============================] - 13s 4ms/step - loss: 0.7405\n",
      "Epoch 11/200\n",
      "3061/3061 [==============================] - 13s 4ms/step - loss: 0.7410\n",
      "Epoch 12/200\n",
      "3061/3061 [==============================] - 12s 4ms/step - loss: 0.7388\n",
      "Epoch 13/200\n",
      "3061/3061 [==============================] - 12s 4ms/step - loss: 0.7390\n",
      "Epoch 14/200\n",
      "3061/3061 [==============================] - 12s 4ms/step - loss: 0.7375\n",
      "Epoch 15/200\n",
      "3061/3061 [==============================] - 12s 4ms/step - loss: 0.7377\n",
      "Epoch 16/200\n",
      "3061/3061 [==============================] - 12s 4ms/step - loss: 0.7364\n",
      "Epoch 17/200\n",
      "3061/3061 [==============================] - 12s 4ms/step - loss: 0.7361\n",
      "Epoch 18/200\n",
      "3061/3061 [==============================] - 12s 4ms/step - loss: 0.7359\n",
      "Epoch 19/200\n",
      "3061/3061 [==============================] - 12s 4ms/step - loss: 0.7365\n",
      "Epoch 20/200\n",
      "3061/3061 [==============================] - 12s 4ms/step - loss: 0.7343\n",
      "Epoch 21/200\n",
      "3061/3061 [==============================] - 11s 4ms/step - loss: 0.7344\n",
      "Epoch 22/200\n",
      "3061/3061 [==============================] - 12s 4ms/step - loss: 0.7336\n",
      "Epoch 23/200\n",
      "3061/3061 [==============================] - 14s 4ms/step - loss: 0.7325\n",
      "Epoch 24/200\n",
      "3061/3061 [==============================] - 16s 5ms/step - loss: 0.7330\n",
      "Epoch 25/200\n",
      "3061/3061 [==============================] - 13s 4ms/step - loss: 0.7327\n",
      "Epoch 26/200\n",
      "3061/3061 [==============================] - 10s 3ms/step - loss: 0.7326\n",
      "Epoch 27/200\n",
      "3061/3061 [==============================] - 10s 3ms/step - loss: 0.7316\n",
      "Epoch 28/200\n",
      "3061/3061 [==============================] - 11s 4ms/step - loss: 0.7310\n",
      "Epoch 29/200\n",
      "3061/3061 [==============================] - 12s 4ms/step - loss: 0.7322\n",
      "Epoch 30/200\n",
      "3061/3061 [==============================] - 10s 3ms/step - loss: 0.7320\n",
      "Epoch 31/200\n",
      "3061/3061 [==============================] - 10s 3ms/step - loss: 0.7310\n",
      "Epoch 32/200\n",
      "3061/3061 [==============================] - 10s 3ms/step - loss: 0.7302\n",
      "Epoch 33/200\n",
      "3061/3061 [==============================] - 10s 3ms/step - loss: 0.7300\n",
      "Epoch 34/200\n",
      "3061/3061 [==============================] - 10s 3ms/step - loss: 0.7298\n",
      "Epoch 35/200\n",
      "3061/3061 [==============================] - 10s 3ms/step - loss: 0.7298\n",
      "Epoch 36/200\n",
      "3061/3061 [==============================] - 10s 3ms/step - loss: 0.7291\n",
      "Epoch 37/200\n",
      "3061/3061 [==============================] - 10s 3ms/step - loss: 0.7288\n",
      "Epoch 38/200\n",
      "3061/3061 [==============================] - 10s 3ms/step - loss: 0.7290\n",
      "Epoch 39/200\n",
      "3061/3061 [==============================] - 10s 3ms/step - loss: 0.7291\n",
      "Epoch 40/200\n",
      "3061/3061 [==============================] - 10s 3ms/step - loss: 0.7288\n",
      "Epoch 41/200\n",
      "3061/3061 [==============================] - 10s 3ms/step - loss: 0.7279\n",
      "Epoch 42/200\n",
      "3061/3061 [==============================] - 10s 3ms/step - loss: 0.7278\n",
      "Epoch 43/200\n",
      "3061/3061 [==============================] - 10s 3ms/step - loss: 0.7286\n",
      "Epoch 44/200\n",
      "3061/3061 [==============================] - 10s 3ms/step - loss: 0.7280\n",
      "Epoch 45/200\n",
      "3061/3061 [==============================] - 10s 3ms/step - loss: 0.7279\n",
      "Epoch 46/200\n",
      "3061/3061 [==============================] - 10s 3ms/step - loss: 0.7279\n",
      "Epoch 47/200\n",
      "3061/3061 [==============================] - 10s 3ms/step - loss: 0.7265\n",
      "Epoch 48/200\n",
      "3061/3061 [==============================] - 10s 3ms/step - loss: 0.7265\n",
      "Epoch 49/200\n",
      "3061/3061 [==============================] - 10s 3ms/step - loss: 0.7265\n",
      "Epoch 50/200\n",
      "3061/3061 [==============================] - 10s 3ms/step - loss: 0.7261\n",
      "Epoch 51/200\n",
      "3061/3061 [==============================] - 10s 3ms/step - loss: 0.7262\n",
      "Epoch 52/200\n",
      "3061/3061 [==============================] - 10s 3ms/step - loss: 0.7264\n",
      "Epoch 53/200\n",
      "3061/3061 [==============================] - 13s 4ms/step - loss: 0.7257\n",
      "Epoch 54/200\n",
      "3061/3061 [==============================] - 12s 4ms/step - loss: 0.7255\n",
      "Epoch 55/200\n",
      "3061/3061 [==============================] - 12s 4ms/step - loss: 0.7247\n",
      "Epoch 56/200\n",
      "3061/3061 [==============================] - 12s 4ms/step - loss: 0.7253\n",
      "Epoch 57/200\n",
      "3061/3061 [==============================] - 12s 4ms/step - loss: 0.7251\n",
      "Epoch 58/200\n",
      "3061/3061 [==============================] - 12s 4ms/step - loss: 0.7247\n",
      "Epoch 59/200\n",
      "3061/3061 [==============================] - 11s 4ms/step - loss: 0.7253\n",
      "Epoch 60/200\n",
      "3061/3061 [==============================] - 12s 4ms/step - loss: 0.7232\n",
      "Epoch 61/200\n",
      "3061/3061 [==============================] - 13s 4ms/step - loss: 0.7240\n",
      "Epoch 62/200\n",
      "3061/3061 [==============================] - 12s 4ms/step - loss: 0.7251\n",
      "Epoch 63/200\n",
      "3061/3061 [==============================] - 12s 4ms/step - loss: 0.7240\n",
      "Epoch 64/200\n",
      "3061/3061 [==============================] - 12s 4ms/step - loss: 0.7253\n",
      "Epoch 65/200\n",
      "3061/3061 [==============================] - 12s 4ms/step - loss: 0.7251\n",
      "Epoch 66/200\n",
      "3061/3061 [==============================] - 12s 4ms/step - loss: 0.7245\n",
      "Epoch 67/200\n",
      "3061/3061 [==============================] - 12s 4ms/step - loss: 0.7225\n",
      "Epoch 68/200\n",
      "3061/3061 [==============================] - 12s 4ms/step - loss: 0.7239\n",
      "Epoch 69/200\n",
      "3061/3061 [==============================] - 12s 4ms/step - loss: 0.7234\n",
      "Epoch 70/200\n",
      "3061/3061 [==============================] - 12s 4ms/step - loss: 0.7235\n",
      "Epoch 71/200\n",
      "3061/3061 [==============================] - 12s 4ms/step - loss: 0.7238\n",
      "Epoch 72/200\n",
      "3061/3061 [==============================] - 12s 4ms/step - loss: 0.7230\n",
      "Epoch 73/200\n",
      "3061/3061 [==============================] - 12s 4ms/step - loss: 0.7221\n",
      "Epoch 74/200\n",
      "3061/3061 [==============================] - 12s 4ms/step - loss: 0.7230\n",
      "Epoch 75/200\n",
      "3061/3061 [==============================] - 12s 4ms/step - loss: 0.7241\n",
      "Epoch 76/200\n",
      "3061/3061 [==============================] - 12s 4ms/step - loss: 0.7220\n",
      "Epoch 77/200\n",
      "3061/3061 [==============================] - 12s 4ms/step - loss: 0.7223\n",
      "Epoch 78/200\n",
      "3061/3061 [==============================] - 12s 4ms/step - loss: 0.7206\n",
      "Epoch 79/200\n",
      "3061/3061 [==============================] - 12s 4ms/step - loss: 0.7210\n",
      "Epoch 80/200\n",
      "3061/3061 [==============================] - 13s 4ms/step - loss: 0.7218\n",
      "Epoch 81/200\n",
      "3061/3061 [==============================] - 13s 4ms/step - loss: 0.7215\n",
      "Epoch 82/200\n",
      "3061/3061 [==============================] - 12s 4ms/step - loss: 0.7209: 0s - loss: 0.7\n",
      "Epoch 83/200\n",
      "3061/3061 [==============================] - 12s 4ms/step - loss: 0.7215\n",
      "Epoch 84/200\n",
      "3061/3061 [==============================] - 13s 4ms/step - loss: 0.7209\n",
      "Epoch 85/200\n",
      "3061/3061 [==============================] - 12s 4ms/step - loss: 0.7213\n",
      "Epoch 86/200\n",
      "3061/3061 [==============================] - 13s 4ms/step - loss: 0.7210\n",
      "Epoch 87/200\n",
      "3061/3061 [==============================] - 13s 4ms/step - loss: 0.7213\n",
      "Epoch 88/200\n",
      "3061/3061 [==============================] - 12s 4ms/step - loss: 0.7207\n",
      "Epoch 89/200\n",
      "3061/3061 [==============================] - 12s 4ms/step - loss: 0.7214\n",
      "Epoch 90/200\n",
      "3061/3061 [==============================] - 12s 4ms/step - loss: 0.7204\n",
      "Epoch 91/200\n",
      "3061/3061 [==============================] - 12s 4ms/step - loss: 0.7207\n",
      "Epoch 92/200\n",
      "3061/3061 [==============================] - 12s 4ms/step - loss: 0.7194\n",
      "Epoch 93/200\n",
      "3061/3061 [==============================] - 12s 4ms/step - loss: 0.7208\n",
      "Epoch 94/200\n",
      "3061/3061 [==============================] - 12s 4ms/step - loss: 0.7206\n",
      "Epoch 95/200\n",
      "3061/3061 [==============================] - 12s 4ms/step - loss: 0.7204\n",
      "Epoch 96/200\n",
      "3061/3061 [==============================] - 12s 4ms/step - loss: 0.7205\n",
      "Epoch 97/200\n",
      "3061/3061 [==============================] - 12s 4ms/step - loss: 0.7204\n",
      "Epoch 98/200\n",
      "3061/3061 [==============================] - 12s 4ms/step - loss: 0.7192\n",
      "Epoch 99/200\n",
      "3061/3061 [==============================] - 12s 4ms/step - loss: 0.7189\n",
      "Epoch 100/200\n",
      "3061/3061 [==============================] - 12s 4ms/step - loss: 0.7193\n",
      "Epoch 101/200\n",
      "3061/3061 [==============================] - 12s 4ms/step - loss: 0.7198\n",
      "Epoch 102/200\n",
      "3061/3061 [==============================] - 12s 4ms/step - loss: 0.7178\n",
      "Epoch 103/200\n",
      "3061/3061 [==============================] - 12s 4ms/step - loss: 0.7184\n",
      "Epoch 104/200\n",
      "3061/3061 [==============================] - 13s 4ms/step - loss: 0.7193\n",
      "Epoch 105/200\n",
      "3061/3061 [==============================] - 12s 4ms/step - loss: 0.7183\n",
      "Epoch 106/200\n",
      "3061/3061 [==============================] - 12s 4ms/step - loss: 0.7187\n",
      "Epoch 107/200\n",
      "3061/3061 [==============================] - 12s 4ms/step - loss: 0.7190\n",
      "Epoch 108/200\n",
      "3061/3061 [==============================] - 12s 4ms/step - loss: 0.7191\n",
      "Epoch 109/200\n",
      "3061/3061 [==============================] - 12s 4ms/step - loss: 0.7189\n",
      "Epoch 110/200\n",
      "3061/3061 [==============================] - 12s 4ms/step - loss: 0.7184\n",
      "Epoch 111/200\n",
      "3061/3061 [==============================] - 12s 4ms/step - loss: 0.7196\n",
      "Epoch 112/200\n",
      "3061/3061 [==============================] - 12s 4ms/step - loss: 0.7189\n",
      "Epoch 113/200\n",
      "3061/3061 [==============================] - 12s 4ms/step - loss: 0.7183\n",
      "Epoch 114/200\n",
      "3061/3061 [==============================] - 12s 4ms/step - loss: 0.7183\n",
      "Epoch 115/200\n",
      "3061/3061 [==============================] - 12s 4ms/step - loss: 0.7169\n",
      "Epoch 116/200\n",
      "3061/3061 [==============================] - 12s 4ms/step - loss: 0.7178\n",
      "Epoch 117/200\n",
      "3061/3061 [==============================] - 13s 4ms/step - loss: 0.7173\n",
      "Epoch 118/200\n",
      "3061/3061 [==============================] - 12s 4ms/step - loss: 0.7180\n",
      "Epoch 119/200\n",
      "3061/3061 [==============================] - 12s 4ms/step - loss: 0.7165\n",
      "Epoch 120/200\n",
      "3061/3061 [==============================] - 12s 4ms/step - loss: 0.7176\n",
      "Epoch 121/200\n",
      "3061/3061 [==============================] - 12s 4ms/step - loss: 0.7173\n",
      "Epoch 122/200\n",
      "3061/3061 [==============================] - 12s 4ms/step - loss: 0.7186\n",
      "Epoch 123/200\n",
      "3061/3061 [==============================] - 12s 4ms/step - loss: 0.7170\n",
      "Epoch 124/200\n",
      "3061/3061 [==============================] - 13s 4ms/step - loss: 0.7181\n",
      "Epoch 125/200\n",
      "3061/3061 [==============================] - 13s 4ms/step - loss: 0.7178\n",
      "Epoch 126/200\n",
      "3061/3061 [==============================] - 13s 4ms/step - loss: 0.7174\n",
      "Epoch 127/200\n",
      "3061/3061 [==============================] - 12s 4ms/step - loss: 0.7168\n",
      "Epoch 128/200\n",
      "3061/3061 [==============================] - 12s 4ms/step - loss: 0.7166\n",
      "Epoch 129/200\n",
      "3061/3061 [==============================] - 13s 4ms/step - loss: 0.7175\n",
      "Epoch 130/200\n",
      "3061/3061 [==============================] - 12s 4ms/step - loss: 0.7176\n",
      "Epoch 131/200\n",
      "3061/3061 [==============================] - 12s 4ms/step - loss: 0.7167\n",
      "Epoch 132/200\n",
      "3061/3061 [==============================] - 12s 4ms/step - loss: 0.7169\n",
      "Epoch 133/200\n",
      "3061/3061 [==============================] - 12s 4ms/step - loss: 0.7160\n",
      "Epoch 134/200\n",
      "3061/3061 [==============================] - 12s 4ms/step - loss: 0.7167\n",
      "Epoch 135/200\n",
      "3061/3061 [==============================] - 12s 4ms/step - loss: 0.7151\n",
      "Epoch 136/200\n",
      "3061/3061 [==============================] - 13s 4ms/step - loss: 0.7162\n",
      "Epoch 137/200\n",
      "3061/3061 [==============================] - 12s 4ms/step - loss: 0.7157\n",
      "Epoch 138/200\n",
      "3061/3061 [==============================] - 12s 4ms/step - loss: 0.7169\n",
      "Epoch 139/200\n",
      "3061/3061 [==============================] - 12s 4ms/step - loss: 0.7152\n",
      "Epoch 140/200\n",
      "3061/3061 [==============================] - 12s 4ms/step - loss: 0.7146\n",
      "Epoch 141/200\n",
      "3061/3061 [==============================] - 13s 4ms/step - loss: 0.7152\n",
      "Epoch 142/200\n",
      "3061/3061 [==============================] - 12s 4ms/step - loss: 0.7153\n",
      "Epoch 143/200\n",
      "3061/3061 [==============================] - 13s 4ms/step - loss: 0.7162\n",
      "Epoch 144/200\n",
      "3061/3061 [==============================] - 12s 4ms/step - loss: 0.7144\n",
      "Epoch 145/200\n",
      "3061/3061 [==============================] - 12s 4ms/step - loss: 0.7157\n",
      "Epoch 146/200\n",
      "3061/3061 [==============================] - 12s 4ms/step - loss: 0.7154\n",
      "Epoch 147/200\n",
      "3061/3061 [==============================] - 12s 4ms/step - loss: 0.7164\n",
      "Epoch 148/200\n",
      "3061/3061 [==============================] - 12s 4ms/step - loss: 0.7146\n",
      "Epoch 149/200\n",
      "3061/3061 [==============================] - 12s 4ms/step - loss: 0.7146\n",
      "Epoch 150/200\n",
      "3061/3061 [==============================] - 12s 4ms/step - loss: 0.7158\n",
      "Epoch 151/200\n",
      "3061/3061 [==============================] - 12s 4ms/step - loss: 0.7155\n",
      "Epoch 152/200\n",
      "3061/3061 [==============================] - 12s 4ms/step - loss: 0.7152\n",
      "Epoch 153/200\n",
      "3061/3061 [==============================] - 12s 4ms/step - loss: 0.7149\n",
      "Epoch 154/200\n",
      "3061/3061 [==============================] - 12s 4ms/step - loss: 0.7145\n",
      "Epoch 155/200\n",
      "3061/3061 [==============================] - 12s 4ms/step - loss: 0.7142\n",
      "Epoch 156/200\n",
      "3061/3061 [==============================] - 12s 4ms/step - loss: 0.7152\n",
      "Epoch 157/200\n",
      "3061/3061 [==============================] - 12s 4ms/step - loss: 0.7153\n",
      "Epoch 158/200\n",
      "3061/3061 [==============================] - 12s 4ms/step - loss: 0.7145\n",
      "Epoch 159/200\n",
      "3061/3061 [==============================] - 12s 4ms/step - loss: 0.7142\n",
      "Epoch 160/200\n",
      "3061/3061 [==============================] - 13s 4ms/step - loss: 0.7151\n",
      "Epoch 161/200\n",
      "3061/3061 [==============================] - 12s 4ms/step - loss: 0.7145: 0s -\n",
      "Epoch 162/200\n",
      "3061/3061 [==============================] - 12s 4ms/step - loss: 0.7139\n",
      "Epoch 163/200\n",
      "3061/3061 [==============================] - 12s 4ms/step - loss: 0.7144\n",
      "Epoch 164/200\n",
      "3061/3061 [==============================] - 12s 4ms/step - loss: 0.7133\n",
      "Epoch 165/200\n",
      "3061/3061 [==============================] - 12s 4ms/step - loss: 0.7148\n",
      "Epoch 166/200\n",
      "3061/3061 [==============================] - 12s 4ms/step - loss: 0.7128\n",
      "Epoch 167/200\n",
      "3061/3061 [==============================] - 12s 4ms/step - loss: 0.7152\n",
      "Epoch 168/200\n",
      "3061/3061 [==============================] - 12s 4ms/step - loss: 0.7156\n",
      "Epoch 169/200\n",
      "3061/3061 [==============================] - 12s 4ms/step - loss: 0.7133\n",
      "Epoch 170/200\n",
      "3061/3061 [==============================] - 12s 4ms/step - loss: 0.7133\n",
      "Epoch 171/200\n",
      "3061/3061 [==============================] - 12s 4ms/step - loss: 0.7127\n",
      "Epoch 172/200\n",
      "3061/3061 [==============================] - 12s 4ms/step - loss: 0.7136\n",
      "Epoch 173/200\n",
      "3061/3061 [==============================] - 12s 4ms/step - loss: 0.7137\n",
      "Epoch 174/200\n",
      "3061/3061 [==============================] - 12s 4ms/step - loss: 0.7130\n",
      "Epoch 175/200\n",
      "3061/3061 [==============================] - 12s 4ms/step - loss: 0.7134\n",
      "Epoch 176/200\n",
      "3061/3061 [==============================] - 13s 4ms/step - loss: 0.7134\n",
      "Epoch 177/200\n",
      "3061/3061 [==============================] - 12s 4ms/step - loss: 0.7123\n",
      "Epoch 178/200\n",
      "3061/3061 [==============================] - 12s 4ms/step - loss: 0.7128\n",
      "Epoch 179/200\n",
      "3061/3061 [==============================] - 12s 4ms/step - loss: 0.7139\n",
      "Epoch 180/200\n",
      "3061/3061 [==============================] - 12s 4ms/step - loss: 0.7128\n",
      "Epoch 181/200\n",
      "3061/3061 [==============================] - 12s 4ms/step - loss: 0.7121\n",
      "Epoch 182/200\n",
      "3061/3061 [==============================] - 12s 4ms/step - loss: 0.7126\n",
      "Epoch 183/200\n",
      "3061/3061 [==============================] - 12s 4ms/step - loss: 0.7128\n",
      "Epoch 184/200\n",
      "3061/3061 [==============================] - 12s 4ms/step - loss: 0.7126\n",
      "Epoch 185/200\n",
      "3061/3061 [==============================] - 12s 4ms/step - loss: 0.7120\n",
      "Epoch 186/200\n",
      "3061/3061 [==============================] - 12s 4ms/step - loss: 0.7122\n",
      "Epoch 187/200\n",
      "3061/3061 [==============================] - 12s 4ms/step - loss: 0.7134\n",
      "Epoch 188/200\n",
      "3061/3061 [==============================] - 12s 4ms/step - loss: 0.7130\n",
      "Epoch 189/200\n",
      "3061/3061 [==============================] - 12s 4ms/step - loss: 0.7108\n",
      "Epoch 190/200\n"
     ]
    },
    {
     "name": "stdout",
     "output_type": "stream",
     "text": [
      "3061/3061 [==============================] - 12s 4ms/step - loss: 0.7120\n",
      "Epoch 191/200\n",
      "3061/3061 [==============================] - 12s 4ms/step - loss: 0.7117\n",
      "Epoch 192/200\n",
      "3061/3061 [==============================] - 12s 4ms/step - loss: 0.7122\n",
      "Epoch 193/200\n",
      "3061/3061 [==============================] - 12s 4ms/step - loss: 0.7124\n",
      "Epoch 194/200\n",
      "3061/3061 [==============================] - 12s 4ms/step - loss: 0.7127\n",
      "Epoch 195/200\n",
      "3061/3061 [==============================] - 12s 4ms/step - loss: 0.7124\n",
      "Epoch 196/200\n",
      "3061/3061 [==============================] - 12s 4ms/step - loss: 0.7117\n",
      "Epoch 197/200\n",
      "3061/3061 [==============================] - 12s 4ms/step - loss: 0.7123\n",
      "Epoch 198/200\n",
      "3061/3061 [==============================] - 12s 4ms/step - loss: 0.7111\n",
      "Epoch 199/200\n",
      "3061/3061 [==============================] - 12s 4ms/step - loss: 0.7123\n",
      "Epoch 200/200\n",
      "3061/3061 [==============================] - 12s 4ms/step - loss: 0.7113\n"
     ]
    }
   ],
   "source": [
    "# reshape input to be 3D [samples, timesteps, features]\n",
    "X_scaled_3d = X_scaled.reshape((X_scaled.shape[0], 1, X_scaled.shape[1]))\n",
    "y_scaled_3d = y_scaled.reshape((y_scaled.shape[0], 1, y_scaled.shape[1]))\n",
    "\n",
    "# 2-hidden layer lstm_model\n",
    "lstm_model = Sequential()\n",
    "lstm_model.add( LSTM(64, activation='relu', \n",
    "                     input_shape=(X_scaled_3d.shape[1], X_scaled_3d.shape[2])))\n",
    "lstm_model.add(BatchNormalization())\n",
    "\n",
    "lstm_model.add( Dense(32, activation='relu') )\n",
    "lstm_model.add(BatchNormalization())\n",
    "\n",
    "lstm_model.add( Dense(16, activation='relu') )\n",
    "lstm_model.add(BatchNormalization())\n",
    "lstm_model.add(Dropout(0.2))\n",
    "\n",
    "# Output Layer:\n",
    "lstm_model.add( Dense(1, activation='linear'))\n",
    "\n",
    "# Defining Loss function and Optimizer\n",
    "lstm_model.compile(loss='mse',optimizer='adam')  \n",
    "# Fitting\n",
    "lstm_model_fit = lstm_model.fit(X_scaled_3d, y_scaled_3d,batch_size=64, epochs=200, verbose=1);"
   ]
  },
  {
   "cell_type": "markdown",
   "metadata": {},
   "source": [
    "## 12. Pre-processing Predict dataset (Test)"
   ]
  },
  {
   "cell_type": "code",
   "execution_count": 94,
   "metadata": {},
   "outputs": [
    {
     "data": {
      "text/plain": [
       "(54778, 9)"
      ]
     },
     "execution_count": 94,
     "metadata": {},
     "output_type": "execute_result"
    }
   ],
   "source": [
    "test.shape"
   ]
  },
  {
   "cell_type": "code",
   "execution_count": 95,
   "metadata": {},
   "outputs": [],
   "source": [
    "# Day of the Week\n",
    "for i in test.index:\n",
    "    test.loc[i,'day_of_week'] = test.created_at[i].weekday()"
   ]
  },
  {
   "cell_type": "code",
   "execution_count": 96,
   "metadata": {},
   "outputs": [],
   "source": [
    "# Hour\n",
    "for i in test.index:\n",
    "    test.loc[i,'hour'] = test.created_at[i].hour"
   ]
  },
  {
   "cell_type": "code",
   "execution_count": 97,
   "metadata": {},
   "outputs": [],
   "source": [
    "# RushHour\n",
    "for i in test.index:\n",
    "    if (test.loc[i,'day_of_week'] < 5) and ( (test.loc[i,'hour'] >= 16.) and (test.loc[i,'hour'] < 19.) ):\n",
    "        test.loc[i,'rush_hour'] = 1\n",
    "    else:\n",
    "        test.loc[i,'rush_hour'] = 0"
   ]
  },
  {
   "cell_type": "code",
   "execution_count": 98,
   "metadata": {},
   "outputs": [
    {
     "data": {
      "text/plain": [
       "market_id                                        250\n",
       "created_at                                         0\n",
       "store_id                                           0\n",
       "subtotal                                           0\n",
       "total_onshift_dashers                           4633\n",
       "total_busy_dashers                              4633\n",
       "total_outstanding_orders                        4633\n",
       "estimated_store_to_consumer_driving_duration      11\n",
       "delivery_id                                        0\n",
       "day_of_week                                        0\n",
       "hour                                               0\n",
       "rush_hour                                          0\n",
       "dtype: int64"
      ]
     },
     "execution_count": 98,
     "metadata": {},
     "output_type": "execute_result"
    }
   ],
   "source": [
    "# Missing Values\n",
    "test.isnull().sum()"
   ]
  },
  {
   "cell_type": "markdown",
   "metadata": {},
   "source": [
    "the assumption to fill NAs with mean is based on the analysis done above where it was shown that *total_onshift_dashers*, *total_busy_dashers*  and *total_outstanding_orders*, *estimated_store_to_consumer_driving_duration* seem to have semi-normal distribution.\n",
    "\n",
    "Dropping them out implies around ~8.5% of the whole test data not being forecasted.\n",
    "\n",
    "The need to assume Train_average of these features is because all models (except for lasso) need all features in order to predict"
   ]
  },
  {
   "cell_type": "code",
   "execution_count": 99,
   "metadata": {},
   "outputs": [],
   "source": [
    "# filling NAs with Train (i.e. seen) mean\n",
    "test.total_onshift_dashers = test.total_onshift_dashers.fillna(df.total_onshift_dashers.mean())\n",
    "\n",
    "test.total_busy_dashers = test.total_busy_dashers.fillna(df.total_busy_dashers.mean())\n",
    "\n",
    "test.total_outstanding_orders = test.total_outstanding_orders.fillna(df.total_outstanding_orders.mean())\n",
    "\n",
    "test.estimated_store_to_consumer_driving_duration = test.estimated_store_to_consumer_driving_duration.fillna(df.estimated_store_to_consumer_driving_duration.mean())"
   ]
  },
  {
   "cell_type": "code",
   "execution_count": 100,
   "metadata": {},
   "outputs": [
    {
     "data": {
      "text/plain": [
       "(54778, 12)"
      ]
     },
     "execution_count": 100,
     "metadata": {},
     "output_type": "execute_result"
    }
   ],
   "source": [
    "test.shape"
   ]
  },
  {
   "cell_type": "code",
   "execution_count": 101,
   "metadata": {},
   "outputs": [
    {
     "data": {
      "text/plain": [
       "market_id                                       250\n",
       "created_at                                        0\n",
       "store_id                                          0\n",
       "subtotal                                          0\n",
       "total_onshift_dashers                             0\n",
       "total_busy_dashers                                0\n",
       "total_outstanding_orders                          0\n",
       "estimated_store_to_consumer_driving_duration      0\n",
       "delivery_id                                       0\n",
       "day_of_week                                       0\n",
       "hour                                              0\n",
       "rush_hour                                         0\n",
       "dtype: int64"
      ]
     },
     "execution_count": 101,
     "metadata": {},
     "output_type": "execute_result"
    }
   ],
   "source": [
    "test.isnull().sum()"
   ]
  },
  {
   "cell_type": "markdown",
   "metadata": {},
   "source": [
    "#### *market_id* missing values will be assumed to be 'market_id = = 1'. \n",
    "This is an oversimplification just to not dismiss any prediction.\n",
    "\n",
    "If these predictions are off, they only represent 0.5% on the whole Test set\n",
    "\n",
    "A more thorough approach would be to have a model that predicts (with a certain degree of probability) which market_id represents given similarities on the other features in the Train set (i.e. Clustering analysis).\n",
    "\n"
   ]
  },
  {
   "cell_type": "code",
   "execution_count": 107,
   "metadata": {},
   "outputs": [
    {
     "data": {
      "text/plain": [
       "Int64Index([540, 585, 1003], dtype='int64')"
      ]
     },
     "execution_count": 107,
     "metadata": {},
     "output_type": "execute_result"
    }
   ],
   "source": [
    "# indicies where market_id has NaN\n",
    "indicies = test[test.market_id.isna()]['market_id'].index[:3]\n",
    "indicies"
   ]
  },
  {
   "cell_type": "code",
   "execution_count": 124,
   "metadata": {},
   "outputs": [],
   "source": [
    "# filling market_id NAs with 1 -> this will assume it is market_id = 1\n",
    "test = test.fillna(1)"
   ]
  },
  {
   "cell_type": "code",
   "execution_count": 168,
   "metadata": {},
   "outputs": [
    {
     "data": {
      "text/plain": [
       "(54778, 17)"
      ]
     },
     "execution_count": 168,
     "metadata": {},
     "output_type": "execute_result"
    }
   ],
   "source": [
    "test.shape"
   ]
  },
  {
   "cell_type": "code",
   "execution_count": 126,
   "metadata": {},
   "outputs": [
    {
     "data": {
      "text/html": [
       "<div>\n",
       "<style scoped>\n",
       "    .dataframe tbody tr th:only-of-type {\n",
       "        vertical-align: middle;\n",
       "    }\n",
       "\n",
       "    .dataframe tbody tr th {\n",
       "        vertical-align: top;\n",
       "    }\n",
       "\n",
       "    .dataframe thead th {\n",
       "        text-align: right;\n",
       "    }\n",
       "</style>\n",
       "<table border=\"1\" class=\"dataframe\">\n",
       "  <thead>\n",
       "    <tr style=\"text-align: right;\">\n",
       "      <th></th>\n",
       "      <th>market_id</th>\n",
       "      <th>created_at</th>\n",
       "      <th>store_id</th>\n",
       "      <th>subtotal</th>\n",
       "      <th>total_onshift_dashers</th>\n",
       "      <th>total_busy_dashers</th>\n",
       "      <th>total_outstanding_orders</th>\n",
       "      <th>estimated_store_to_consumer_driving_duration</th>\n",
       "      <th>delivery_id</th>\n",
       "      <th>day_of_week</th>\n",
       "      <th>hour</th>\n",
       "      <th>rush_hour</th>\n",
       "    </tr>\n",
       "  </thead>\n",
       "  <tbody>\n",
       "    <tr>\n",
       "      <th>540</th>\n",
       "      <td>0.0</td>\n",
       "      <td>2015-02-22 01:32:11</td>\n",
       "      <td>3243</td>\n",
       "      <td>9300</td>\n",
       "      <td>44.0</td>\n",
       "      <td>44.0</td>\n",
       "      <td>36.0</td>\n",
       "      <td>451.0</td>\n",
       "      <td>77554</td>\n",
       "      <td>6.0</td>\n",
       "      <td>1.0</td>\n",
       "      <td>0.0</td>\n",
       "    </tr>\n",
       "    <tr>\n",
       "      <th>585</th>\n",
       "      <td>0.0</td>\n",
       "      <td>2015-02-22 23:31:56</td>\n",
       "      <td>5589</td>\n",
       "      <td>4890</td>\n",
       "      <td>11.0</td>\n",
       "      <td>11.0</td>\n",
       "      <td>9.0</td>\n",
       "      <td>323.0</td>\n",
       "      <td>98193</td>\n",
       "      <td>6.0</td>\n",
       "      <td>23.0</td>\n",
       "      <td>0.0</td>\n",
       "    </tr>\n",
       "    <tr>\n",
       "      <th>1003</th>\n",
       "      <td>0.0</td>\n",
       "      <td>2015-02-21 23:15:21</td>\n",
       "      <td>6252</td>\n",
       "      <td>890</td>\n",
       "      <td>29.0</td>\n",
       "      <td>28.0</td>\n",
       "      <td>43.0</td>\n",
       "      <td>199.0</td>\n",
       "      <td>79954</td>\n",
       "      <td>5.0</td>\n",
       "      <td>23.0</td>\n",
       "      <td>0.0</td>\n",
       "    </tr>\n",
       "  </tbody>\n",
       "</table>\n",
       "</div>"
      ],
      "text/plain": [
       "      market_id          created_at  store_id  subtotal  \\\n",
       "540         0.0 2015-02-22 01:32:11      3243      9300   \n",
       "585         0.0 2015-02-22 23:31:56      5589      4890   \n",
       "1003        0.0 2015-02-21 23:15:21      6252       890   \n",
       "\n",
       "      total_onshift_dashers  total_busy_dashers  total_outstanding_orders  \\\n",
       "540                    44.0                44.0                      36.0   \n",
       "585                    11.0                11.0                       9.0   \n",
       "1003                   29.0                28.0                      43.0   \n",
       "\n",
       "      estimated_store_to_consumer_driving_duration  delivery_id  day_of_week  \\\n",
       "540                                          451.0        77554          6.0   \n",
       "585                                          323.0        98193          6.0   \n",
       "1003                                         199.0        79954          5.0   \n",
       "\n",
       "      hour  rush_hour  \n",
       "540    1.0        0.0  \n",
       "585   23.0        0.0  \n",
       "1003  23.0        0.0  "
      ]
     },
     "execution_count": 126,
     "metadata": {},
     "output_type": "execute_result"
    }
   ],
   "source": [
    "# check\n",
    "test.loc[indicies,:]"
   ]
  },
  {
   "cell_type": "code",
   "execution_count": 127,
   "metadata": {},
   "outputs": [
    {
     "data": {
      "text/html": [
       "<div>\n",
       "<style scoped>\n",
       "    .dataframe tbody tr th:only-of-type {\n",
       "        vertical-align: middle;\n",
       "    }\n",
       "\n",
       "    .dataframe tbody tr th {\n",
       "        vertical-align: top;\n",
       "    }\n",
       "\n",
       "    .dataframe thead th {\n",
       "        text-align: right;\n",
       "    }\n",
       "</style>\n",
       "<table border=\"1\" class=\"dataframe\">\n",
       "  <thead>\n",
       "    <tr style=\"text-align: right;\">\n",
       "      <th></th>\n",
       "      <th>market_id_1.0</th>\n",
       "      <th>market_id_2.0</th>\n",
       "      <th>market_id_3.0</th>\n",
       "      <th>market_id_4.0</th>\n",
       "      <th>market_id_5.0</th>\n",
       "      <th>market_id_6.0</th>\n",
       "      <th>day_of_week_1.0</th>\n",
       "      <th>day_of_week_2.0</th>\n",
       "      <th>day_of_week_3.0</th>\n",
       "      <th>day_of_week_4.0</th>\n",
       "      <th>day_of_week_5.0</th>\n",
       "      <th>day_of_week_6.0</th>\n",
       "      <th>rush_hour_1.0</th>\n",
       "    </tr>\n",
       "  </thead>\n",
       "  <tbody>\n",
       "    <tr>\n",
       "      <th>0</th>\n",
       "      <td>0</td>\n",
       "      <td>0</td>\n",
       "      <td>1</td>\n",
       "      <td>0</td>\n",
       "      <td>0</td>\n",
       "      <td>0</td>\n",
       "      <td>0</td>\n",
       "      <td>1</td>\n",
       "      <td>0</td>\n",
       "      <td>0</td>\n",
       "      <td>0</td>\n",
       "      <td>0</td>\n",
       "      <td>0</td>\n",
       "    </tr>\n",
       "  </tbody>\n",
       "</table>\n",
       "</div>"
      ],
      "text/plain": [
       "   market_id_1.0  market_id_2.0  market_id_3.0  market_id_4.0  market_id_5.0  \\\n",
       "0              0              0              1              0              0   \n",
       "\n",
       "   market_id_6.0  day_of_week_1.0  day_of_week_2.0  day_of_week_3.0  \\\n",
       "0              0                0                1                0   \n",
       "\n",
       "   day_of_week_4.0  day_of_week_5.0  day_of_week_6.0  rush_hour_1.0  \n",
       "0                0                0                0              0  "
      ]
     },
     "execution_count": 127,
     "metadata": {},
     "output_type": "execute_result"
    }
   ],
   "source": [
    "# one-hot encoding categorical variables\n",
    "categorical = ['market_id','day_of_week','rush_hour']\n",
    "test_cat = pd.DataFrame(index=test.index)\n",
    "for col in categorical:\n",
    "    test_cat = test_cat.join(pd.get_dummies(test[col],\n",
    "                                                prefix=col,\n",
    "                                                prefix_sep='_',\n",
    "                                                drop_first=True) )\n",
    "test_cat.head(1)"
   ]
  },
  {
   "cell_type": "code",
   "execution_count": 128,
   "metadata": {},
   "outputs": [],
   "source": [
    "# join with numerical variables\n",
    "numerical = ['subtotal', 'total_onshift_dashers',\n",
    "             'total_busy_dashers','total_outstanding_orders',\n",
    "             'estimated_store_to_consumer_driving_duration']\n",
    "\n",
    "test = test[numerical].join(test_cat)"
   ]
  },
  {
   "cell_type": "markdown",
   "metadata": {},
   "source": [
    "Reminder: *'created_at'* is not used since it 'day_of_week', 'hour' and categorical  'rush_hour' extracts same information from it "
   ]
  },
  {
   "cell_type": "code",
   "execution_count": 169,
   "metadata": {},
   "outputs": [],
   "source": [
    "X_test = test"
   ]
  },
  {
   "cell_type": "code",
   "execution_count": 170,
   "metadata": {},
   "outputs": [],
   "source": [
    "# Scaling Features (only numerical variables)\n",
    "X_test_scaled = np.concatenate(\n",
    "    (scaler.fit_transform(X_test[ X_test.columns[:5] ]), # numerical features\n",
    "               np.array(X_test[ X_test.columns[5:] ]) ), # categorical features\n",
    "    axis=1)"
   ]
  },
  {
   "cell_type": "markdown",
   "metadata": {},
   "source": [
    "## 13. Predicting on Test set"
   ]
  },
  {
   "cell_type": "code",
   "execution_count": 173,
   "metadata": {},
   "outputs": [],
   "source": [
    "y_lasso_pred_scaled = lasso_fit.predict(X_test_scaled)"
   ]
  },
  {
   "cell_type": "code",
   "execution_count": 174,
   "metadata": {},
   "outputs": [],
   "source": [
    "y_ridge_pred_scaled = ridge_fit.predict(X_test_scaled)"
   ]
  },
  {
   "cell_type": "code",
   "execution_count": 175,
   "metadata": {},
   "outputs": [],
   "source": [
    "y_tree_pred_scaled = tree_fit.predict(X_test_scaled)"
   ]
  },
  {
   "cell_type": "code",
   "execution_count": 176,
   "metadata": {},
   "outputs": [],
   "source": [
    "y_bc_pred_scaled = bc_fit.predict(X_test_scaled)"
   ]
  },
  {
   "cell_type": "code",
   "execution_count": 177,
   "metadata": {},
   "outputs": [],
   "source": [
    "y_gbt_pred_scaled = gbt_fit.predict(X_test_scaled)"
   ]
  },
  {
   "cell_type": "code",
   "execution_count": 178,
   "metadata": {},
   "outputs": [],
   "source": [
    "y_nn_pred_scaled = nn_model.predict(X_test_scaled)"
   ]
  },
  {
   "cell_type": "code",
   "execution_count": 179,
   "metadata": {},
   "outputs": [],
   "source": [
    "# LSTM\n",
    "# reshape test set to 3D\n",
    "X_test_scaled_3d = X_test_scaled.reshape((X_test_scaled.shape[0], 1, X_test_scaled.shape[1]))\n",
    "\n",
    "y_lstm_pred_scaled = lstm_model.predict(X_test_scaled_3d)"
   ]
  },
  {
   "cell_type": "code",
   "execution_count": 180,
   "metadata": {},
   "outputs": [],
   "source": [
    "# Scaling back to original units\n",
    "\n",
    "# called again for reshaping scaler\n",
    "_scaled = scaler.fit_transform(np.array(X_test.iloc[:,0]).reshape(-1,1)) \n",
    "\n",
    "y_lasso_pred = scaler.inverse_transform(y_lasso_pred_scaled)\n",
    "y_ridge_pred = scaler.inverse_transform(y_ridge_pred_scaled)\n",
    "y_tree_pred = scaler.inverse_transform(y_tree_pred_scaled)\n",
    "y_bc_pred = scaler.inverse_transform(y_bc_pred_scaled)\n",
    "y_gbt_pred = scaler.inverse_transform(y_gbt_pred_scaled)\n",
    "y_nn_pred = scaler.inverse_transform(y_nn_pred_scaled)\n",
    "y_lstm_pred = scaler.inverse_transform(y_lstm_pred_scaled)"
   ]
  },
  {
   "cell_type": "markdown",
   "metadata": {},
   "source": [
    "#### adding predictions to predict dataset"
   ]
  },
  {
   "cell_type": "code",
   "execution_count": 185,
   "metadata": {},
   "outputs": [
    {
     "data": {
      "text/plain": [
       "Index(['subtotal', 'total_onshift_dashers', 'total_busy_dashers',\n",
       "       'total_outstanding_orders',\n",
       "       'estimated_store_to_consumer_driving_duration', 'market_id_2.0',\n",
       "       'market_id_3.0', 'market_id_4.0', 'market_id_5.0', 'market_id_6.0',\n",
       "       'day_of_week_1.0', 'day_of_week_2.0', 'day_of_week_3.0',\n",
       "       'day_of_week_4.0', 'day_of_week_5.0', 'day_of_week_6.0',\n",
       "       'rush_hour_1.0'],\n",
       "      dtype='object')"
      ]
     },
     "execution_count": 185,
     "metadata": {},
     "output_type": "execute_result"
    }
   ],
   "source": [
    "test.columns"
   ]
  },
  {
   "cell_type": "code",
   "execution_count": 187,
   "metadata": {},
   "outputs": [
    {
     "data": {
      "text/html": [
       "<div>\n",
       "<style scoped>\n",
       "    .dataframe tbody tr th:only-of-type {\n",
       "        vertical-align: middle;\n",
       "    }\n",
       "\n",
       "    .dataframe tbody tr th {\n",
       "        vertical-align: top;\n",
       "    }\n",
       "\n",
       "    .dataframe thead th {\n",
       "        text-align: right;\n",
       "    }\n",
       "</style>\n",
       "<table border=\"1\" class=\"dataframe\">\n",
       "  <thead>\n",
       "    <tr style=\"text-align: right;\">\n",
       "      <th></th>\n",
       "      <th>created_at</th>\n",
       "    </tr>\n",
       "  </thead>\n",
       "  <tbody>\n",
       "    <tr>\n",
       "      <th>0</th>\n",
       "      <td>2015-02-25 02:22:30</td>\n",
       "    </tr>\n",
       "    <tr>\n",
       "      <th>1</th>\n",
       "      <td>2015-02-25 01:14:19</td>\n",
       "    </tr>\n",
       "  </tbody>\n",
       "</table>\n",
       "</div>"
      ],
      "text/plain": [
       "           created_at\n",
       "0 2015-02-25 02:22:30\n",
       "1 2015-02-25 01:14:19"
      ]
     },
     "execution_count": 187,
     "metadata": {},
     "output_type": "execute_result"
    }
   ],
   "source": [
    "# bringing back 'created_at'\n",
    "created_at = pd.read_csv('predict_data.csv', parse_dates=['created_at'])[['created_at']]\n",
    "created_at.head(2)"
   ]
  },
  {
   "cell_type": "code",
   "execution_count": 189,
   "metadata": {},
   "outputs": [],
   "source": [
    "test = test.join(created_at,how='left')"
   ]
  },
  {
   "cell_type": "code",
   "execution_count": 190,
   "metadata": {},
   "outputs": [],
   "source": [
    "# prediction for Lasso\n",
    "for i in test.index:\n",
    "    test.loc[i,'lasso_pred'] = test.loc[i,'created_at'] + \\\n",
    "    datetime.timedelta(seconds=pd.Series(y_lasso_pred.round(0),\n",
    "                                         index=test.index).loc[i]\n",
    "                      )"
   ]
  },
  {
   "cell_type": "code",
   "execution_count": 191,
   "metadata": {},
   "outputs": [
    {
     "data": {
      "text/html": [
       "<div>\n",
       "<style scoped>\n",
       "    .dataframe tbody tr th:only-of-type {\n",
       "        vertical-align: middle;\n",
       "    }\n",
       "\n",
       "    .dataframe tbody tr th {\n",
       "        vertical-align: top;\n",
       "    }\n",
       "\n",
       "    .dataframe thead th {\n",
       "        text-align: right;\n",
       "    }\n",
       "</style>\n",
       "<table border=\"1\" class=\"dataframe\">\n",
       "  <thead>\n",
       "    <tr style=\"text-align: right;\">\n",
       "      <th></th>\n",
       "      <th>created_at</th>\n",
       "      <th>lasso_pred</th>\n",
       "    </tr>\n",
       "  </thead>\n",
       "  <tbody>\n",
       "    <tr>\n",
       "      <th>0</th>\n",
       "      <td>2015-02-25 02:22:30</td>\n",
       "      <td>2015-02-25 03:18:56</td>\n",
       "    </tr>\n",
       "    <tr>\n",
       "      <th>1</th>\n",
       "      <td>2015-02-25 01:14:19</td>\n",
       "      <td>2015-02-25 02:04:06</td>\n",
       "    </tr>\n",
       "    <tr>\n",
       "      <th>2</th>\n",
       "      <td>2015-02-22 02:27:44</td>\n",
       "      <td>2015-02-22 03:13:00</td>\n",
       "    </tr>\n",
       "    <tr>\n",
       "      <th>3</th>\n",
       "      <td>2015-02-25 01:32:39</td>\n",
       "      <td>2015-02-25 02:15:33</td>\n",
       "    </tr>\n",
       "    <tr>\n",
       "      <th>4</th>\n",
       "      <td>2015-02-24 05:20:45</td>\n",
       "      <td>2015-02-24 06:03:16</td>\n",
       "    </tr>\n",
       "  </tbody>\n",
       "</table>\n",
       "</div>"
      ],
      "text/plain": [
       "           created_at          lasso_pred\n",
       "0 2015-02-25 02:22:30 2015-02-25 03:18:56\n",
       "1 2015-02-25 01:14:19 2015-02-25 02:04:06\n",
       "2 2015-02-22 02:27:44 2015-02-22 03:13:00\n",
       "3 2015-02-25 01:32:39 2015-02-25 02:15:33\n",
       "4 2015-02-24 05:20:45 2015-02-24 06:03:16"
      ]
     },
     "execution_count": 191,
     "metadata": {},
     "output_type": "execute_result"
    }
   ],
   "source": [
    "test[['created_at','lasso_pred']].head()"
   ]
  },
  {
   "cell_type": "code",
   "execution_count": 192,
   "metadata": {},
   "outputs": [],
   "source": [
    "# prediction for Ridge Regression\n",
    "for i in test.index:\n",
    "    test.loc[i,'ridge_pred'] = test.loc[i,'created_at'] + \\\n",
    "    datetime.timedelta(seconds=pd.Series(y_ridge_pred.reshape(-1).round(0),\n",
    "                                         index=test.index).loc[i]\n",
    "                      )"
   ]
  },
  {
   "cell_type": "code",
   "execution_count": 193,
   "metadata": {},
   "outputs": [
    {
     "data": {
      "text/html": [
       "<div>\n",
       "<style scoped>\n",
       "    .dataframe tbody tr th:only-of-type {\n",
       "        vertical-align: middle;\n",
       "    }\n",
       "\n",
       "    .dataframe tbody tr th {\n",
       "        vertical-align: top;\n",
       "    }\n",
       "\n",
       "    .dataframe thead th {\n",
       "        text-align: right;\n",
       "    }\n",
       "</style>\n",
       "<table border=\"1\" class=\"dataframe\">\n",
       "  <thead>\n",
       "    <tr style=\"text-align: right;\">\n",
       "      <th></th>\n",
       "      <th>created_at</th>\n",
       "      <th>ridge_pred</th>\n",
       "    </tr>\n",
       "  </thead>\n",
       "  <tbody>\n",
       "    <tr>\n",
       "      <th>0</th>\n",
       "      <td>2015-02-25 02:22:30</td>\n",
       "      <td>2015-02-25 03:26:34</td>\n",
       "    </tr>\n",
       "    <tr>\n",
       "      <th>1</th>\n",
       "      <td>2015-02-25 01:14:19</td>\n",
       "      <td>2015-02-25 02:08:46</td>\n",
       "    </tr>\n",
       "    <tr>\n",
       "      <th>2</th>\n",
       "      <td>2015-02-22 02:27:44</td>\n",
       "      <td>2015-02-22 03:14:02</td>\n",
       "    </tr>\n",
       "    <tr>\n",
       "      <th>3</th>\n",
       "      <td>2015-02-25 01:32:39</td>\n",
       "      <td>2015-02-25 02:19:15</td>\n",
       "    </tr>\n",
       "    <tr>\n",
       "      <th>4</th>\n",
       "      <td>2015-02-24 05:20:45</td>\n",
       "      <td>2015-02-24 06:08:11</td>\n",
       "    </tr>\n",
       "  </tbody>\n",
       "</table>\n",
       "</div>"
      ],
      "text/plain": [
       "           created_at          ridge_pred\n",
       "0 2015-02-25 02:22:30 2015-02-25 03:26:34\n",
       "1 2015-02-25 01:14:19 2015-02-25 02:08:46\n",
       "2 2015-02-22 02:27:44 2015-02-22 03:14:02\n",
       "3 2015-02-25 01:32:39 2015-02-25 02:19:15\n",
       "4 2015-02-24 05:20:45 2015-02-24 06:08:11"
      ]
     },
     "execution_count": 193,
     "metadata": {},
     "output_type": "execute_result"
    }
   ],
   "source": [
    "test[['created_at','ridge_pred']].head()"
   ]
  },
  {
   "cell_type": "code",
   "execution_count": 194,
   "metadata": {},
   "outputs": [],
   "source": [
    "# prediction for Decission Tree\n",
    "for i in test.index:\n",
    "    test.loc[i,'tree_pred'] = test.loc[i,'created_at'] + \\\n",
    "    datetime.timedelta(seconds=pd.Series(y_tree_pred.reshape(-1).round(0),\n",
    "                                         index=test.index).loc[i]\n",
    "                      )"
   ]
  },
  {
   "cell_type": "code",
   "execution_count": 195,
   "metadata": {},
   "outputs": [
    {
     "data": {
      "text/html": [
       "<div>\n",
       "<style scoped>\n",
       "    .dataframe tbody tr th:only-of-type {\n",
       "        vertical-align: middle;\n",
       "    }\n",
       "\n",
       "    .dataframe tbody tr th {\n",
       "        vertical-align: top;\n",
       "    }\n",
       "\n",
       "    .dataframe thead th {\n",
       "        text-align: right;\n",
       "    }\n",
       "</style>\n",
       "<table border=\"1\" class=\"dataframe\">\n",
       "  <thead>\n",
       "    <tr style=\"text-align: right;\">\n",
       "      <th></th>\n",
       "      <th>created_at</th>\n",
       "      <th>tree_pred</th>\n",
       "    </tr>\n",
       "  </thead>\n",
       "  <tbody>\n",
       "    <tr>\n",
       "      <th>0</th>\n",
       "      <td>2015-02-25 02:22:30</td>\n",
       "      <td>2015-02-25 03:21:48</td>\n",
       "    </tr>\n",
       "    <tr>\n",
       "      <th>1</th>\n",
       "      <td>2015-02-25 01:14:19</td>\n",
       "      <td>2015-02-25 02:00:34</td>\n",
       "    </tr>\n",
       "    <tr>\n",
       "      <th>2</th>\n",
       "      <td>2015-02-22 02:27:44</td>\n",
       "      <td>2015-02-22 03:13:59</td>\n",
       "    </tr>\n",
       "    <tr>\n",
       "      <th>3</th>\n",
       "      <td>2015-02-25 01:32:39</td>\n",
       "      <td>2015-02-25 02:22:57</td>\n",
       "    </tr>\n",
       "    <tr>\n",
       "      <th>4</th>\n",
       "      <td>2015-02-24 05:20:45</td>\n",
       "      <td>2015-02-24 06:11:03</td>\n",
       "    </tr>\n",
       "  </tbody>\n",
       "</table>\n",
       "</div>"
      ],
      "text/plain": [
       "           created_at           tree_pred\n",
       "0 2015-02-25 02:22:30 2015-02-25 03:21:48\n",
       "1 2015-02-25 01:14:19 2015-02-25 02:00:34\n",
       "2 2015-02-22 02:27:44 2015-02-22 03:13:59\n",
       "3 2015-02-25 01:32:39 2015-02-25 02:22:57\n",
       "4 2015-02-24 05:20:45 2015-02-24 06:11:03"
      ]
     },
     "execution_count": 195,
     "metadata": {},
     "output_type": "execute_result"
    }
   ],
   "source": [
    "test[['created_at','tree_pred']].head()"
   ]
  },
  {
   "cell_type": "code",
   "execution_count": 196,
   "metadata": {},
   "outputs": [],
   "source": [
    "# prediction for Bagging Regressor\n",
    "for i in test.index:\n",
    "    test.loc[i,'bc_pred'] = test.loc[i,'created_at'] + \\\n",
    "    datetime.timedelta(seconds=pd.Series(y_bc_pred.reshape(-1).round(0),\n",
    "                                         index=test.index).loc[i]\n",
    "                      )"
   ]
  },
  {
   "cell_type": "code",
   "execution_count": 197,
   "metadata": {},
   "outputs": [
    {
     "data": {
      "text/html": [
       "<div>\n",
       "<style scoped>\n",
       "    .dataframe tbody tr th:only-of-type {\n",
       "        vertical-align: middle;\n",
       "    }\n",
       "\n",
       "    .dataframe tbody tr th {\n",
       "        vertical-align: top;\n",
       "    }\n",
       "\n",
       "    .dataframe thead th {\n",
       "        text-align: right;\n",
       "    }\n",
       "</style>\n",
       "<table border=\"1\" class=\"dataframe\">\n",
       "  <thead>\n",
       "    <tr style=\"text-align: right;\">\n",
       "      <th></th>\n",
       "      <th>created_at</th>\n",
       "      <th>bc_pred</th>\n",
       "    </tr>\n",
       "  </thead>\n",
       "  <tbody>\n",
       "    <tr>\n",
       "      <th>0</th>\n",
       "      <td>2015-02-25 02:22:30</td>\n",
       "      <td>2015-02-25 03:21:15</td>\n",
       "    </tr>\n",
       "    <tr>\n",
       "      <th>1</th>\n",
       "      <td>2015-02-25 01:14:19</td>\n",
       "      <td>2015-02-25 02:00:26</td>\n",
       "    </tr>\n",
       "    <tr>\n",
       "      <th>2</th>\n",
       "      <td>2015-02-22 02:27:44</td>\n",
       "      <td>2015-02-22 03:15:25</td>\n",
       "    </tr>\n",
       "    <tr>\n",
       "      <th>3</th>\n",
       "      <td>2015-02-25 01:32:39</td>\n",
       "      <td>2015-02-25 02:17:57</td>\n",
       "    </tr>\n",
       "    <tr>\n",
       "      <th>4</th>\n",
       "      <td>2015-02-24 05:20:45</td>\n",
       "      <td>2015-02-24 06:07:36</td>\n",
       "    </tr>\n",
       "  </tbody>\n",
       "</table>\n",
       "</div>"
      ],
      "text/plain": [
       "           created_at             bc_pred\n",
       "0 2015-02-25 02:22:30 2015-02-25 03:21:15\n",
       "1 2015-02-25 01:14:19 2015-02-25 02:00:26\n",
       "2 2015-02-22 02:27:44 2015-02-22 03:15:25\n",
       "3 2015-02-25 01:32:39 2015-02-25 02:17:57\n",
       "4 2015-02-24 05:20:45 2015-02-24 06:07:36"
      ]
     },
     "execution_count": 197,
     "metadata": {},
     "output_type": "execute_result"
    }
   ],
   "source": [
    "test[['created_at','bc_pred']].head()"
   ]
  },
  {
   "cell_type": "code",
   "execution_count": 198,
   "metadata": {},
   "outputs": [],
   "source": [
    "# prediction for Gradient Boosting\n",
    "for i in test.index:\n",
    "    test.loc[i,'gbt_pred'] = test.loc[i,'created_at'] + \\\n",
    "    datetime.timedelta(seconds=pd.Series(y_gbt_pred.reshape(-1).round(0),\n",
    "                                         index=test.index).loc[i]\n",
    "                      )"
   ]
  },
  {
   "cell_type": "code",
   "execution_count": 199,
   "metadata": {},
   "outputs": [
    {
     "data": {
      "text/html": [
       "<div>\n",
       "<style scoped>\n",
       "    .dataframe tbody tr th:only-of-type {\n",
       "        vertical-align: middle;\n",
       "    }\n",
       "\n",
       "    .dataframe tbody tr th {\n",
       "        vertical-align: top;\n",
       "    }\n",
       "\n",
       "    .dataframe thead th {\n",
       "        text-align: right;\n",
       "    }\n",
       "</style>\n",
       "<table border=\"1\" class=\"dataframe\">\n",
       "  <thead>\n",
       "    <tr style=\"text-align: right;\">\n",
       "      <th></th>\n",
       "      <th>created_at</th>\n",
       "      <th>gbt_pred</th>\n",
       "    </tr>\n",
       "  </thead>\n",
       "  <tbody>\n",
       "    <tr>\n",
       "      <th>0</th>\n",
       "      <td>2015-02-25 02:22:30</td>\n",
       "      <td>2015-02-25 03:35:54</td>\n",
       "    </tr>\n",
       "    <tr>\n",
       "      <th>1</th>\n",
       "      <td>2015-02-25 01:14:19</td>\n",
       "      <td>2015-02-25 02:13:56</td>\n",
       "    </tr>\n",
       "    <tr>\n",
       "      <th>2</th>\n",
       "      <td>2015-02-22 02:27:44</td>\n",
       "      <td>2015-02-22 03:11:59</td>\n",
       "    </tr>\n",
       "    <tr>\n",
       "      <th>3</th>\n",
       "      <td>2015-02-25 01:32:39</td>\n",
       "      <td>2015-02-25 02:25:49</td>\n",
       "    </tr>\n",
       "    <tr>\n",
       "      <th>4</th>\n",
       "      <td>2015-02-24 05:20:45</td>\n",
       "      <td>2015-02-24 06:24:18</td>\n",
       "    </tr>\n",
       "  </tbody>\n",
       "</table>\n",
       "</div>"
      ],
      "text/plain": [
       "           created_at            gbt_pred\n",
       "0 2015-02-25 02:22:30 2015-02-25 03:35:54\n",
       "1 2015-02-25 01:14:19 2015-02-25 02:13:56\n",
       "2 2015-02-22 02:27:44 2015-02-22 03:11:59\n",
       "3 2015-02-25 01:32:39 2015-02-25 02:25:49\n",
       "4 2015-02-24 05:20:45 2015-02-24 06:24:18"
      ]
     },
     "execution_count": 199,
     "metadata": {},
     "output_type": "execute_result"
    }
   ],
   "source": [
    "test[['created_at','gbt_pred']].head()"
   ]
  },
  {
   "cell_type": "code",
   "execution_count": 201,
   "metadata": {},
   "outputs": [],
   "source": [
    "# prediction for Neural Network\n",
    "for i in test.index:\n",
    "    test.loc[i,'nn_model_pred'] = test.loc[i,'created_at'] + \\\n",
    "    datetime.timedelta(seconds=pd.Series(y_nn_pred.reshape(-1).astype('float64').round(0),\n",
    "                                         index=test.index).loc[i]\n",
    "                      )"
   ]
  },
  {
   "cell_type": "code",
   "execution_count": 202,
   "metadata": {},
   "outputs": [
    {
     "data": {
      "text/html": [
       "<div>\n",
       "<style scoped>\n",
       "    .dataframe tbody tr th:only-of-type {\n",
       "        vertical-align: middle;\n",
       "    }\n",
       "\n",
       "    .dataframe tbody tr th {\n",
       "        vertical-align: top;\n",
       "    }\n",
       "\n",
       "    .dataframe thead th {\n",
       "        text-align: right;\n",
       "    }\n",
       "</style>\n",
       "<table border=\"1\" class=\"dataframe\">\n",
       "  <thead>\n",
       "    <tr style=\"text-align: right;\">\n",
       "      <th></th>\n",
       "      <th>created_at</th>\n",
       "      <th>nn_model_pred</th>\n",
       "    </tr>\n",
       "  </thead>\n",
       "  <tbody>\n",
       "    <tr>\n",
       "      <th>0</th>\n",
       "      <td>2015-02-25 02:22:30</td>\n",
       "      <td>2015-02-25 03:24:56</td>\n",
       "    </tr>\n",
       "    <tr>\n",
       "      <th>1</th>\n",
       "      <td>2015-02-25 01:14:19</td>\n",
       "      <td>2015-02-25 02:01:35</td>\n",
       "    </tr>\n",
       "    <tr>\n",
       "      <th>2</th>\n",
       "      <td>2015-02-22 02:27:44</td>\n",
       "      <td>2015-02-22 03:13:43</td>\n",
       "    </tr>\n",
       "    <tr>\n",
       "      <th>3</th>\n",
       "      <td>2015-02-25 01:32:39</td>\n",
       "      <td>2015-02-25 02:31:09</td>\n",
       "    </tr>\n",
       "    <tr>\n",
       "      <th>4</th>\n",
       "      <td>2015-02-24 05:20:45</td>\n",
       "      <td>2015-02-24 06:21:30</td>\n",
       "    </tr>\n",
       "  </tbody>\n",
       "</table>\n",
       "</div>"
      ],
      "text/plain": [
       "           created_at       nn_model_pred\n",
       "0 2015-02-25 02:22:30 2015-02-25 03:24:56\n",
       "1 2015-02-25 01:14:19 2015-02-25 02:01:35\n",
       "2 2015-02-22 02:27:44 2015-02-22 03:13:43\n",
       "3 2015-02-25 01:32:39 2015-02-25 02:31:09\n",
       "4 2015-02-24 05:20:45 2015-02-24 06:21:30"
      ]
     },
     "execution_count": 202,
     "metadata": {},
     "output_type": "execute_result"
    }
   ],
   "source": [
    "test[['created_at','nn_model_pred']].head()"
   ]
  },
  {
   "cell_type": "code",
   "execution_count": 203,
   "metadata": {},
   "outputs": [],
   "source": [
    "# prediction LSTM Neural Network\n",
    "for i in test.index:\n",
    "    test.loc[i,'lstm_model_pred'] = test.loc[i,'created_at'] + \\\n",
    "    datetime.timedelta(seconds=pd.Series(y_lstm_pred.reshape(-1).astype('float64').round(0),\n",
    "                                         index=test.index).loc[i]\n",
    "                      )"
   ]
  },
  {
   "cell_type": "code",
   "execution_count": 204,
   "metadata": {},
   "outputs": [
    {
     "data": {
      "text/html": [
       "<div>\n",
       "<style scoped>\n",
       "    .dataframe tbody tr th:only-of-type {\n",
       "        vertical-align: middle;\n",
       "    }\n",
       "\n",
       "    .dataframe tbody tr th {\n",
       "        vertical-align: top;\n",
       "    }\n",
       "\n",
       "    .dataframe thead th {\n",
       "        text-align: right;\n",
       "    }\n",
       "</style>\n",
       "<table border=\"1\" class=\"dataframe\">\n",
       "  <thead>\n",
       "    <tr style=\"text-align: right;\">\n",
       "      <th></th>\n",
       "      <th>created_at</th>\n",
       "      <th>lstm_model_pred</th>\n",
       "    </tr>\n",
       "  </thead>\n",
       "  <tbody>\n",
       "    <tr>\n",
       "      <th>0</th>\n",
       "      <td>2015-02-25 02:22:30</td>\n",
       "      <td>2015-02-25 03:20:18</td>\n",
       "    </tr>\n",
       "    <tr>\n",
       "      <th>1</th>\n",
       "      <td>2015-02-25 01:14:19</td>\n",
       "      <td>2015-02-25 01:48:58</td>\n",
       "    </tr>\n",
       "    <tr>\n",
       "      <th>2</th>\n",
       "      <td>2015-02-22 02:27:44</td>\n",
       "      <td>2015-02-22 03:16:09</td>\n",
       "    </tr>\n",
       "    <tr>\n",
       "      <th>3</th>\n",
       "      <td>2015-02-25 01:32:39</td>\n",
       "      <td>2015-02-25 02:27:32</td>\n",
       "    </tr>\n",
       "    <tr>\n",
       "      <th>4</th>\n",
       "      <td>2015-02-24 05:20:45</td>\n",
       "      <td>2015-02-24 06:09:27</td>\n",
       "    </tr>\n",
       "  </tbody>\n",
       "</table>\n",
       "</div>"
      ],
      "text/plain": [
       "           created_at     lstm_model_pred\n",
       "0 2015-02-25 02:22:30 2015-02-25 03:20:18\n",
       "1 2015-02-25 01:14:19 2015-02-25 01:48:58\n",
       "2 2015-02-22 02:27:44 2015-02-22 03:16:09\n",
       "3 2015-02-25 01:32:39 2015-02-25 02:27:32\n",
       "4 2015-02-24 05:20:45 2015-02-24 06:09:27"
      ]
     },
     "execution_count": 204,
     "metadata": {},
     "output_type": "execute_result"
    }
   ],
   "source": [
    "test[['created_at','lstm_model_pred']].head()"
   ]
  },
  {
   "cell_type": "code",
   "execution_count": 231,
   "metadata": {},
   "outputs": [
    {
     "data": {
      "text/html": [
       "<div>\n",
       "<style scoped>\n",
       "    .dataframe tbody tr th:only-of-type {\n",
       "        vertical-align: middle;\n",
       "    }\n",
       "\n",
       "    .dataframe tbody tr th {\n",
       "        vertical-align: top;\n",
       "    }\n",
       "\n",
       "    .dataframe thead th {\n",
       "        text-align: right;\n",
       "    }\n",
       "</style>\n",
       "<table border=\"1\" class=\"dataframe\">\n",
       "  <thead>\n",
       "    <tr style=\"text-align: right;\">\n",
       "      <th></th>\n",
       "      <th>created_at</th>\n",
       "      <th>lasso_pred</th>\n",
       "      <th>ridge_pred</th>\n",
       "      <th>tree_pred</th>\n",
       "      <th>bc_pred</th>\n",
       "      <th>gbt_pred</th>\n",
       "      <th>nn_model_pred</th>\n",
       "      <th>lstm_model_pred</th>\n",
       "    </tr>\n",
       "  </thead>\n",
       "  <tbody>\n",
       "    <tr>\n",
       "      <th>0</th>\n",
       "      <td>2015-02-25 02:22:30</td>\n",
       "      <td>2015-02-25 03:18:56</td>\n",
       "      <td>2015-02-25 03:26:34</td>\n",
       "      <td>2015-02-25 03:21:48</td>\n",
       "      <td>2015-02-25 03:21:15</td>\n",
       "      <td>2015-02-25 03:35:54</td>\n",
       "      <td>2015-02-25 03:24:56</td>\n",
       "      <td>2015-02-25 03:20:18</td>\n",
       "    </tr>\n",
       "    <tr>\n",
       "      <th>1</th>\n",
       "      <td>2015-02-25 01:14:19</td>\n",
       "      <td>2015-02-25 02:04:06</td>\n",
       "      <td>2015-02-25 02:08:46</td>\n",
       "      <td>2015-02-25 02:00:34</td>\n",
       "      <td>2015-02-25 02:00:26</td>\n",
       "      <td>2015-02-25 02:13:56</td>\n",
       "      <td>2015-02-25 02:01:35</td>\n",
       "      <td>2015-02-25 01:48:58</td>\n",
       "    </tr>\n",
       "    <tr>\n",
       "      <th>2</th>\n",
       "      <td>2015-02-22 02:27:44</td>\n",
       "      <td>2015-02-22 03:13:00</td>\n",
       "      <td>2015-02-22 03:14:02</td>\n",
       "      <td>2015-02-22 03:13:59</td>\n",
       "      <td>2015-02-22 03:15:25</td>\n",
       "      <td>2015-02-22 03:11:59</td>\n",
       "      <td>2015-02-22 03:13:43</td>\n",
       "      <td>2015-02-22 03:16:09</td>\n",
       "    </tr>\n",
       "    <tr>\n",
       "      <th>3</th>\n",
       "      <td>2015-02-25 01:32:39</td>\n",
       "      <td>2015-02-25 02:15:33</td>\n",
       "      <td>2015-02-25 02:19:15</td>\n",
       "      <td>2015-02-25 02:22:57</td>\n",
       "      <td>2015-02-25 02:17:57</td>\n",
       "      <td>2015-02-25 02:25:49</td>\n",
       "      <td>2015-02-25 02:31:09</td>\n",
       "      <td>2015-02-25 02:27:32</td>\n",
       "    </tr>\n",
       "    <tr>\n",
       "      <th>4</th>\n",
       "      <td>2015-02-24 05:20:45</td>\n",
       "      <td>2015-02-24 06:03:16</td>\n",
       "      <td>2015-02-24 06:08:11</td>\n",
       "      <td>2015-02-24 06:11:03</td>\n",
       "      <td>2015-02-24 06:07:36</td>\n",
       "      <td>2015-02-24 06:24:18</td>\n",
       "      <td>2015-02-24 06:21:30</td>\n",
       "      <td>2015-02-24 06:09:27</td>\n",
       "    </tr>\n",
       "    <tr>\n",
       "      <th>...</th>\n",
       "      <td>...</td>\n",
       "      <td>...</td>\n",
       "      <td>...</td>\n",
       "      <td>...</td>\n",
       "      <td>...</td>\n",
       "      <td>...</td>\n",
       "      <td>...</td>\n",
       "      <td>...</td>\n",
       "    </tr>\n",
       "    <tr>\n",
       "      <th>54773</th>\n",
       "      <td>2015-02-20 18:11:18</td>\n",
       "      <td>2015-02-20 18:56:34</td>\n",
       "      <td>2015-02-20 18:56:56</td>\n",
       "      <td>2015-02-20 19:01:36</td>\n",
       "      <td>2015-02-20 19:01:48</td>\n",
       "      <td>2015-02-20 18:57:56</td>\n",
       "      <td>2015-02-20 18:50:42</td>\n",
       "      <td>2015-02-20 18:51:10</td>\n",
       "    </tr>\n",
       "    <tr>\n",
       "      <th>54774</th>\n",
       "      <td>2015-02-21 21:01:44</td>\n",
       "      <td>2015-02-21 21:41:25</td>\n",
       "      <td>2015-02-21 21:44:35</td>\n",
       "      <td>2015-02-21 21:33:53</td>\n",
       "      <td>2015-02-21 21:37:44</td>\n",
       "      <td>2015-02-21 21:50:04</td>\n",
       "      <td>2015-02-21 21:46:09</td>\n",
       "      <td>2015-02-21 21:46:22</td>\n",
       "    </tr>\n",
       "    <tr>\n",
       "      <th>54775</th>\n",
       "      <td>2015-02-21 18:19:19</td>\n",
       "      <td>2015-02-21 18:56:36</td>\n",
       "      <td>2015-02-21 19:01:21</td>\n",
       "      <td>2015-02-21 19:05:34</td>\n",
       "      <td>2015-02-21 19:04:30</td>\n",
       "      <td>2015-02-21 19:07:57</td>\n",
       "      <td>2015-02-21 19:02:53</td>\n",
       "      <td>2015-02-21 19:03:18</td>\n",
       "    </tr>\n",
       "    <tr>\n",
       "      <th>54776</th>\n",
       "      <td>2015-02-19 23:43:26</td>\n",
       "      <td>2015-02-20 00:24:15</td>\n",
       "      <td>2015-02-20 00:30:49</td>\n",
       "      <td>2015-02-20 00:33:44</td>\n",
       "      <td>2015-02-20 00:28:02</td>\n",
       "      <td>2015-02-20 00:46:14</td>\n",
       "      <td>2015-02-20 00:51:36</td>\n",
       "      <td>2015-02-20 00:50:49</td>\n",
       "    </tr>\n",
       "    <tr>\n",
       "      <th>54777</th>\n",
       "      <td>2015-02-23 02:27:02</td>\n",
       "      <td>2015-02-23 03:07:59</td>\n",
       "      <td>2015-02-23 03:00:37</td>\n",
       "      <td>2015-02-23 03:06:27</td>\n",
       "      <td>2015-02-23 03:02:30</td>\n",
       "      <td>2015-02-23 03:13:03</td>\n",
       "      <td>2015-02-23 03:05:18</td>\n",
       "      <td>2015-02-23 02:57:22</td>\n",
       "    </tr>\n",
       "  </tbody>\n",
       "</table>\n",
       "<p>54778 rows × 8 columns</p>\n",
       "</div>"
      ],
      "text/plain": [
       "               created_at          lasso_pred          ridge_pred  \\\n",
       "0     2015-02-25 02:22:30 2015-02-25 03:18:56 2015-02-25 03:26:34   \n",
       "1     2015-02-25 01:14:19 2015-02-25 02:04:06 2015-02-25 02:08:46   \n",
       "2     2015-02-22 02:27:44 2015-02-22 03:13:00 2015-02-22 03:14:02   \n",
       "3     2015-02-25 01:32:39 2015-02-25 02:15:33 2015-02-25 02:19:15   \n",
       "4     2015-02-24 05:20:45 2015-02-24 06:03:16 2015-02-24 06:08:11   \n",
       "...                   ...                 ...                 ...   \n",
       "54773 2015-02-20 18:11:18 2015-02-20 18:56:34 2015-02-20 18:56:56   \n",
       "54774 2015-02-21 21:01:44 2015-02-21 21:41:25 2015-02-21 21:44:35   \n",
       "54775 2015-02-21 18:19:19 2015-02-21 18:56:36 2015-02-21 19:01:21   \n",
       "54776 2015-02-19 23:43:26 2015-02-20 00:24:15 2015-02-20 00:30:49   \n",
       "54777 2015-02-23 02:27:02 2015-02-23 03:07:59 2015-02-23 03:00:37   \n",
       "\n",
       "                tree_pred             bc_pred            gbt_pred  \\\n",
       "0     2015-02-25 03:21:48 2015-02-25 03:21:15 2015-02-25 03:35:54   \n",
       "1     2015-02-25 02:00:34 2015-02-25 02:00:26 2015-02-25 02:13:56   \n",
       "2     2015-02-22 03:13:59 2015-02-22 03:15:25 2015-02-22 03:11:59   \n",
       "3     2015-02-25 02:22:57 2015-02-25 02:17:57 2015-02-25 02:25:49   \n",
       "4     2015-02-24 06:11:03 2015-02-24 06:07:36 2015-02-24 06:24:18   \n",
       "...                   ...                 ...                 ...   \n",
       "54773 2015-02-20 19:01:36 2015-02-20 19:01:48 2015-02-20 18:57:56   \n",
       "54774 2015-02-21 21:33:53 2015-02-21 21:37:44 2015-02-21 21:50:04   \n",
       "54775 2015-02-21 19:05:34 2015-02-21 19:04:30 2015-02-21 19:07:57   \n",
       "54776 2015-02-20 00:33:44 2015-02-20 00:28:02 2015-02-20 00:46:14   \n",
       "54777 2015-02-23 03:06:27 2015-02-23 03:02:30 2015-02-23 03:13:03   \n",
       "\n",
       "            nn_model_pred     lstm_model_pred  \n",
       "0     2015-02-25 03:24:56 2015-02-25 03:20:18  \n",
       "1     2015-02-25 02:01:35 2015-02-25 01:48:58  \n",
       "2     2015-02-22 03:13:43 2015-02-22 03:16:09  \n",
       "3     2015-02-25 02:31:09 2015-02-25 02:27:32  \n",
       "4     2015-02-24 06:21:30 2015-02-24 06:09:27  \n",
       "...                   ...                 ...  \n",
       "54773 2015-02-20 18:50:42 2015-02-20 18:51:10  \n",
       "54774 2015-02-21 21:46:09 2015-02-21 21:46:22  \n",
       "54775 2015-02-21 19:02:53 2015-02-21 19:03:18  \n",
       "54776 2015-02-20 00:51:36 2015-02-20 00:50:49  \n",
       "54777 2015-02-23 03:05:18 2015-02-23 02:57:22  \n",
       "\n",
       "[54778 rows x 8 columns]"
      ]
     },
     "execution_count": 231,
     "metadata": {},
     "output_type": "execute_result"
    }
   ],
   "source": [
    "# all predictions\n",
    "test[['created_at','lasso_pred','ridge_pred', 'tree_pred', 'bc_pred', 'gbt_pred','nn_model_pred','lstm_model_pred']]"
   ]
  },
  {
   "cell_type": "markdown",
   "metadata": {},
   "source": [
    "## 14. Exporting Predictions"
   ]
  },
  {
   "cell_type": "code",
   "execution_count": 229,
   "metadata": {},
   "outputs": [],
   "source": [
    "test.to_csv('predict_data_results.csv',index=True)"
   ]
  }
 ],
 "metadata": {
  "kernelspec": {
   "display_name": "Python 3",
   "language": "python",
   "name": "python3"
  },
  "language_info": {
   "codemirror_mode": {
    "name": "ipython",
    "version": 3
   },
   "file_extension": ".py",
   "mimetype": "text/x-python",
   "name": "python",
   "nbconvert_exporter": "python",
   "pygments_lexer": "ipython3",
   "version": "3.8.3"
  }
 },
 "nbformat": 4,
 "nbformat_minor": 4
}
